{
 "cells": [
  {
   "cell_type": "markdown",
   "metadata": {},
   "source": [
    "# Kevitsa VTEM "
   ]
  },
  {
   "cell_type": "code",
   "execution_count": null,
   "metadata": {},
   "outputs": [],
   "source": [
    "from SimPEG import Mesh, EM, Utils, Maps\n",
    "from matplotlib.colors import LogNorm\n",
    "%pylab inline\n",
    "import numpy as np\n",
    "from scipy.constants import mu_0\n",
    "from ipywidgets import interact, IntSlider\n",
    "import cPickle as pickle"
   ]
  },
  {
   "cell_type": "code",
   "execution_count": null,
   "metadata": {},
   "outputs": [],
   "source": [
    "url = \"https://storage.googleapis.com/simpeg/kevitsa_synthetic/\"\n",
    "files = ['dcmesh.p']\n",
    "keys = ['mesh']\n",
    "downloads = Utils.download([url + f for f in files], folder='./KevitsaDC', overwrite=True)\n",
    "downloads = dict(zip(keys, downloads))"
   ]
  },
  {
   "cell_type": "markdown",
   "metadata": {},
   "source": [
    "## Model\n",
    "\n",
    "This model is a synthetic based on geologic surfaces interpreted from seismic data over the Kevitsa deposit in Finland. Synthetic 3D conductivity model is generated, and below figure shows conductivity section acrosses the mineralzined zone of interest. Nearsurface conductor on the lefthand side corresponds to sedimentary unit, and embedded conductor on the righthand side indicates conductive mineralized zone. Our interest here is in conductive mineralized zone at depth. "
   ]
  },
  {
   "cell_type": "code",
   "execution_count": null,
   "metadata": {},
   "outputs": [],
   "source": [
    "dc_dict = pickle.load(open(downloads['mesh'], \"rb\"))\n",
    "mesh3D = dc_dict[\"mesh\"]\n",
    "sigmadc = dc_dict[\"sigma\"]\n",
    "topo = dc_dict[\"topo\"]\n",
    "actind = ~np.isnan(sigmadc)\n",
    "figsize(8, 4)\n",
    "indy = 6\n",
    "temp = 1./sigmadc.copy()\n",
    "temp[~actind] = np.nan\n",
    "out = mesh3D.plotSlice(temp, normal=\"Y\", ind=indy, pcolorOpts={\"norm\": LogNorm(), \"cmap\":\"jet_r\"}, clim=(1e0, 1e3))\n",
    "plt.ylim(-800, 250)\n",
    "plt.xlim(5000, 11000)\n",
    "plt.gca().set_aspect(2.)\n",
    "plt.title((\"y= %d m\")%(mesh3D.vectorCCy[indy]))\n",
    "cb = plt.colorbar(out[0], orientation=\"horizontal\")\n",
    "cb.set_label(\"Resistivity (Ohm-m)\")"
   ]
  },
  {
   "cell_type": "markdown",
   "metadata": {},
   "source": [
    "## Question: \n",
    "\n",
    "Can we see mineralized zone at depth (~200 m) using airborne EM?\n",
    "To answer this question, we simplify our model as a) conductive layer and b) conductive cylinder embedded at depth. "
   ]
  },
  {
   "cell_type": "markdown",
   "metadata": {},
   "source": [
    "## Mesh\n",
    "\n",
    "We use symmetric cylindrical mesh to simulate airborne time domain EM with this simplied model. Below code show how you design mesh. "
   ]
  },
  {
   "cell_type": "code",
   "execution_count": null,
   "metadata": {},
   "outputs": [],
   "source": [
    "sig_halfspace = 2e-3\n",
    "sig_target = 0.1\n",
    "sig_air = 1e-8\n",
    "times = np.logspace(-4, -2, 21)\n",
    "def diffusion_distance(sigma, time):\n",
    "    return 1.28*np.sqrt(time/(sigma * mu_0))\n",
    "\n",
    "print(\n",
    "    'min diffusion distance: {:.2e} m'.format(diffusion_distance(sig_halfspace, times.min()))\n",
    ")\n",
    "print(\n",
    "    'max diffusion distance: {:.2e} m'.format(diffusion_distance(sig_halfspace, times.max()))\n",
    ")\n",
    "\n",
    "# x-direction\n",
    "csx = 20  # core mesh cell width in the x-direction\n",
    "ncx = 20\n",
    "npadx = 15  # number of x padding cells\n",
    "\n",
    "# z-direction\n",
    "csz = 20  # core mesh cell width in the z-direction\n",
    "ncz = 40\n",
    "npadz = 15  # number of z padding cells\n",
    "\n",
    "# padding factor (expand cells to infinity)\n",
    "pf = 1.3\n",
    "\n",
    "# cell spacings in the x and z directions\n",
    "hx = Utils.meshTensor([(csx, ncx), (csx, npadx, pf)])\n",
    "hz = Utils.meshTensor([(csz, npadz, -pf), (csz, ncz), (csz, npadz, pf)])\n",
    "\n",
    "# define a SimPEG mesh\n",
    "mesh = Mesh.CylMesh([hx, 1, hz], x0 =\"00C\")"
   ]
  },
  {
   "cell_type": "code",
   "execution_count": null,
   "metadata": {},
   "outputs": [],
   "source": [
    "# X and Z limits we want to plot to. Try \n",
    "xlim = np.r_[0., mesh.vectorCCx.max()]\n",
    "zlim = np.r_[mesh.vectorCCz.max(), mesh.vectorCCz.min()]\n",
    "\n",
    "fig, ax = plt.subplots(1,1)\n",
    "mesh.plotGrid(ax=ax)\n",
    "\n",
    "ax.set_title('Simulation Mesh')\n",
    "ax.set_xlim(xlim)\n",
    "ax.set_ylim(zlim)\n",
    "\n",
    "print(\n",
    "    'The maximum diffusion distance (in background) is: {:.2e} m. '\n",
    "    'Does the mesh go sufficiently past that?'.format(\n",
    "        diffusion_distance(sig_halfspace, times.max())\n",
    "    )\n",
    ")\n",
    "ax.set_aspect(\"equal\")"
   ]
  },
  {
   "cell_type": "markdown",
   "metadata": {},
   "source": [
    "Next, we put the model on the mesh"
   ]
  },
  {
   "cell_type": "code",
   "execution_count": null,
   "metadata": {
    "collapsed": true
   },
   "outputs": [],
   "source": [
    "# create a vector that has one entry for every cell center\n",
    "sigma = sig_air*np.ones(mesh.nC)  # start by defining the conductivity of the air everwhere\n",
    "sigma[mesh.gridCC[:,2] < 0.] = sig_halfspace  # assign halfspace cells below the earth\n",
    "sigma_background = sigma.copy()\n",
    "sigma_layer = sigma.copy()\n",
    "radius = 150.\n",
    "# indices of the sphere (where (x-x0)**2 + (z-z0)**2 <= R**2)\n",
    "layer_ind = np.logical_and(mesh.gridCC[:,2]>-300, mesh.gridCC[:,2]<-200)\n",
    "blk_ind = (mesh.gridCC[:,0] < radius) & layer_ind\n",
    "sigma[blk_ind] = sig_target  # assign the conductivity of the sphere\n",
    "sigma_layer[layer_ind] = sig_target  # assign the conductivity of the sphere"
   ]
  },
  {
   "cell_type": "code",
   "execution_count": null,
   "metadata": {},
   "outputs": [],
   "source": [
    "plt.set_cmap(plt.get_cmap('jet_r'))\n",
    "# Plot a cross section of the conductivity model\n",
    "fig, ax = plt.subplots(1,1)\n",
    "out = mesh.plotImage(np.log10(1./sigma_layer), ax=ax, mirror=True, clim=(0, 3), grid=False)\n",
    "cb = plt.colorbar(out[0], ticks=np.linspace(0,3,4), format=\"10$^{%.1f}$\")\n",
    "# plot formatting and titles\n",
    "cb.set_label('Resistivity (Ohm-m)', fontsize=13)\n",
    "ax.axis('equal')\n",
    "ax.set_xlim([-120., 120.])\n",
    "ax.set_ylim([-500., 0.])\n",
    "ax.set_title('Layer')"
   ]
  },
  {
   "cell_type": "code",
   "execution_count": null,
   "metadata": {},
   "outputs": [],
   "source": [
    "# Plot a cross section of the conductivity model\n",
    "fig, ax = plt.subplots(1,1)\n",
    "out = mesh.plotImage(np.log10(1./sigma), ax=ax, mirror=True, clim=(0, 3), grid=False)\n",
    "# plot formatting and titles\n",
    "cb = plt.colorbar(out[0], ticks=np.linspace(0,3,4), format=\"10$^{%.1f}$\")\n",
    "# plot formatting and titles\n",
    "cb.set_label('Resistivity (Ohm-m)', fontsize=13)\n",
    "ax.axis('equal')\n",
    "ax.set_xlim([-120., 120.])\n",
    "ax.set_ylim([-500., 0.])\n",
    "ax.set_title('Cylinder')"
   ]
  },
  {
   "cell_type": "markdown",
   "metadata": {},
   "source": [
    "## Forward Simulation \n",
    "\n",
    "Define source and receiver loop location, and put parameters of the waveform. Here we use a current loop source having 13m-radius and measure db/dt in vertical direction inside of the loop. Both loops are located 41m above the surface. "
   ]
  },
  {
   "cell_type": "code",
   "execution_count": null,
   "metadata": {
    "collapsed": true
   },
   "outputs": [],
   "source": [
    "rx_loc = np.array([[0., 0., 41.]])\n",
    "src_loc = np.array([[0., 0., 41.]])\n",
    "offTime = 0.007307\n",
    "peakTime = 0.006\n",
    "a = 3.\n",
    "dbdt_z = EM.TDEM.Rx.Point_dbdt(locs=rx_loc, times=times+offTime, orientation='z')  # vertical db_dt\n",
    "rxList = [dbdt_z]  # list of receivers\n",
    "srcList = [\n",
    "    EM.TDEM.Src.CircularLoop(\n",
    "        rxList, loc=src_loc, radius=13., orientation='z', waveform=EM.TDEM.Src.VTEMWaveform(offTime=offTime, peakTime=peakTime, a=3.)\n",
    "    )\n",
    "]"
   ]
  },
  {
   "cell_type": "code",
   "execution_count": null,
   "metadata": {
    "collapsed": true
   },
   "outputs": [],
   "source": [
    "# solve the problem at these times\n",
    "timeSteps = [(peakTime/5, 5), ((offTime-peakTime)/5, 5), (1e-5, 10), (5e-5, 10), (1e-4, 10), (5e-4, 19)] \n",
    "prob = EM.TDEM.Problem3D_b(mesh, timeSteps = timeSteps, sigmaMap=Maps.IdentityMap(mesh))  \n",
    "survey = EM.TDEM.Survey(srcList)\n",
    "prob.pair(survey)  "
   ]
  },
  {
   "cell_type": "code",
   "execution_count": null,
   "metadata": {
    "collapsed": true
   },
   "outputs": [],
   "source": [
    "src = srcList[0]\n",
    "rx = src.rxList[0]\n",
    "wave = []\n",
    "for time in prob.times:\n",
    "    wave.append(src.waveform.eval(time))\n",
    "wave = np.hstack(wave)"
   ]
  },
  {
   "cell_type": "code",
   "execution_count": null,
   "metadata": {
    "scrolled": false
   },
   "outputs": [],
   "source": [
    "plt.plot(prob.times, wave, 'k.-')\n",
    "plt.plot(rx.times, np.zeros_like(rx.times), 'r.')\n",
    "plt.ylim(-0.2, 1.2)\n",
    "plt.grid(True)\n",
    "plt.title('Current Waveform')\n",
    "plt.xlabel('time (s)')"
   ]
  },
  {
   "cell_type": "markdown",
   "metadata": {},
   "source": [
    "## Compute Predicted Data\n",
    "\n",
    "We compute three different data: a) background (halfspace), b) layer, and d) cylinder models. "
   ]
  },
  {
   "cell_type": "code",
   "execution_count": null,
   "metadata": {},
   "outputs": [],
   "source": [
    "d_background = survey.dpred(sigma_background)\n",
    "d_layer = survey.dpred(sigma_layer)\n",
    "d = survey.dpred(sigma)"
   ]
  },
  {
   "cell_type": "code",
   "execution_count": null,
   "metadata": {},
   "outputs": [],
   "source": [
    "area = 13**2*np.pi \n",
    "figsize(6, 3)\n",
    "plt.loglog((rx.times-offTime)*1e6, -d_layer*1e12/area, 'k', lw=2)\n",
    "plt.loglog((rx.times-offTime)*1e6, -d*1e12/area , 'b', lw=2)\n",
    "plt.loglog((rx.times-offTime)*1e6, -d_background*1e12/area, 'k--', lw=1)\n",
    "\n",
    "plt.xlabel(\"Time (micro-s)\")\n",
    "plt.ylabel(\"Voltage (pV/A-m$^4$)\")\n",
    "plt.legend((\"Layer\", \"Cylinder\",\"Half-space\"), loc=1, fontsize = 10)\n",
    "plt.ylim(1e-4, 1e1)\n",
    "plt.grid(True)"
   ]
  },
  {
   "cell_type": "markdown",
   "metadata": {},
   "source": [
    "### Question:\n",
    "\n",
    "What was your thoughts on the above plot? Can we see conductive mineralzied zone?\n",
    "Singals from Layer and Cylinder have significant difference, can you explain why? \n",
    "\n",
    "Underlying physics of the measured voltage can be govered by Faraday's law:\n",
    "\n",
    "$$ \\nabla \\times \\vec{e} - \\frac{d\\vec{b}}{dt}$$\n",
    "\n",
    "By showing how electric field propagates in the subsurface we illustrate why layer and cylinder model show significant difference. "
   ]
  },
  {
   "cell_type": "markdown",
   "metadata": {},
   "source": [
    "### Electric field in the layer model"
   ]
  },
  {
   "cell_type": "code",
   "execution_count": null,
   "metadata": {
    "collapsed": true
   },
   "outputs": [],
   "source": [
    "f_layer = prob.fields(sigma_layer)"
   ]
  },
  {
   "cell_type": "code",
   "execution_count": null,
   "metadata": {},
   "outputs": [],
   "source": [
    "plt.set_cmap(plt.get_cmap('viridis'))\n",
    "def vizfield_layer(itime):\n",
    "    fig = plt.figure(figsize = (7*0.8,5*0.8))\n",
    "    ax = plt.subplot(111)\n",
    "    cb = plt.colorbar(mesh.plotImage(mesh.aveE2CC*f_layer[src, 'e', itime], ax=ax, mirror=True)[0])\n",
    "    # plot formatting and titles\n",
    "    cb.set_label('e$_{y}$ (V/m)', fontsize=13)\n",
    "    ax.axis('equal')\n",
    "    ax.set_xlim([-300., 300.])\n",
    "    ax.set_ylim([-500., 0.])\n",
    "    ax.set_title(('|e$_{y}$| at %d micro-s')%(prob.times[itime]*1e6))\n",
    "    plt.show()\n",
    "interact(vizfield_layer, itime=IntSlider(min=0, max=len(prob.times)-1, step=1, value=11))"
   ]
  },
  {
   "cell_type": "markdown",
   "metadata": {},
   "source": [
    "### Electric Field in the Cylinder model"
   ]
  },
  {
   "cell_type": "code",
   "execution_count": null,
   "metadata": {
    "collapsed": true
   },
   "outputs": [],
   "source": [
    "f = prob.fields(sigma)"
   ]
  },
  {
   "cell_type": "code",
   "execution_count": null,
   "metadata": {},
   "outputs": [],
   "source": [
    "def vizfield_cylinder(itime):\n",
    "    fig = plt.figure(figsize = (7*0.8,5*0.8))\n",
    "    ax = plt.subplot(111)\n",
    "    cb = plt.colorbar(mesh.plotImage(mesh.aveE2CC*f[src, 'e', itime], ax=ax, mirror=True)[0])\n",
    "    # plot formatting and titles\n",
    "    cb.set_label('e$_{y}$ (V/m)', fontsize=13)\n",
    "#     ax.axis('equal')\n",
    "    ax.set_xlim([-300., 300.])\n",
    "    ax.set_ylim([-500., 0.])\n",
    "    ax.set_title(('|e$_{y}$| at %d micro-s')%(prob.times[itime]*1e6))\n",
    "    plt.tight_layout()\n",
    "    plt.show()\n",
    "interact(vizfield_cylinder, itime=IntSlider(min=0, max=len(prob.times)-1, step=1, value=11))    "
   ]
  }
 ],
 "metadata": {
  "anaconda-cloud": {},
  "kernelspec": {
   "display_name": "Python [default]",
   "language": "python",
   "name": "python2"
  },
  "language_info": {
   "codemirror_mode": {
    "name": "ipython",
    "version": 2
   },
   "file_extension": ".py",
   "mimetype": "text/x-python",
   "name": "python",
   "nbconvert_exporter": "python",
   "pygments_lexer": "ipython2",
   "version": "2.7.12"
  },
  "widgets": {
   "state": {
    "506aef42051b45218ebc888ce726be41": {
     "views": [
      {
       "cell_index": 20
      }
     ]
    },
    "82397cbbf1ad432f8e84844f2dc9298b": {
     "views": [
      {
       "cell_index": 23
      }
     ]
    }
   },
   "version": "1.2.0"
  }
 },
 "nbformat": 4,
 "nbformat_minor": 1
}
