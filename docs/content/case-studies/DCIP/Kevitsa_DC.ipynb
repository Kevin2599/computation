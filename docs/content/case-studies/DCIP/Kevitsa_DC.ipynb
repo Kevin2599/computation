{
 "cells": [
  {
   "cell_type": "markdown",
   "metadata": {},
   "source": [
    "# Kevitsa DC Forward Similation"
   ]
  },
  {
   "cell_type": "code",
   "execution_count": null,
   "metadata": {},
   "outputs": [],
   "source": [
    "import cPickle as pickle\n",
    "from SimPEG import EM, Mesh, Utils, Maps\n",
    "from SimPEG.Survey import Data\n",
    "import numpy as np\n",
    "from pymatsolver import PardisoSolver\n",
    "from matplotlib.colors import LogNorm\n",
    "from ipywidgets import interact, IntSlider\n",
    "plt.set_cmap(plt.get_cmap('jet_r'))\n",
    "%pylab inline"
   ]
  },
  {
   "cell_type": "markdown",
   "metadata": {},
   "source": [
    "## Setup\n",
    "\n",
    "We have stored the data and simulation mesh so that they can just be downloaded and used here"
   ]
  },
  {
   "cell_type": "code",
   "execution_count": null,
   "metadata": {},
   "outputs": [],
   "source": [
    "url = \"https://storage.googleapis.com/simpeg/kevitsa_synthetic/\"\n",
    "files = ['dcipdata_12150N.p', 'dcmesh.p']\n",
    "keys = ['data', 'mesh']\n",
    "downloads = Utils.download([url + f for f in files], folder='./KevitsaDC', overwrite=True)\n",
    "downloads = dict(zip(keys, downloads))"
   ]
  },
  {
   "cell_type": "code",
   "execution_count": null,
   "metadata": {},
   "outputs": [],
   "source": [
    "dc_dict = pickle.load(open(downloads['mesh'], \"rb\"))\n",
    "mesh = dc_dict[\"mesh\"]\n",
    "sigma = dc_dict[\"sigma\"]\n",
    "topo = dc_dict[\"topo\"]\n",
    "actind = ~np.isnan(sigma)\n",
    "mesh.plotGrid()"
   ]
  },
  {
   "cell_type": "markdown",
   "metadata": {},
   "source": [
    "## Model\n",
    "\n",
    "This model is a synthetic based on geologic surfaces interpreted from seismic data over the Kevitsa deposit in Finland. Synthetic 3D conductivity model is generated, and below figure shows conductivity section acrosses the mineralzined zone of interest. Nearsurface conductor on the lefthand side corresponds to sedimentary unit, and embedded conductor on the righthand side indicates conductive mineralized zone. "
   ]
  },
  {
   "cell_type": "code",
   "execution_count": null,
   "metadata": {},
   "outputs": [],
   "source": [
    "figsize(8, 4)\n",
    "indy = 6\n",
    "temp = 1./sigma.copy()\n",
    "temp[~actind] = np.nan\n",
    "out = mesh.plotSlice(temp, normal=\"Y\", ind=indy, pcolorOpts={\"norm\": LogNorm(), \"cmap\":\"jet_r\"}, clim=(1e0, 1e3))\n",
    "plt.ylim(-800, 250)\n",
    "plt.xlim(5000, 11000)\n",
    "plt.gca().set_aspect(2.)\n",
    "plt.title((\"y= %d m\")%(mesh.vectorCCy[indy]))\n",
    "cb = plt.colorbar(out[0], orientation=\"horizontal\")\n",
    "cb.set_label(\"Resistivity (Ohm-m)\")"
   ]
  },
  {
   "cell_type": "markdown",
   "metadata": {},
   "source": [
    "## Survey\n",
    "\n",
    "Direct current (DC) resisistivity and IP survey have been perforemd by using Titan24 system; pole-dpole array was used. We use a same survey set up at 12150N line, having 61 current sources (poles). Largest offset between current pole and potential eletrodes are around 2 km. We read in field data using below script, and form a DC survey object that we can pass to our DC problem."
   ]
  },
  {
   "cell_type": "code",
   "execution_count": null,
   "metadata": {
    "collapsed": true
   },
   "outputs": [],
   "source": [
    "def getGeometricFactor(locA, locB, locsM, locsN, eps = 0.01):    \n",
    "    \"\"\"\n",
    "    Geometric factor for a pole-dipole survey\n",
    "    \"\"\"\n",
    "    MA = np.abs(locA[0] - locsM[:, 0]) \n",
    "    MB = np.abs(locB[0] - locsM[:, 0]) \n",
    "    NA = np.abs(locA[0] - locsN[:, 0]) \n",
    "    NB = np.abs(locB[0] - locsN[:, 0])     \n",
    "    geometric = 1./(2*np.pi) * (1/MA - 1/NA)\n",
    "    return geometric"
   ]
  },
  {
   "cell_type": "code",
   "execution_count": null,
   "metadata": {},
   "outputs": [],
   "source": [
    "dcipdata = pickle.load(open(downloads['data'], \"rb\"))\n",
    "A = dcipdata[\"A\"]\n",
    "B = dcipdata[\"B\"]\n",
    "M = dcipdata[\"M\"]\n",
    "N = dcipdata[\"N\"]\n",
    "Elec_locs = np.vstack((A, B, M, N))\n",
    "uniqElec = Utils.uniqueRows(Elec_locs)\n",
    "nElec = len(uniqElec[1])\n",
    "pts = np.c_[uniqElec[0][:,0],  uniqElec[0][:,1]]\n",
    "elec_topo = EM.Static.Utils.drapeTopotoLoc(mesh, pts[:,:2], actind=actind)\n",
    "Elec_locsz = np.ones(Elec_locs.shape[0]) * np.nan\n",
    "\n",
    "for iElec in range (nElec):\n",
    "    inds = np.argwhere(uniqElec[2] == iElec)\n",
    "    Elec_locsz[inds] = elec_topo[iElec,2] \n",
    "    \n",
    "Elec_locs = np.c_[Elec_locs, Elec_locsz]\n",
    "nloc = int(Elec_locs.shape[0]/4)\n",
    "A = Elec_locs[:nloc]\n",
    "B = Elec_locs[nloc:2*nloc]\n",
    "M = Elec_locs[2*nloc:3*nloc]\n",
    "N = Elec_locs[3*nloc:4*nloc]\n",
    "\n",
    "uniq = Utils.uniqueRows(np.c_[A, B])\n",
    "nSrc = len(uniq[1])\n",
    "mid_AB = A[:,0]\n",
    "mid_MN = (M[:,0] + N[:,0]) * 0.5\n",
    "mid_z = -abs(mid_AB - mid_MN) * 0.4\n",
    "mid_x = abs(mid_AB + mid_MN) * 0.5"
   ]
  },
  {
   "cell_type": "code",
   "execution_count": null,
   "metadata": {
    "collapsed": true
   },
   "outputs": [],
   "source": [
    "srcLists = []\n",
    "appres = []\n",
    "geometric = []\n",
    "voltage = []\n",
    "inds_data = []\n",
    "\n",
    "for iSrc in range (nSrc):\n",
    "    inds = uniq[2] == iSrc\n",
    "    # TODO: y-location should be assigned ...\n",
    "    locsM = M[inds,:]\n",
    "    locsN = N[inds,:]        \n",
    "    inds_data.append(np.arange(len(inds))[inds])\n",
    "    rx = EM.Static.DC.Rx.Dipole(locsM, locsN)    \n",
    "    locA = uniq[0][iSrc,:3]\n",
    "    locB = uniq[0][iSrc,3:]    \n",
    "    src = EM.Static.DC.Src.Pole([rx], locA)        \n",
    "#     src = EM.Static.DC.Src.Dipole([rx], locA, locB)    \n",
    "    geometric.append(getGeometricFactor(locA, locB, locsM, locsN))    \n",
    "    appres.append(dcipdata[\"appRho\"][inds])\n",
    "    voltage.append(dcipdata[\"Vp\"][inds])\n",
    "    srcLists.append(src)\n",
    "inds_data = np.hstack(inds_data)\n",
    "geometric = np.hstack(geometric)\n",
    "dobs_appres = np.hstack(appres)\n",
    "dobs_voltage = np.hstack(voltage) * 1e-3\n",
    "DCsurvey = EM.Static.DC.Survey(srcLists)\n",
    "DCsurvey.dobs = dobs_voltage"
   ]
  },
  {
   "cell_type": "markdown",
   "metadata": {},
   "source": [
    "## Problem\n",
    "\n",
    "This is a physics behind DC resistivity survey.  Here we solve Poisson's equation and compute potential in our discretized domain. Survey information is required to run simulation. "
   ]
  },
  {
   "cell_type": "code",
   "execution_count": null,
   "metadata": {
    "collapsed": true
   },
   "outputs": [],
   "source": [
    "m0 = np.ones(actind.sum())*np.log(1e-3)\n",
    "actMap = Maps.InjectActiveCells(mesh, actind, np.log(1e-8))\n",
    "mapping = Maps.ExpMap(mesh) * actMap\n",
    "problem = EM.Static.DC.Problem3D_N(mesh, sigmaMap=mapping)\n",
    "problem.Solver = PardisoSolver\n",
    "if DCsurvey.ispaired:\n",
    "    DCsurvey.unpair()\n",
    "problem.pair(DCsurvey)"
   ]
  },
  {
   "cell_type": "markdown",
   "metadata": {},
   "source": [
    "## Forward Simulation\n",
    "Things are set. Now we can run simulaton by passing conductivity model to the DC problem. "
   ]
  },
  {
   "cell_type": "code",
   "execution_count": null,
   "metadata": {},
   "outputs": [],
   "source": [
    "f = problem.fields(np.log(sigma)[actind])\n",
    "dpred = DCsurvey.dpred(np.log(sigma)[actind], f=f)\n",
    "appres = dpred / geometric\n",
    "dcdata = Data(DCsurvey, v=dpred)\n",
    "appresdata = Data(DCsurvey, v=appres)"
   ]
  },
  {
   "cell_type": "markdown",
   "metadata": {},
   "source": [
    "### Plot the Data\n",
    "\n",
    "We are going to plot simulated data for each current pole. By moving slider bar below, you can explore the data at different current pole location. We provide both voltage and apparent resistivity. "
   ]
  },
  {
   "cell_type": "code",
   "execution_count": null,
   "metadata": {},
   "outputs": [],
   "source": [
    "def vizdata(isrc):\n",
    "    fig = plt.figure(figsize = (7, 2))\n",
    "    src = srcLists[isrc]\n",
    "    rx = src.rxList[0]    \n",
    "    data_temp = dcdata[src, rx]\n",
    "    appres_temp = appresdata[src, rx]\n",
    "    midx = (rx.locs[0][:,0] + rx.locs[1][:,0]) * 0.5\n",
    "    midz = (rx.locs[0][:,2] + rx.locs[1][:,2]) * 0.5\n",
    "    ax = plt.subplot(111)\n",
    "    ax_1 = ax.twinx()\n",
    "    ax.plot(midx, data_temp, 'k.-')\n",
    "    ax_1.plot(midx, appres_temp, 'r.-')\n",
    "    ax.set_xlim(5000, 11000)\n",
    "    ax.set_ylabel(\"Voltage\")\n",
    "    ax_1.set_ylabel(\"$\\\\rho_a$ (Ohm-m)\")\n",
    "    ax.grid(True)\n",
    "    plt.show()\n",
    "interact(vizdata, isrc=(0, DCsurvey.nSrc-1, 1))"
   ]
  },
  {
   "cell_type": "markdown",
   "metadata": {},
   "source": [
    "### Plot the currents\n",
    "\n",
    "Did you understand simluated data? why they are changing? Here we show how currents flow in the earth medium. Similarly, you can move slider bar to see how current changes depending upon current source location. "
   ]
  },
  {
   "cell_type": "code",
   "execution_count": null,
   "metadata": {},
   "outputs": [],
   "source": [
    "fig = plt.figure(figsize = (7, 1.5))\n",
    "def vizJ(isrc):\n",
    "    indy = 6\n",
    "    src = srcLists[isrc]\n",
    "    rx = src.rxList[0]\n",
    "    out = mesh.plotSlice(f[src, 'j'], vType=\"E\", normal=\"Y\", view=\"vec\", ind=indy, streamOpts={\"color\":\"k\"}, pcolorOpts={\"norm\": LogNorm(), \"cmap\":\"viridis\"}, clim=(1e-10, 1e-4))\n",
    "    plt.plot(src.loc[0], src.loc[1], 'ro')\n",
    "    plt.ylim(-800, 250)\n",
    "    plt.xlim(5000, 11000)\n",
    "    plt.gca().set_aspect(2.)\n",
    "    # plt.title((\"y= %d m\")%(mesh.vectorCCy[indy]))\n",
    "    plt.title(\"\")\n",
    "    cb = plt.colorbar(out[0], orientation=\"horizontal\")\n",
    "    cb.set_label(\"Current density (A/m$^2$)\")\n",
    "    midx = (rx.locs[0][:,0] + rx.locs[1][:,0]) * 0.5\n",
    "    midz = (rx.locs[0][:,2] + rx.locs[1][:,2]) * 0.5\n",
    "    plt.plot(midx, midz, 'g.', ms=4)\n",
    "    plt.gca().get_xlim()\n",
    "    plt.show()\n",
    "interact(vizJ, isrc=(0, DCsurvey.nSrc-1, 1))"
   ]
  },
  {
   "cell_type": "markdown",
   "metadata": {},
   "source": [
    "### Plot Pseudo section\n",
    "\n",
    "We are going to plot simulated data for each current pole. By moving slider bar below, you can explore the data at different current pole location. "
   ]
  },
  {
   "cell_type": "code",
   "execution_count": null,
   "metadata": {},
   "outputs": [],
   "source": [
    "vmin, vmax = 1, 1e4\n",
    "appres = dpred/geometric\n",
    "temp = appres.copy()\n",
    "Utils.plot2Ddata(np.c_[mid_x[inds_data], mid_z[inds_data]], temp, ncontour=100, dataloc=True, scale=\"log\", contourOpts={\"vmin\":np.log10(vmin), \"vmax\":np.log10(vmax)})\n",
    "cb = plt.colorbar(out[0], orientation=\"horizontal\", format=\"1e%.0f\", ticks=np.linspace(np.log10(vmin), np.log10(vmax), 3))\n",
    "cb.set_label(\"Resistivity (Ohm-m)\")\n",
    "# plt.title(\"Line 12150N\")"
   ]
  },
  {
   "cell_type": "markdown",
   "metadata": {},
   "source": [
    "### Plot Field data (pseudo-section)\n",
    "\n",
    "Let's see how the field data looks like on this line (12150N). Are they similar with our simulated data? "
   ]
  },
  {
   "cell_type": "code",
   "execution_count": null,
   "metadata": {},
   "outputs": [],
   "source": [
    "\n",
    "vmin, vmax = 1, 1e4\n",
    "temp = dcipdata['appRho'].copy()\n",
    "temp[dcipdata['appRho']<vmin] = vmin\n",
    "temp[dcipdata['appRho']>vmax] = vmax\n",
    "out = Utils.plot2Ddata(np.c_[mid_x[inds_data], mid_z[inds_data]], temp[inds_data], ncontour=100, dataloc=True, scale=\"log\")\n",
    "cb = plt.colorbar(out[0], orientation=\"horizontal\", format=\"1e%.0f\", ticks=np.linspace(np.log10(vmin), np.log10(vmax), 3))\n",
    "cb.set_label(\"Resistivity (Ohm-m)\")\n",
    "# plt.title(\"Line 12150N\")"
   ]
  }
 ],
 "metadata": {
  "anaconda-cloud": {},
  "kernelspec": {
   "display_name": "Python [default]",
   "language": "python",
   "name": "python2"
  },
  "language_info": {
   "codemirror_mode": {
    "name": "ipython",
    "version": 2
   },
   "file_extension": ".py",
   "mimetype": "text/x-python",
   "name": "python",
   "nbconvert_exporter": "python",
   "pygments_lexer": "ipython2",
   "version": "2.7.12"
  },
  "widgets": {
   "state": {
    "a69b7986011149d89e68e529f93c094f": {
     "views": [
      {
       "cell_index": 13
      }
     ]
    }
   },
   "version": "1.2.0"
  }
 },
 "nbformat": 4,
 "nbformat_minor": 1
}
