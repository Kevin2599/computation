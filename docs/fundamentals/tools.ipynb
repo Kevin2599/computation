{
 "cells": [
  {
   "cell_type": "markdown",
   "metadata": {},
   "source": [
    "#  Tools\n",
    "\n",
    "- **Purpose:** To introduce and provide resources for the tools used to build and work with <a href=\"http://simpeg.xyz\">SimPEG</a>\n",
    "\n",
    "\n",
    "In this tutorial, we cover some of the basic tools you will need for scientific computing with Python. This follows the <a href = http://simpegtutorials.readthedocs.org/en/latest/content/tools.html>Tools</a> section of the <a href= http://simpegtutorials.readthedocs.org/>SimPEG Tutorials</a>. \n",
    "\n",
    "This development environment is the <a href = http://jupyter.org>Jupyter Notebook</a>. \n",
    "- To run a cell, is `Shift + Enter`\n",
    "- To clear your kernel `Esc + 00`\n",
    "- other keyboard shortcuts are available through the help\n",
    "\n",
    "In this notebook, we cover some basics of:\n",
    "- <a href=\"https://www.python.org/\">Python</a>\n",
    "- <a href=\"http://www.numpy.org/\">NumPy</a>\n",
    "- <a href=\"https://www.scipy.org/\">SciPy</a>\n",
    "- <a href=\"http://matplotlib.org/\">Matplotlib</a>\n"
   ]
  },
  {
   "cell_type": "markdown",
   "metadata": {},
   "source": [
    "## Jupyter Notebook\n",
    "\n",
    "<img src=\"http://blog.jupyter.org/content/images/2015/02/jupyter-sq-text.png\" width=\"80\" href=\"http://jupyter.org\">\n",
    "\n",
    "A <a href=\"\">notebook</a> containing the following examples is available for you to download\n",
    "and follow along. In the directory where you downloaded the notebook, open up\n",
    "a <a href=\"http://jupyter.org\">Jupyter Notebook</a> from a terminal\n",
    "\n",
    "```\n",
    "    jupyter notebook\n",
    "```\n",
    "\n",
    "and open `tools.ipynb`. A few things to note\n",
    "\n",
    "<img src=\"../../images/notebookpointers.png\">\n",
    "\n",
    "- To execute a cell is **Shift + Enter**\n",
    "- To restart the kernel (clean your slate) is **Esc + 00**\n",
    "\n",
    "Throughout this tutorial, we will show a few tips for working with the\n",
    "notebook."
   ]
  },
  {
   "cell_type": "markdown",
   "metadata": {},
   "source": [
    "## Python \n",
    "\n",
    "<img href=\"https://www.python.org/\" src=\"https://upload.wikimedia.org/wikipedia/commons/thumb/c/c3/Python-logo-notext.svg/220px-Python-logo-notext.svg.png\" width=60>\n",
    "\n",
    "Python is a high-level interpreted computing language. Here we outline a few\n",
    "of the basics and common trip-ups. For more information and tutorials, check\n",
    "out the <a href=\"<https://www.python.org/doc/>\"Python Documentation</a>.\n"
   ]
  },
  {
   "cell_type": "markdown",
   "metadata": {},
   "source": [
    "### Types"
   ]
  },
  {
   "cell_type": "code",
   "execution_count": 1,
   "metadata": {
    "collapsed": false
   },
   "outputs": [
    {
     "name": "stdout",
     "output_type": "stream",
     "text": [
      "True\n",
      "True\n",
      "True\n"
     ]
    },
    {
     "data": {
      "text/plain": [
       "NoneType"
      ]
     },
     "execution_count": 1,
     "metadata": {},
     "output_type": "execute_result"
    }
   ],
   "source": [
    "# python has /types\n",
    "print(type(1) == int)\n",
    "print(type(1.) == float)\n",
    "print(type(1j) == complex)\n",
    "type(None)"
   ]
  },
  {
   "cell_type": "code",
   "execution_count": 2,
   "metadata": {
    "collapsed": false
   },
   "outputs": [
    {
     "name": "stdout",
     "output_type": "stream",
     "text": [
      "2.0\n"
     ]
    }
   ],
   "source": [
    "# What happens if you add values of different types?\n",
    "print(1 + 1.)"
   ]
  },
  {
   "cell_type": "markdown",
   "metadata": {},
   "source": [
    "### Lists"
   ]
  },
  {
   "cell_type": "code",
   "execution_count": 3,
   "metadata": {
    "collapsed": false
   },
   "outputs": [
    {
     "data": {
      "text/plain": [
       "list"
      ]
     },
     "execution_count": 3,
     "metadata": {},
     "output_type": "execute_result"
    }
   ],
   "source": [
    "mylist = [6, 5, 4, 3]\n",
    "type(mylist)"
   ]
  },
  {
   "cell_type": "code",
   "execution_count": 4,
   "metadata": {
    "collapsed": false
   },
   "outputs": [
    {
     "data": {
      "text/plain": [
       "4"
      ]
     },
     "execution_count": 4,
     "metadata": {},
     "output_type": "execute_result"
    }
   ],
   "source": [
    "# length of a list\n",
    "len(mylist)"
   ]
  },
  {
   "cell_type": "code",
   "execution_count": 5,
   "metadata": {
    "collapsed": false
   },
   "outputs": [
    {
     "name": "stdout",
     "output_type": "stream",
     "text": [
      "6\n"
     ]
    }
   ],
   "source": [
    "# python uses zero based indexing\n",
    "print(mylist[0])"
   ]
  },
  {
   "cell_type": "code",
   "execution_count": 6,
   "metadata": {
    "collapsed": false
   },
   "outputs": [
    {
     "name": "stdout",
     "output_type": "stream",
     "text": [
      "[6, 5]\n",
      "[4, 3]\n",
      "3\n"
     ]
    }
   ],
   "source": [
    "print(mylist[:2]) # counting up\n",
    "print(mylist[2:]) # starting from\n",
    "print(mylist[-1]) # going back"
   ]
  },
  {
   "cell_type": "markdown",
   "metadata": {},
   "source": [
    "### Loops and List Comprehension"
   ]
  },
  {
   "cell_type": "code",
   "execution_count": 7,
   "metadata": {
    "collapsed": true
   },
   "outputs": [],
   "source": [
    "n = 10 # try making this larger --> see which is faster"
   ]
  },
  {
   "cell_type": "code",
   "execution_count": 8,
   "metadata": {
    "collapsed": false
   },
   "outputs": [
    {
     "name": "stdout",
     "output_type": "stream",
     "text": [
      "[0, 1, 2, 3, 4, 5, 6, 7, 8, 9]\n",
      "CPU times: user 433 µs, sys: 228 µs, total: 661 µs\n",
      "Wall time: 519 µs\n"
     ]
    }
   ],
   "source": [
    "%%time \n",
    "a = []\n",
    "for i in range(n): # for loop assignment\n",
    "    a.append(i)\n",
    "print(a)"
   ]
  },
  {
   "cell_type": "code",
   "execution_count": 9,
   "metadata": {
    "collapsed": false
   },
   "outputs": [
    {
     "name": "stdout",
     "output_type": "stream",
     "text": [
      "[0, 1, 2, 3, 4, 5, 6, 7, 8, 9]\n",
      "CPU times: user 177 µs, sys: 130 µs, total: 307 µs\n",
      "Wall time: 225 µs\n"
     ]
    }
   ],
   "source": [
    "%%time\n",
    "b = [i for i in range(n)]  # list comprehension\n",
    "print(b)"
   ]
  },
  {
   "cell_type": "code",
   "execution_count": 10,
   "metadata": {
    "collapsed": false
   },
   "outputs": [
    {
     "name": "stdout",
     "output_type": "stream",
     "text": [
      "(0, 'Monty')\n",
      "(1, 'Python')\n",
      "(2, 'Flying')\n",
      "(3, 'Circus')\n"
     ]
    }
   ],
   "source": [
    "# Enumerateing \n",
    "mylist = ['Monty', 'Python', 'Flying', 'Circus']\n",
    "for i, val in enumerate(mylist):\n",
    "    print(i, val)"
   ]
  },
  {
   "cell_type": "markdown",
   "metadata": {},
   "source": [
    "### If, elif, else"
   ]
  },
  {
   "cell_type": "code",
   "execution_count": 11,
   "metadata": {
    "collapsed": false
   },
   "outputs": [
    {
     "name": "stdout",
     "output_type": "stream",
     "text": [
      "[ 80.] is too high\n"
     ]
    }
   ],
   "source": [
    "# Pick a random number between 0 and 100\n",
    "import numpy as np  # n-dimensional array package\n",
    "number = (100.*np.random.rand(1)).round() # make it an integer\n",
    "if number > 42:\n",
    "    print('{} is too high'.format(number))\n",
    "elif number < 42:\n",
    "    print('{} is too low'.format(number))\n",
    "else:\n",
    "    print('you found the secret to life. {}'.format(number))"
   ]
  },
  {
   "cell_type": "markdown",
   "metadata": {},
   "source": [
    "### Functions"
   ]
  },
  {
   "cell_type": "code",
   "execution_count": 12,
   "metadata": {
    "collapsed": true
   },
   "outputs": [],
   "source": [
    "def pickAnumber(number):\n",
    "    if number > 42:\n",
    "        print('{} is too high'.format(number))\n",
    "        return False\n",
    "    elif number < 42:\n",
    "        print('{} is too low'.format(number))\n",
    "        return False\n",
    "    else:\n",
    "        print('you found the secret to life. {}'.format(number))\n",
    "        return True"
   ]
  },
  {
   "cell_type": "code",
   "execution_count": 13,
   "metadata": {
    "collapsed": false
   },
   "outputs": [
    {
     "name": "stdout",
     "output_type": "stream",
     "text": [
      "10 is too low\n",
      "False\n"
     ]
    }
   ],
   "source": [
    "print(pickAnumber(10))"
   ]
  },
  {
   "cell_type": "markdown",
   "metadata": {
    "collapsed": true
   },
   "source": [
    "## NumPy"
   ]
  },
  {
   "cell_type": "code",
   "execution_count": 14,
   "metadata": {
    "collapsed": true
   },
   "outputs": [],
   "source": [
    "import numpy as np"
   ]
  },
  {
   "cell_type": "code",
   "execution_count": 15,
   "metadata": {
    "collapsed": false
   },
   "outputs": [
    {
     "name": "stdout",
     "output_type": "stream",
     "text": [
      "()\n",
      "(1,)\n",
      "(1, 1)\n"
     ]
    }
   ],
   "source": [
    "a = np.array(1) # scalar\n",
    "print(a.shape)\n",
    "\n",
    "b = np.array([1]) # vector\n",
    "print(b.shape)\n",
    "\n",
    "c = np.array([[1]]) # array\n",
    "print(c.shape)"
   ]
  },
  {
   "cell_type": "code",
   "execution_count": 16,
   "metadata": {
    "collapsed": false
   },
   "outputs": [
    {
     "name": "stdout",
     "output_type": "stream",
     "text": [
      "(10,)\n"
     ]
    }
   ],
   "source": [
    "# vectors\n",
    "v = np.random.rand(10)\n",
    "a = v.T * v\n",
    "print(a.shape)"
   ]
  },
  {
   "cell_type": "code",
   "execution_count": 17,
   "metadata": {
    "collapsed": false
   },
   "outputs": [
    {
     "data": {
      "text/plain": [
       "()"
      ]
     },
     "execution_count": 17,
     "metadata": {},
     "output_type": "execute_result"
    }
   ],
   "source": [
    "b = v.dot(v)\n",
    "b.shape"
   ]
  },
  {
   "cell_type": "code",
   "execution_count": 18,
   "metadata": {
    "collapsed": false
   },
   "outputs": [
    {
     "data": {
      "text/plain": [
       "(10, 1)"
      ]
     },
     "execution_count": 18,
     "metadata": {},
     "output_type": "execute_result"
    }
   ],
   "source": [
    "# arrays\n",
    "w = np.random.rand(10,1)\n",
    "w.shape"
   ]
  },
  {
   "cell_type": "code",
   "execution_count": 19,
   "metadata": {
    "collapsed": false
   },
   "outputs": [],
   "source": [
    "M = np.random.rand(10,10)"
   ]
  },
  {
   "cell_type": "code",
   "execution_count": 20,
   "metadata": {
    "collapsed": false
   },
   "outputs": [
    {
     "data": {
      "text/plain": [
       "array([[  3.25188743e-02,   4.92519569e-01,   3.17769482e-01,\n",
       "          1.62990360e-01,   8.00466183e-02,   3.11101540e-01,\n",
       "          6.65949536e-01,   5.67346931e-01,   2.80542007e-01,\n",
       "          2.50803390e-01],\n",
       "       [  7.22183982e-02,   3.86448026e-01,   4.67098459e-01,\n",
       "          7.97864836e-01,   3.41720915e-01,   2.89982502e-02,\n",
       "          5.42760970e-02,   5.80674906e-01,   5.79362050e-01,\n",
       "          8.99394176e-02],\n",
       "       [  4.53133096e-01,   3.65661125e-01,   1.28520684e-01,\n",
       "          4.63030183e-01,   2.65291293e-01,   1.26083976e-01,\n",
       "          1.99241030e-01,   4.70528071e-01,   2.15402983e-01,\n",
       "          1.79831562e-01],\n",
       "       [  2.05142855e-02,   1.27534730e-01,   7.01471887e-02,\n",
       "          9.91664917e-02,   2.48915497e-01,   1.41795026e-01,\n",
       "          1.04706300e-01,   6.55260506e-02,   5.24234012e-03,\n",
       "          1.82409773e-01],\n",
       "       [  3.63753592e-01,   1.66280243e-02,   1.76370399e-01,\n",
       "          3.35909879e-01,   2.21186333e-01,   1.88711763e-01,\n",
       "          1.19357847e-01,   2.32056250e-01,   3.09422091e-01,\n",
       "          6.91429881e-02],\n",
       "       [  4.12529652e-03,   1.15257282e-02,   1.08327291e-02,\n",
       "          2.80340180e-03,   8.90018530e-03,   8.07691125e-03,\n",
       "          2.95786163e-04,   5.39511251e-03,   3.89623815e-03,\n",
       "          6.73232414e-03],\n",
       "       [  1.21740911e-02,   1.74437381e-02,   6.78170009e-03,\n",
       "          9.76612815e-03,   1.78418409e-03,   2.06502604e-02,\n",
       "          2.16636016e-02,   1.39762425e-02,   9.06194337e-03,\n",
       "          6.81148530e-03],\n",
       "       [  5.53735274e-01,   6.23230033e-02,   7.01777420e-01,\n",
       "          1.11887285e-01,   1.73087575e-01,   1.59849059e-02,\n",
       "          5.62557010e-01,   7.45454500e-01,   7.08426405e-01,\n",
       "          6.66128071e-01],\n",
       "       [  3.52409083e-01,   4.75285279e-01,   4.01001096e-01,\n",
       "          3.88714112e-01,   1.78702239e-01,   2.62767827e-01,\n",
       "          3.11659310e-01,   6.77770359e-01,   1.91372082e-01,\n",
       "          4.49230938e-01],\n",
       "       [  7.03959432e-01,   1.55762937e-01,   2.16987667e-01,\n",
       "          8.94950712e-01,   4.53569699e-01,   5.44972753e-01,\n",
       "          2.48014003e-01,   5.70798534e-02,   3.50781232e-01,\n",
       "          3.06749502e-01]])"
      ]
     },
     "execution_count": 20,
     "metadata": {},
     "output_type": "execute_result"
    }
   ],
   "source": [
    "M*w"
   ]
  },
  {
   "cell_type": "markdown",
   "metadata": {
    "collapsed": true
   },
   "source": [
    "## Resources\n",
    "\n",
    "\n",
    "- <a href=\"http://swcarpentry.github.io/python-novice-inflammation/\">Software Carpentry</a>\n",
    "- <a href=\"https://docs.python.org/2/tutorial/index.html\">Python Tutorial</a>\n"
   ]
  },
  {
   "cell_type": "code",
   "execution_count": null,
   "metadata": {
    "collapsed": true
   },
   "outputs": [],
   "source": []
  }
 ],
 "metadata": {
  "anaconda-cloud": {},
  "kernelspec": {
   "display_name": "Python 2",
   "language": "python",
   "name": "python2"
  },
  "language_info": {
   "codemirror_mode": {
    "name": "ipython",
    "version": 2
   },
   "file_extension": ".py",
   "mimetype": "text/x-python",
   "name": "python",
   "nbconvert_exporter": "python",
   "pygments_lexer": "ipython2",
   "version": "2.7.13"
  }
 },
 "nbformat": 4,
 "nbformat_minor": 0
}
