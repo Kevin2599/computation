{
 "cells": [
  {
   "cell_type": "markdown",
   "metadata": {},
   "source": [
    "# Fields, Fluxes, Physics\n",
    "\n",
    "Now that we know how to solve a partial differential equation using the [SimPEG](http://simpeg.xyz) Mesh Class (for a refresher, see [Pixels and Their Neighbors](http://tutorials.simpeg.xyz/content/fieldsfluxesphysics.html)), we will now explore how to set up a Forward Simulation using SimPEG. \n",
    "\n",
    "## What is a Forward Simulation?\n",
    "By **Forward Simulation**, we mean the ability to estimate data given a description of the physical properties describing the earth.\n",
    "\n",
    "In [SimPEG](http://simpeg.xyz), the general structure of a forward simulation is shown in the figure below.\n",
    "\n",
    "<img src=\"../../docs/images/forwardsimulation.png\" width=500>\n",
    "\n",
    "- A **model** is a vector which can be mapped to **physical properties** on a simulation mesh. \n",
    "- The **physics** is a discrete representation of the system of equations that we will solve\n",
    "- A **source** inputs energy to the system and is used to construct the Right Hand Side of the system of equations. \n",
    "- With a system of equations and a right-hand-side defined, we can solve the system of equations, producing a solution vector. Often, the solution vector is not necessarily the field or flux we wish to sample to produce data. For example, in an electromagnetic problem, we may solve for the electric field, **E**, but wish to measure magnetic flux density **B** to produce data. Similarly, we may solve the DC resistivity problem for electric potentials, but wish to view the current density. This translation is handled by the **fields**.\n",
    "- **Fields** are defined everywhere on the mesh, but **data** are defined at specific locations where we have receivers. The **receivers** specify where and what type of **data** are collected\n",
    "\n",
    "In the series of notebooks that follow we will walk through each of the steps of a forward simulation using the 3D DC resistivity problem as an example. \n",
    "\n",
    "**Contents**\n",
    "- [model_to_physical_properties.ipynb](model_to_physical_properties.ipynb)\n",
    "- [physics_and_sources.ipynb](physics_and_sources.ipynb)\n",
    "- [solutions_to_fields.ipynb](solutions_to_fields.ipynb)\n",
    "- [fields_to_data.ipynb](fields_to_data.ipynb)\n",
    "- [forward_simulation_sampler.ipynb](forward_simulation_sampler.ipynb) "
   ]
  }
 ],
 "metadata": {
  "kernelspec": {
   "display_name": "Python [default]",
   "language": "python",
   "name": "python2"
  },
  "language_info": {
   "codemirror_mode": {
    "name": "ipython",
    "version": 2
   },
   "file_extension": ".py",
   "mimetype": "text/x-python",
   "name": "python",
   "nbconvert_exporter": "python",
   "pygments_lexer": "ipython2",
   "version": "2.7.12"
  }
 },
 "nbformat": 4,
 "nbformat_minor": 1
}
