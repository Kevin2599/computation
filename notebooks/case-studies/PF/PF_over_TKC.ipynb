{
 "cells": [
  {
   "cell_type": "markdown",
   "metadata": {},
   "source": [
    "# Potential Fields (Magnetics) over TKC"
   ]
  },
  {
   "cell_type": "markdown",
   "metadata": {},
   "source": [
    "## Purpose\n",
    "\n",
    "In this tutorial, we demonstrate how to invert magnetic field data in 3D using SimPEG.PF. It simulates a geophysical experiment over a synthetic\n",
    "kimberlite pipe model. The chosen geological model intends to replicate the Tli Kwi Cho kimberlite deposit, NWT. Using SimPEG Directives, we implement a sparse regularization function and recover both a smooth and a compact susceptibility model, which can used to infer geological information at depth. The same example was presented as a [poster](https://drive.google.com/open?id=0B-8Bv7qmQs23NHRTcXZ5WXVLdkE) at Scipy 2016.\n",
    "\n",
    "![Scipy_2016_PF_Thumbnail](../../../images/Scipy_2016_PF_Thumbnail.png)\n"
   ]
  },
  {
   "cell_type": "markdown",
   "metadata": {},
   "source": [
    "## Setup\n",
    "\n",
    "We begin this story with some physics background. We need to establish the\n",
    "connection between rocks magnetic properties and the associated geophysical\n",
    "experiment. Maxwell's equations for a static electric field and in the absence\n",
    "of free-currents can be written as:\n",
    "\n",
    "$$\n",
    "\\nabla \\cdot \\mathbf{B} = 0 \\\\ \\nabla \\times \\mathbf{H} = 0\n",
    "$$\n",
    "\n",
    "where $\\mathbf{B}$ and $\\mathbf{H}$ correspond to the magnetic\n",
    "flux density and magnetic field respectively. Both quantities are related by:\n",
    "\n",
    "$$\n",
    "\\mathbf{B} = \\mu \\mathbf{H} \\\\ \\mu = \\mu_0 ( 1 + \\kappa )\n",
    "$$\n",
    "\n",
    "where $\\mu$ is the magnetic permeability. In free-space, both\n",
    "$\\mathbf{B}$ and $\\mathbf{H}$ are linearly related by the magnetic\n",
    "permealitity of free-space $\\mu_0$. In matter however, the magnetic flux\n",
    "can be increased proportionally on how easily magnetic material gets\n",
    "polarized, quantified by the magnetic susceptibility $\\kappa$. In a\n",
    "macroscopic point of view, the magnetic property of matter are generally\n",
    "described in terms of magnetization per unit volume such that:\n",
    "\n",
    "$$\n",
    "\\mathbf{M} = \\kappa \\mathbf{H_s + H_0} + \\mathbf{M_r}\n",
    "$$\n",
    "\n",
    "where $\\mathbf{M}$ can be oriented in any specific direction due to\n",
    "secondary local fields ($\\mathbf{H_s}$) and/or due to permanent dipole\n",
    "moments ($\\mathbf{M_r}$). For simplicity we will here assume a purely\n",
    "induced response due to the Earth's $\\mathbf{H_0}$. Using a few vector\n",
    "identities, we can re-write the magnetic field due to magnetized material in\n",
    "terms of a scalar potential:\n",
    "\n",
    "$$\n",
    "\\phi = \\frac{1}{4\\pi}  \\int_{V}    \\nabla \\left(\\frac{1}{r}\\right) \\cdot \\mathbf{H}_0 \\kappa  \\; dV\n",
    "$$\n",
    "\n",
    "where $r$ defines the relative position between an observer and the\n",
    "magnetic source. Taking the divergence of this potential yields:\n",
    "\n",
    "$$\n",
    "\\mathbf{b} = \\frac{\\mu_0}{4\\pi}  \\int_{V}  \\nabla \\nabla \\left(\\frac{1}{r}\\right) \\cdot \\mathbf{H}_0 \\kappa \\; dV\n",
    "$$\n",
    "\n",
    "Great, we have a general expression relating any secondary magnetic flux due to\n",
    "magnetic material"
   ]
  },
  {
   "cell_type": "markdown",
   "metadata": {},
   "source": [
    "## Forward Problem\n",
    "\n",
    "Assuming a purely induced response, we can solve the integral analytically. As\n",
    "derived by Sharma (1966), the integral can be evaluated for rectangular prisms\n",
    "such that:\n",
    "\n",
    "$$\n",
    "\\mathbf{b} =  \\mathbf{T} \\cdot \\mathbf{H}_0 \\; \\kappa\n",
    "$$\n",
    "\n",
    "Where the tensor matrix $\\bf{T}$ relates the vector magnetization\n",
    "$\\mathbf{M}$ inside a single cell to the components of the field\n",
    "$\\mathbf{b}$ observed at a given location:\n",
    "\n",
    "$$\n",
    "\\mathbf{T} = \\begin{pmatrix} T_{xx} & T_{xy} & T_{xz}    \\\\ T_{yx} &\n",
    "T_{yy} & T_{yz}    \\\\ T_{zx} & T_{zy} & T_{zz} \\end{pmatrix}\n",
    "$$\n",
    "\n",
    "In general, we discretize the earth into a collection of cells, each\n",
    "contributing to the magnetic data such that giving rise to a large and dense\n",
    "linear system of the form:\n",
    "\n",
    "$$\n",
    "\\mathbf{b} = \\sum_{j=1}^{nc} \\mathbf{T}_j \\cdot \\mathbf{H}_0 \\; \\kappa_j\n",
    "$$\n",
    "\n",
    "In most geophysical surveys, we are not collecting all three components, but\n",
    "rather the magnitude of the field, or *Total Magnetic Intensity* (TMI) data.\n",
    "Because the inducing field is really large, we will assume that the anomalous\n",
    "fields are parallel to $H_0$:\n",
    "\n",
    "$$\n",
    "d^{TMI}  = \\mathbf{\\hat H}_0 \\cdot \\mathbf{b}\n",
    "$$\n",
    "\n",
    "We then end up with a much smaller system:\n",
    "\n",
    "$$\n",
    "d^{TMI} = \\mathbf{F}\\; \\boldsymbol{\\kappa}\n",
    "$$\n",
    "\n",
    "where $\\mathbf{F} \\in \\mathbb{R}^{nd \\times nc}$ is our *forward*\n",
    "operator and $\\kappa$ is the physical property describing the Earth."
   ]
  },
  {
   "cell_type": "markdown",
   "metadata": {},
   "source": [
    "### Getting started\n",
    "\n",
    "In order to define a geophysical experiment we need set several important\n",
    "parameters, such as a mesh, data location, inversion parameters and so on.\n",
    "While we could set all of those parameters manually, SimPEG.PF gives the\n",
    "option to work with an input file, capturing all the necessary information to\n",
    "run the inversion. In preparation for this synthetic example, we put together\n",
    "all necessary files and added them to a working directory. The input file can\n",
    "then be loaded and easily accessed through the Driver class:\n"
   ]
  },
  {
   "cell_type": "code",
   "execution_count": 1,
   "metadata": {
    "collapsed": true
   },
   "outputs": [],
   "source": [
    "# Start by importing SimPEG, the potential fields package and \n",
    "import os\n",
    "import numpy as np\n",
    "import matplotlib.pyplot as plt\n",
    "\n",
    "from SimPEG import Mesh, Maps\n",
    "import SimPEG.PF as PF\n",
    "from SimPEG.Utils.io_utils import download\n",
    "\n",
    "%matplotlib inline"
   ]
  },
  {
   "cell_type": "code",
   "execution_count": 20,
   "metadata": {
    "collapsed": false
   },
   "outputs": [
    {
     "name": "stdout",
     "output_type": "stream",
     "text": [
      "Downloading https://storage.googleapis.com/simpeg/tkc_synthetic/potential_fields/MagData.obs\n",
      "   saved to: /Users/lindseyjh/Downloads/PF_over_TKC/MagData.obs\n",
      "Downloading https://storage.googleapis.com/simpeg/tkc_synthetic/potential_fields/Mesh.msh\n",
      "   saved to: /Users/lindseyjh/Downloads/PF_over_TKC/Mesh.msh\n",
      "Downloading https://storage.googleapis.com/simpeg/tkc_synthetic/potential_fields/Initm.sus\n",
      "   saved to: /Users/lindseyjh/Downloads/PF_over_TKC/Initm.sus\n",
      "Downloading https://storage.googleapis.com/simpeg/tkc_synthetic/potential_fields/SimPEG_PF_Input.inp\n",
      "   saved to: /Users/lindseyjh/Downloads/PF_over_TKC/SimPEG_PF_Input.inp\n",
      "Download completed!\n"
     ]
    }
   ],
   "source": [
    "# Download files from the remote repository\n",
    "\n",
    "# This is where the files are stored on the cloud\n",
    "url = 'https://storage.googleapis.com/simpeg/tkc_synthetic/potential_fields/'\n",
    "cloudfiles = ['MagData.obs', 'Mesh.msh', 'Initm.sus', 'SimPEG_PF_Input.inp']\n",
    "\n",
    "download_path = '~/Downloads/PF_over_TKC'\n",
    "downloaded_files = download(\n",
    "    [url+f for f in cloudfiles],\n",
    "    path=download_path, \n",
    "    overwrite=True\n",
    ")\n",
    "\n",
    "input_file = downloaded_files[3]\n",
    "driver = PF.MagneticsDriver.MagneticsDriver_Inv(input_file)"
   ]
  },
  {
   "cell_type": "code",
   "execution_count": 3,
   "metadata": {
    "collapsed": true
   },
   "outputs": [],
   "source": [
    "# Objects loaded from the input file are then accessible like this\n",
    "mesh = driver.mesh\n",
    "initm = driver.m0"
   ]
  },
  {
   "cell_type": "markdown",
   "metadata": {},
   "source": [
    "The input file looks like this:\n",
    "\n",
    "```\n",
    "====    ==============   ===================================================================================\n",
    "Line    Input            Description\n",
    "====    ==============   ===================================================================================\n",
    "1       Mesh.msh         Mesh file*\n",
    "2       Data.obs         Data file*\n",
    "3       VALUE -100       Topography file* | null (all included)\n",
    "4       FILE Initm.mod   Starting model* | VALUE ##\n",
    "5       VALUE 0          Reference model* | VALUE ##\n",
    "6       DEFAULT          Magnetization file* | DEFAULT\n",
    "7       DEFAULT          Cell weight file* | DEFAULT\n",
    "8       DEFAULT          Target Chi factor VALUE | DEFAULT (1)\n",
    "9       DEFAULT          Scaling parameters for regularization (alpha_s, alpha_x, alpha_y, alpha_z)\n",
    "10      VALUE 0 1        Lower and upper bound values\n",
    "11      VALUE 0 1 1 1    Lp-norms applied on model and model gradients (p,q_x,q_y,q_z)\n",
    "12      DEFAULT          Treshold parameter for the norms (\\epsilon_p,\\epsilon_q) | DEFAULT\n",
    "Note                     * UBC file format\n",
    "====    ==============   ===================================================================================\n",
    "```\n",
    "\n",
    "We will use each elements later, but for now, this how the inversion\n",
    "is initiated."
   ]
  },
  {
   "cell_type": "markdown",
   "metadata": {},
   "source": [
    "### Model and Mapping\n",
    "\n",
    "Since we have already loaded the model in a rectangular mesh, we can plot it\n",
    "with SimPEG's built-in functions.\n"
   ]
  },
  {
   "cell_type": "code",
   "execution_count": 4,
   "metadata": {
    "collapsed": false
   },
   "outputs": [
    {
     "data": {
      "image/png": "[encoded data removed]",
      "text/plain": [
       "<matplotlib.figure.Figure at 0x113a1df10>"
      ]
     },
     "metadata": {},
     "output_type": "display_data"
    }
   ],
   "source": [
    "initm[initm==-100] = np.nan\n",
    "\n",
    "# Create a figure and plot sections\n",
    "fig, ax1 = plt.figure(), plt.subplot(1,2,1)\n",
    "mesh.plotSlice(initm, ax = ax1, normal='Z', ind=18, clim = (0,0.02), pcolorOpts={'cmap':'viridis'})\n",
    "plt.gca().set_aspect('equal')\n",
    "plt.title('Z: '+str(mesh.vectorCCz[18]) + \" m\")\n",
    "\n",
    "ax2 = plt.subplot(1,2,2)\n",
    "mesh.plotSlice(initm, ax = ax2, normal='Y', ind=16, clim = (0,0.02), pcolorOpts={'cmap':'viridis'})\n",
    "plt.gca().set_aspect('equal')\n",
    "plt.title('Y: '+str(mesh.vectorCCy[16])+' m')\n",
    "\n",
    "plt.show()"
   ]
  },
  {
   "cell_type": "markdown",
   "metadata": {},
   "source": [
    "Notice that some of the cells in the model are air and show as white. The code\n",
    "will detected the air cells from the VALUE specified on line 3 of the input\n",
    "file. These cells are ignored by the code. Alternatively, the user can input a\n",
    "topography file or an active model specifying the status of each cells\n",
    "(0:inactive, 1:active-dynamic, -1:active-static)."
   ]
  },
  {
   "cell_type": "markdown",
   "metadata": {},
   "source": [
    "### Data\n",
    "\n",
    "Great, now that we have a mesh and a model, we only need to specify a survey\n",
    "(i.e. where is the data). Once again, an observation file is provided, as\n",
    "specified on Line 2 of the input file. We can now forward model some magnetic\n",
    "data above the synthetic kimberlite."
   ]
  },
  {
   "cell_type": "code",
   "execution_count": 5,
   "metadata": {
    "collapsed": false
   },
   "outputs": [],
   "source": [
    "# Get the survey\n",
    "survey = driver.survey\n",
    "\n",
    "# Get the active cells (below topography)\n",
    "actv = driver.activeCells\n",
    "# Create mapping to come back from the reduce space later\n",
    "idenMap = Maps.IdentityMap(nP=len(actv))\n",
    "\n",
    "# Now that we have a model and a survey we can build the linear system ...\n",
    "# (use the argument forwardOnly=True to avoid storing the dense forward matrix)\n",
    "prob = PF.Magnetics.MagneticIntegral(mesh, chiMap=idenMap, actInd=actv, forwardOnly=True, rtype = 'tmi')\n",
    "\n",
    "# Pair the survey and problem (data and model space)\n",
    "survey.pair(prob)"
   ]
  },
  {
   "cell_type": "code",
   "execution_count": 6,
   "metadata": {
    "collapsed": false
   },
   "outputs": [
    {
     "name": "stdout",
     "output_type": "stream",
     "text": [
      "Done 0.0 %\n",
      "Done 10.0 %\n",
      "Done 20.0 %\n",
      "Done 30.0 %\n",
      "Done 40.0 %\n",
      "Done 50.0 %\n",
      "Done 60.0 %\n",
      "Done 70.0 %\n",
      "Done 80.0 %\n",
      "Done 90.0 %\n",
      "Done 100% ...forward operator completed!!\n",
      "\n"
     ]
    }
   ],
   "source": [
    "# Forward operators and data are calculated here (wait for it!)\n",
    "d = prob.fields(driver.m0)\n",
    "\n",
    "# Add noise to the data and assign uncertainties\n",
    "survey.dobs = d + np.random.randn(len(d)) # We add some random Gaussian noise (1 nT)\n",
    "survey.std = np.ones(len(d))*1. # Assign flat uncertainties (1 nT)"
   ]
  },
  {
   "cell_type": "code",
   "execution_count": 7,
   "metadata": {
    "collapsed": false
   },
   "outputs": [
    {
     "name": "stderr",
     "output_type": "stream",
     "text": [
      "/anaconda/lib/python2.7/site-packages/numpy/ma/core.py:4185: UserWarning: Warning: converting a masked element to nan.\n",
      "  warnings.warn(\"Warning: converting a masked element to nan.\")\n",
      "/anaconda/lib/python2.7/site-packages/matplotlib/contour.py:1153: RuntimeWarning: invalid value encountered in greater\n",
      "  return lev[(lev > zmin) & (lev < zmax)]\n",
      "/anaconda/lib/python2.7/site-packages/matplotlib/contour.py:1153: RuntimeWarning: invalid value encountered in less\n",
      "  return lev[(lev > zmin) & (lev < zmax)]\n"
     ]
    },
    {
     "ename": "ValueError",
     "evalue": "zero-size array to reduction operation minimum which has no identity",
     "output_type": "error",
     "traceback": [
      "\u001b[0;31m---------------------------------------------------------------------------\u001b[0m",
      "\u001b[0;31mValueError\u001b[0m                                Traceback (most recent call last)",
      "\u001b[0;32m<ipython-input-7-5f20536f14cd>\u001b[0m in \u001b[0;36m<module>\u001b[0;34m()\u001b[0m\n\u001b[1;32m      1\u001b[0m \u001b[0;31m# Then we can quickly plot the data with the build-in function\u001b[0m\u001b[0;34m\u001b[0m\u001b[0;34m\u001b[0m\u001b[0m\n\u001b[0;32m----> 2\u001b[0;31m \u001b[0mPF\u001b[0m\u001b[0;34m.\u001b[0m\u001b[0mMagnetics\u001b[0m\u001b[0;34m.\u001b[0m\u001b[0mplot_obs_2D\u001b[0m\u001b[0;34m(\u001b[0m\u001b[0msurvey\u001b[0m\u001b[0;34m.\u001b[0m\u001b[0msrcField\u001b[0m\u001b[0;34m.\u001b[0m\u001b[0mrxList\u001b[0m\u001b[0;34m[\u001b[0m\u001b[0;36m0\u001b[0m\u001b[0;34m]\u001b[0m\u001b[0;34m.\u001b[0m\u001b[0mlocs\u001b[0m\u001b[0;34m,\u001b[0m\u001b[0md\u001b[0m\u001b[0;34m=\u001b[0m\u001b[0msurvey\u001b[0m\u001b[0;34m.\u001b[0m\u001b[0mdobs\u001b[0m \u001b[0;34m,\u001b[0m\u001b[0mvarstr\u001b[0m\u001b[0;34m=\u001b[0m\u001b[0;34m'Mag Obs'\u001b[0m\u001b[0;34m)\u001b[0m\u001b[0;34m\u001b[0m\u001b[0m\n\u001b[0m",
      "\u001b[0;32m/Users/lindseyjh/git/python_symlinks/SimPEG/PF/Magnetics.pyc\u001b[0m in \u001b[0;36mplot_obs_2D\u001b[0;34m(rxLoc, d, varstr, vmin, vmax, levels, fig)\u001b[0m\n\u001b[1;32m   1083\u001b[0m \u001b[0;34m\u001b[0m\u001b[0m\n\u001b[1;32m   1084\u001b[0m         \u001b[0;32mif\u001b[0m \u001b[0mlevels\u001b[0m \u001b[0;32mis\u001b[0m \u001b[0mNone\u001b[0m\u001b[0;34m:\u001b[0m\u001b[0;34m\u001b[0m\u001b[0m\n\u001b[0;32m-> 1085\u001b[0;31m             \u001b[0mplt\u001b[0m\u001b[0;34m.\u001b[0m\u001b[0mcontour\u001b[0m\u001b[0;34m(\u001b[0m\u001b[0mX\u001b[0m\u001b[0;34m,\u001b[0m \u001b[0mY\u001b[0m\u001b[0;34m,\u001b[0m \u001b[0md_grid\u001b[0m\u001b[0;34m,\u001b[0m \u001b[0;36m10\u001b[0m\u001b[0;34m,\u001b[0m \u001b[0mvmin\u001b[0m\u001b[0;34m=\u001b[0m\u001b[0mvmin\u001b[0m\u001b[0;34m,\u001b[0m \u001b[0mvmax\u001b[0m\u001b[0;34m=\u001b[0m\u001b[0mvmax\u001b[0m\u001b[0;34m,\u001b[0m \u001b[0mcmap\u001b[0m\u001b[0;34m=\u001b[0m\u001b[0;34m\"plasma\"\u001b[0m\u001b[0;34m)\u001b[0m\u001b[0;34m\u001b[0m\u001b[0m\n\u001b[0m\u001b[1;32m   1086\u001b[0m         \u001b[0;32melse\u001b[0m\u001b[0;34m:\u001b[0m\u001b[0;34m\u001b[0m\u001b[0m\n\u001b[1;32m   1087\u001b[0m             plt.contour(X, Y, d_grid, levels=levels, colors='r',\n",
      "\u001b[0;32m/anaconda/lib/python2.7/site-packages/matplotlib/pyplot.pyc\u001b[0m in \u001b[0;36mcontour\u001b[0;34m(*args, **kwargs)\u001b[0m\n\u001b[1;32m   2852\u001b[0m                       mplDeprecation)\n\u001b[1;32m   2853\u001b[0m     \u001b[0;32mtry\u001b[0m\u001b[0;34m:\u001b[0m\u001b[0;34m\u001b[0m\u001b[0m\n\u001b[0;32m-> 2854\u001b[0;31m         \u001b[0mret\u001b[0m \u001b[0;34m=\u001b[0m \u001b[0max\u001b[0m\u001b[0;34m.\u001b[0m\u001b[0mcontour\u001b[0m\u001b[0;34m(\u001b[0m\u001b[0;34m*\u001b[0m\u001b[0margs\u001b[0m\u001b[0;34m,\u001b[0m \u001b[0;34m**\u001b[0m\u001b[0mkwargs\u001b[0m\u001b[0;34m)\u001b[0m\u001b[0;34m\u001b[0m\u001b[0m\n\u001b[0m\u001b[1;32m   2855\u001b[0m     \u001b[0;32mfinally\u001b[0m\u001b[0;34m:\u001b[0m\u001b[0;34m\u001b[0m\u001b[0m\n\u001b[1;32m   2856\u001b[0m         \u001b[0max\u001b[0m\u001b[0;34m.\u001b[0m\u001b[0m_hold\u001b[0m \u001b[0;34m=\u001b[0m \u001b[0mwashold\u001b[0m\u001b[0;34m\u001b[0m\u001b[0m\n",
      "\u001b[0;32m/anaconda/lib/python2.7/site-packages/matplotlib/__init__.pyc\u001b[0m in \u001b[0;36minner\u001b[0;34m(ax, *args, **kwargs)\u001b[0m\n\u001b[1;32m   1890\u001b[0m                     warnings.warn(msg % (label_namer, func.__name__),\n\u001b[1;32m   1891\u001b[0m                                   RuntimeWarning, stacklevel=2)\n\u001b[0;32m-> 1892\u001b[0;31m             \u001b[0;32mreturn\u001b[0m \u001b[0mfunc\u001b[0m\u001b[0;34m(\u001b[0m\u001b[0max\u001b[0m\u001b[0;34m,\u001b[0m \u001b[0;34m*\u001b[0m\u001b[0margs\u001b[0m\u001b[0;34m,\u001b[0m \u001b[0;34m**\u001b[0m\u001b[0mkwargs\u001b[0m\u001b[0;34m)\u001b[0m\u001b[0;34m\u001b[0m\u001b[0m\n\u001b[0m\u001b[1;32m   1893\u001b[0m         \u001b[0mpre_doc\u001b[0m \u001b[0;34m=\u001b[0m \u001b[0minner\u001b[0m\u001b[0;34m.\u001b[0m\u001b[0m__doc__\u001b[0m\u001b[0;34m\u001b[0m\u001b[0m\n\u001b[1;32m   1894\u001b[0m         \u001b[0;32mif\u001b[0m \u001b[0mpre_doc\u001b[0m \u001b[0;32mis\u001b[0m \u001b[0mNone\u001b[0m\u001b[0;34m:\u001b[0m\u001b[0;34m\u001b[0m\u001b[0m\n",
      "\u001b[0;32m/anaconda/lib/python2.7/site-packages/matplotlib/axes/_axes.pyc\u001b[0m in \u001b[0;36mcontour\u001b[0;34m(self, *args, **kwargs)\u001b[0m\n\u001b[1;32m   5817\u001b[0m             \u001b[0mself\u001b[0m\u001b[0;34m.\u001b[0m\u001b[0mcla\u001b[0m\u001b[0;34m(\u001b[0m\u001b[0;34m)\u001b[0m\u001b[0;34m\u001b[0m\u001b[0m\n\u001b[1;32m   5818\u001b[0m         \u001b[0mkwargs\u001b[0m\u001b[0;34m[\u001b[0m\u001b[0;34m'filled'\u001b[0m\u001b[0;34m]\u001b[0m \u001b[0;34m=\u001b[0m \u001b[0mFalse\u001b[0m\u001b[0;34m\u001b[0m\u001b[0m\n\u001b[0;32m-> 5819\u001b[0;31m         \u001b[0mcontours\u001b[0m \u001b[0;34m=\u001b[0m \u001b[0mmcontour\u001b[0m\u001b[0;34m.\u001b[0m\u001b[0mQuadContourSet\u001b[0m\u001b[0;34m(\u001b[0m\u001b[0mself\u001b[0m\u001b[0;34m,\u001b[0m \u001b[0;34m*\u001b[0m\u001b[0margs\u001b[0m\u001b[0;34m,\u001b[0m \u001b[0;34m**\u001b[0m\u001b[0mkwargs\u001b[0m\u001b[0;34m)\u001b[0m\u001b[0;34m\u001b[0m\u001b[0m\n\u001b[0m\u001b[1;32m   5820\u001b[0m         \u001b[0mself\u001b[0m\u001b[0;34m.\u001b[0m\u001b[0mautoscale_view\u001b[0m\u001b[0;34m(\u001b[0m\u001b[0;34m)\u001b[0m\u001b[0;34m\u001b[0m\u001b[0m\n\u001b[1;32m   5821\u001b[0m         \u001b[0;32mreturn\u001b[0m \u001b[0mcontours\u001b[0m\u001b[0;34m\u001b[0m\u001b[0m\n",
      "\u001b[0;32m/anaconda/lib/python2.7/site-packages/matplotlib/contour.pyc\u001b[0m in \u001b[0;36m__init__\u001b[0;34m(self, ax, *args, **kwargs)\u001b[0m\n\u001b[1;32m    863\u001b[0m \u001b[0;34m\u001b[0m\u001b[0m\n\u001b[1;32m    864\u001b[0m         \u001b[0mself\u001b[0m\u001b[0;34m.\u001b[0m\u001b[0m_process_args\u001b[0m\u001b[0;34m(\u001b[0m\u001b[0;34m*\u001b[0m\u001b[0margs\u001b[0m\u001b[0;34m,\u001b[0m \u001b[0;34m**\u001b[0m\u001b[0mkwargs\u001b[0m\u001b[0;34m)\u001b[0m\u001b[0;34m\u001b[0m\u001b[0m\n\u001b[0;32m--> 865\u001b[0;31m         \u001b[0mself\u001b[0m\u001b[0;34m.\u001b[0m\u001b[0m_process_levels\u001b[0m\u001b[0;34m(\u001b[0m\u001b[0;34m)\u001b[0m\u001b[0;34m\u001b[0m\u001b[0m\n\u001b[0m\u001b[1;32m    866\u001b[0m \u001b[0;34m\u001b[0m\u001b[0m\n\u001b[1;32m    867\u001b[0m         \u001b[0;32mif\u001b[0m \u001b[0mself\u001b[0m\u001b[0;34m.\u001b[0m\u001b[0mcolors\u001b[0m \u001b[0;32mis\u001b[0m \u001b[0;32mnot\u001b[0m \u001b[0mNone\u001b[0m\u001b[0;34m:\u001b[0m\u001b[0;34m\u001b[0m\u001b[0m\n",
      "\u001b[0;32m/anaconda/lib/python2.7/site-packages/matplotlib/contour.pyc\u001b[0m in \u001b[0;36m_process_levels\u001b[0;34m(self)\u001b[0m\n\u001b[1;32m   1197\u001b[0m         \u001b[0;31m# The following attributes are no longer needed, and\u001b[0m\u001b[0;34m\u001b[0m\u001b[0;34m\u001b[0m\u001b[0m\n\u001b[1;32m   1198\u001b[0m         \u001b[0;31m# should be deprecated and removed to reduce confusion.\u001b[0m\u001b[0;34m\u001b[0m\u001b[0;34m\u001b[0m\u001b[0m\n\u001b[0;32m-> 1199\u001b[0;31m         \u001b[0mself\u001b[0m\u001b[0;34m.\u001b[0m\u001b[0mvmin\u001b[0m \u001b[0;34m=\u001b[0m \u001b[0mnp\u001b[0m\u001b[0;34m.\u001b[0m\u001b[0mamin\u001b[0m\u001b[0;34m(\u001b[0m\u001b[0mself\u001b[0m\u001b[0;34m.\u001b[0m\u001b[0mlevels\u001b[0m\u001b[0;34m)\u001b[0m\u001b[0;34m\u001b[0m\u001b[0m\n\u001b[0m\u001b[1;32m   1200\u001b[0m         \u001b[0mself\u001b[0m\u001b[0;34m.\u001b[0m\u001b[0mvmax\u001b[0m \u001b[0;34m=\u001b[0m \u001b[0mnp\u001b[0m\u001b[0;34m.\u001b[0m\u001b[0mamax\u001b[0m\u001b[0;34m(\u001b[0m\u001b[0mself\u001b[0m\u001b[0;34m.\u001b[0m\u001b[0mlevels\u001b[0m\u001b[0;34m)\u001b[0m\u001b[0;34m\u001b[0m\u001b[0m\n\u001b[1;32m   1201\u001b[0m \u001b[0;34m\u001b[0m\u001b[0m\n",
      "\u001b[0;32m/anaconda/lib/python2.7/site-packages/numpy/core/fromnumeric.pyc\u001b[0m in \u001b[0;36mamin\u001b[0;34m(a, axis, out, keepdims)\u001b[0m\n\u001b[1;32m   2395\u001b[0m     \u001b[0;32melse\u001b[0m\u001b[0;34m:\u001b[0m\u001b[0;34m\u001b[0m\u001b[0m\n\u001b[1;32m   2396\u001b[0m         return _methods._amin(a, axis=axis,\n\u001b[0;32m-> 2397\u001b[0;31m                             out=out, **kwargs)\n\u001b[0m\u001b[1;32m   2398\u001b[0m \u001b[0;34m\u001b[0m\u001b[0m\n\u001b[1;32m   2399\u001b[0m \u001b[0;34m\u001b[0m\u001b[0m\n",
      "\u001b[0;32m/anaconda/lib/python2.7/site-packages/numpy/core/_methods.pyc\u001b[0m in \u001b[0;36m_amin\u001b[0;34m(a, axis, out, keepdims)\u001b[0m\n\u001b[1;32m     27\u001b[0m \u001b[0;34m\u001b[0m\u001b[0m\n\u001b[1;32m     28\u001b[0m \u001b[0;32mdef\u001b[0m \u001b[0m_amin\u001b[0m\u001b[0;34m(\u001b[0m\u001b[0ma\u001b[0m\u001b[0;34m,\u001b[0m \u001b[0maxis\u001b[0m\u001b[0;34m=\u001b[0m\u001b[0mNone\u001b[0m\u001b[0;34m,\u001b[0m \u001b[0mout\u001b[0m\u001b[0;34m=\u001b[0m\u001b[0mNone\u001b[0m\u001b[0;34m,\u001b[0m \u001b[0mkeepdims\u001b[0m\u001b[0;34m=\u001b[0m\u001b[0mFalse\u001b[0m\u001b[0;34m)\u001b[0m\u001b[0;34m:\u001b[0m\u001b[0;34m\u001b[0m\u001b[0m\n\u001b[0;32m---> 29\u001b[0;31m     \u001b[0;32mreturn\u001b[0m \u001b[0mumr_minimum\u001b[0m\u001b[0;34m(\u001b[0m\u001b[0ma\u001b[0m\u001b[0;34m,\u001b[0m \u001b[0maxis\u001b[0m\u001b[0;34m,\u001b[0m \u001b[0mNone\u001b[0m\u001b[0;34m,\u001b[0m \u001b[0mout\u001b[0m\u001b[0;34m,\u001b[0m \u001b[0mkeepdims\u001b[0m\u001b[0;34m)\u001b[0m\u001b[0;34m\u001b[0m\u001b[0m\n\u001b[0m\u001b[1;32m     30\u001b[0m \u001b[0;34m\u001b[0m\u001b[0m\n\u001b[1;32m     31\u001b[0m \u001b[0;32mdef\u001b[0m \u001b[0m_sum\u001b[0m\u001b[0;34m(\u001b[0m\u001b[0ma\u001b[0m\u001b[0;34m,\u001b[0m \u001b[0maxis\u001b[0m\u001b[0;34m=\u001b[0m\u001b[0mNone\u001b[0m\u001b[0;34m,\u001b[0m \u001b[0mdtype\u001b[0m\u001b[0;34m=\u001b[0m\u001b[0mNone\u001b[0m\u001b[0;34m,\u001b[0m \u001b[0mout\u001b[0m\u001b[0;34m=\u001b[0m\u001b[0mNone\u001b[0m\u001b[0;34m,\u001b[0m \u001b[0mkeepdims\u001b[0m\u001b[0;34m=\u001b[0m\u001b[0mFalse\u001b[0m\u001b[0;34m)\u001b[0m\u001b[0;34m:\u001b[0m\u001b[0;34m\u001b[0m\u001b[0m\n",
      "\u001b[0;31mValueError\u001b[0m: zero-size array to reduction operation minimum which has no identity"
     ]
    },
    {
     "data": {
      "image/png": "[encoded data removed]",
      "text/plain": [
       "<matplotlib.figure.Figure at 0x10b70af10>"
      ]
     },
     "metadata": {},
     "output_type": "display_data"
    }
   ],
   "source": [
    "# Then we can quickly plot the data with the build-in function\n",
    "PF.Magnetics.plot_obs_2D(survey.srcField.rxList[0].locs,d=survey.dobs ,varstr='Mag Obs')"
   ]
  },
  {
   "cell_type": "code",
   "execution_count": null,
   "metadata": {
    "collapsed": false
   },
   "outputs": [],
   "source": [
    "# Then we can plot with the build-in function\n",
    "PF.Magnetics.plot_obs_2D(survey.srcField.rxList[0].locs,d=survey.dobs ,varstr='Mag Obs')\n",
    "plt.show()"
   ]
  },
  {
   "cell_type": "markdown",
   "metadata": {},
   "source": [
    "## Inverse Problem\n",
    "\n",
    "\n",
    "We have generated synthetic data, we now what to see if we can solve the\n",
    "inverse problem. Using the usual formulation, we seek a model that can\n",
    "reproduce the data, let’s say a least-squares measure of the form:\n",
    "\n",
    "$$\n",
    "\\phi_d =\\|\\mathbf{W}_d \\left( \\mathbf{F}\\;\\mathbf{m} - \\mathbf{d}^{obs} \\right)\\|_2^2\\;,\n",
    "$$\n",
    "\n",
    "where $\\mathbf{W}_d$ are estimated data uncertainties\n",
    "The inverse problem is hard because we don’t have great data coverage, and the\n",
    "Earth is big, and there is usually noise in the data. So we need to add\n",
    "something to regularize it. The simplest way to do it is to penalize solutions\n",
    "that won’t make sense geologically, for example to assume that the model is\n",
    "*small* and *smooth*. Most inversion codes use the l2-norm measure such that:\n",
    "\n",
    "$$\n",
    "\\phi_m = {\\| \\mathbf{W}_s \\;( \\mathbf{m - m^{ref}})\\|}^2_2  + \\sum_{i = x,y,z}  {\\|   \\mathbf{W}_i  \\; \\mathbf{G}_i \\; \\mathbf{m}\\|}^2_2\n",
    "$$\n",
    "\n",
    "where $m^{ref}$ is any a priori knowledge that we might have about the\n",
    "solution and $\\mathbf{G}_x, \\mathbf{G}_y, \\mathbf{G}_z$ are finite\n",
    "difference operators measuring the model spatial gradients along orthogonal\n",
    "directions. In a purely *unconstrained* case, $m^{ref}$ is usually equal\n",
    "to some background value (i.e. zero susceptibility).\n",
    "The full objective function to be minimized can be written as:\n",
    "\n",
    "$$\n",
    "\\phi (m) =  \\phi_d + \\beta \\phi_m\n",
    "$$\n",
    "\n",
    "which will yield our usual function that minimize the data error and model\n",
    "structure. The trade-off parameter $\\beta$ is adjusted in order to get a\n",
    "*good* balance between data misfit and model\n",
    "\n",
    "We propose a fancier regularization function that can allow to recover *sparse* and *blocky* solutions.\n",
    "Starting with the well known Ekblom norm:\n",
    "\n",
    "$$\n",
    "\\phi_m =  \\sum_{i=1}^{nc} {(x_i^2 + \\epsilon^2)}^{p/2}\n",
    "$$\n",
    "\n",
    "where $x_i$ denotes some function of the model parameter, and $\\epsilon$ is a small value to avoid singularity as $m\\rightarrow0$.\n",
    "\n",
    "For p=2, we get the usual least-squares measure and we recover the\n",
    "regularization presented above. For $p \\leq 1$, the function becomes\n",
    "non-linear which requires some tweaking. We can linearize the function by\n",
    "updating the penality function iteratively, commonly known as an Iterative Re-\n",
    "weighted Least-Squares (IRLS) method. The regularization function becomes:\n",
    "\n",
    "$$\n",
    "\\phi_m^{(k)} =  \\frac{1}{2}\\sum_{i=1}^{nc} r_i \\; x_i^2\n",
    "$$\n",
    "\n",
    "where we added the superscript $\\square^{(k)}$ to denote the IRLS iterations.\n",
    "The weights $r(x)$ are computed from model values obtained at a previous\n",
    "iteration such that:\n",
    "\n",
    "$$\n",
    "{r}_i  ={\\Big( {({x_i}^{(k-1)})}^{2} + \\epsilon^2\n",
    "\\Big)}^{p/2 - 1}\n",
    "$$\n",
    "\n",
    "where ${r}(x) \\in \\mathbb{R}^{nc}$.\n",
    "\n",
    "In matrix form, our objective function simply becomes:\n",
    "\n",
    "$$\n",
    "\\phi(m) =   \\|\\mathbf{W}_d \\left( \\mathbf{F}\\;\\mathbf{m} - \\mathbf{d}^{obs} \\right)\\|_2^2 + \\beta \\Big [ {\\| \\mathbf{W}_s \\;\\mathbf{R}_s\\;( \\mathbf{m - m^{ref}})\\|}^2_2  + \\sum_{i = x,y,z}  {\\|   \\mathbf{W}_i\\; \\mathbf{R}_i  \\; \\mathbf{G}_i \\; \\mathbf{m}\\|}^2_2  \\Big ]\n",
    "$$\n",
    "\n",
    "where the IRLS weights $\\mathbf{R}_s$ and $\\mathbf{R}_i$ are diagonal matrices defined as:\n",
    "\n",
    "$$\n",
    "{R}_{s_{jj}}  =  \\sqrt{\\eta_p}{\\Big[ {({m_j}^{(k-1)})}^{2} + \\epsilon_p^2 \\Big]}^{(p/2 - 1)/2}\n",
    "$$\n",
    "\n",
    "$$\n",
    "{R}_{i_{jj}}  =  \\sqrt{\\eta_q}{\\Big[ {\\left ({{(G_i\\;m^{(k-1)})}_j }\\right)}^{2} + \\epsilon_q^2 \\Big]}^{(q/2 - 1)/2}\n",
    "$$\n",
    "\n",
    "$$\n",
    "\\eta_p =  {\\epsilon_p}^{(1-p/2)}\\;,\n",
    "$$\n",
    "$$\n",
    "\\eta_q =   {\\epsilon_q}^{(1-q/2)}\n",
    "$$\n",
    "\n",
    "we added two scaling parameters $\\eta_p$ and $\\eta_q$ for reasons that we won't dicuss here, but turn out to be important to get stable solves.\n",
    "\n",
    "In order to initialize the IRLS and get an estimate for the stabilizing\n",
    "parameters $\\epsilon_p$ and $\\epsilon_q$, we first invert with the\n",
    "smooth $l_2$-norm. Once the target data misfit has been achieved, the\n",
    "inversion switches to the sparse regularization. This way we get a good\n",
    "starting point, hopefully close enough to the true solution. The whole IRLS\n",
    "process is implemented with a directive added to the inversion workflow."
   ]
  },
  {
   "cell_type": "code",
   "execution_count": null,
   "metadata": {
    "collapsed": true
   },
   "outputs": [],
   "source": [
    "# It is potential fields, so we will need to push the inverison down\n",
    "# Create distance weights from our linera forward operator\n",
    "wr = np.sum(prob.G**2.,axis=0)**0.5\n",
    "wr = ( wr/np.max(wr) )"
   ]
  },
  {
   "cell_type": "code",
   "execution_count": null,
   "metadata": {
    "collapsed": true
   },
   "outputs": [],
   "source": [
    "# REGULARIZATION\n",
    "reg = Regularization.Sparse(mesh, indActive=actv, mapping=idenMap)\n",
    "reg.cell_weights = wr\n",
    "\n",
    "# MISFIT FUNCTION\n",
    "dmis = DataMisfit.l2_DataMisfit(survey)\n",
    "dmis.W = 1/survey.std"
   ]
  },
  {
   "cell_type": "code",
   "execution_count": 9,
   "metadata": {
    "collapsed": false
   },
   "outputs": [
    {
     "ename": "TypeError",
     "evalue": "unsupported operand type(s) for *: 'float' and 'NoneType'",
     "output_type": "error",
     "traceback": [
      "\u001b[0;31m---------------------------------------------------------------------------\u001b[0m",
      "\u001b[0;31mTypeError\u001b[0m                                 Traceback (most recent call last)",
      "\u001b[0;32m<ipython-input-9-b98013adb818>\u001b[0m in \u001b[0;36m<module>\u001b[0;34m()\u001b[0m\n\u001b[1;32m     18\u001b[0m \u001b[0;31m# It is potential fields, so we will need to push the inverison down\u001b[0m\u001b[0;34m\u001b[0m\u001b[0;34m\u001b[0m\u001b[0m\n\u001b[1;32m     19\u001b[0m \u001b[0;31m# Create distance weights from our linera forward operator\u001b[0m\u001b[0;34m\u001b[0m\u001b[0;34m\u001b[0m\u001b[0m\n\u001b[0;32m---> 20\u001b[0;31m \u001b[0mwr\u001b[0m \u001b[0;34m=\u001b[0m \u001b[0mnp\u001b[0m\u001b[0;34m.\u001b[0m\u001b[0msum\u001b[0m\u001b[0;34m(\u001b[0m\u001b[0mprob\u001b[0m\u001b[0;34m.\u001b[0m\u001b[0mG\u001b[0m\u001b[0;34m**\u001b[0m\u001b[0;36m2.\u001b[0m\u001b[0;34m,\u001b[0m\u001b[0maxis\u001b[0m\u001b[0;34m=\u001b[0m\u001b[0;36m0\u001b[0m\u001b[0;34m)\u001b[0m\u001b[0;34m**\u001b[0m\u001b[0;36m0.5\u001b[0m\u001b[0;34m\u001b[0m\u001b[0m\n\u001b[0m\u001b[1;32m     21\u001b[0m \u001b[0mwr\u001b[0m \u001b[0;34m=\u001b[0m \u001b[0;34m(\u001b[0m \u001b[0mwr\u001b[0m\u001b[0;34m/\u001b[0m\u001b[0mnp\u001b[0m\u001b[0;34m.\u001b[0m\u001b[0mmax\u001b[0m\u001b[0;34m(\u001b[0m\u001b[0mwr\u001b[0m\u001b[0;34m)\u001b[0m \u001b[0;34m)\u001b[0m\u001b[0;34m\u001b[0m\u001b[0m\n\u001b[1;32m     22\u001b[0m \u001b[0;34m\u001b[0m\u001b[0m\n",
      "\u001b[0;32m/Users/lindseyjh/git/python_symlinks/SimPEG/PF/Magnetics.pyc\u001b[0m in \u001b[0;36mG\u001b[0;34m(self)\u001b[0m\n\u001b[1;32m     76\u001b[0m \u001b[0;34m\u001b[0m\u001b[0m\n\u001b[1;32m     77\u001b[0m         \u001b[0;32mif\u001b[0m \u001b[0mgetattr\u001b[0m\u001b[0;34m(\u001b[0m\u001b[0mself\u001b[0m\u001b[0;34m,\u001b[0m \u001b[0;34m'_G'\u001b[0m\u001b[0;34m,\u001b[0m \u001b[0mNone\u001b[0m\u001b[0;34m)\u001b[0m \u001b[0;32mis\u001b[0m \u001b[0mNone\u001b[0m\u001b[0;34m:\u001b[0m\u001b[0;34m\u001b[0m\u001b[0m\n\u001b[0;32m---> 78\u001b[0;31m             \u001b[0mself\u001b[0m\u001b[0;34m.\u001b[0m\u001b[0m_G\u001b[0m \u001b[0;34m=\u001b[0m \u001b[0mself\u001b[0m\u001b[0;34m.\u001b[0m\u001b[0mIntrgl_Fwr_Op\u001b[0m\u001b[0;34m(\u001b[0m\u001b[0;34m)\u001b[0m\u001b[0;34m\u001b[0m\u001b[0m\n\u001b[0m\u001b[1;32m     79\u001b[0m \u001b[0;34m\u001b[0m\u001b[0m\n\u001b[1;32m     80\u001b[0m         \u001b[0;32mreturn\u001b[0m \u001b[0mself\u001b[0m\u001b[0;34m.\u001b[0m\u001b[0m_G\u001b[0m\u001b[0;34m\u001b[0m\u001b[0m\n",
      "\u001b[0;32m/Users/lindseyjh/git/python_symlinks/SimPEG/PF/Magnetics.pyc\u001b[0m in \u001b[0;36mIntrgl_Fwr_Op\u001b[0;34m(self, m, Magnetization)\u001b[0m\n\u001b[1;32m    206\u001b[0m \u001b[0;34m\u001b[0m\u001b[0m\n\u001b[1;32m    207\u001b[0m                 \u001b[0;32mif\u001b[0m \u001b[0mself\u001b[0m\u001b[0;34m.\u001b[0m\u001b[0mrtype\u001b[0m \u001b[0;34m==\u001b[0m \u001b[0;34m'tmi'\u001b[0m\u001b[0;34m:\u001b[0m\u001b[0;34m\u001b[0m\u001b[0m\n\u001b[0;32m--> 208\u001b[0;31m                     \u001b[0mfwr_out\u001b[0m\u001b[0;34m[\u001b[0m\u001b[0mii\u001b[0m\u001b[0;34m]\u001b[0m \u001b[0;34m=\u001b[0m \u001b[0;34m(\u001b[0m\u001b[0mPtmi\u001b[0m\u001b[0;34m.\u001b[0m\u001b[0mdot\u001b[0m\u001b[0;34m(\u001b[0m\u001b[0mnp\u001b[0m\u001b[0;34m.\u001b[0m\u001b[0mvstack\u001b[0m\u001b[0;34m(\u001b[0m\u001b[0;34m(\u001b[0m\u001b[0mtx\u001b[0m\u001b[0;34m,\u001b[0m \u001b[0mty\u001b[0m\u001b[0;34m,\u001b[0m \u001b[0mtz\u001b[0m\u001b[0;34m)\u001b[0m\u001b[0;34m)\u001b[0m\u001b[0;34m)\u001b[0m\u001b[0;34m*\u001b[0m\u001b[0mMxyz\u001b[0m\u001b[0;34m)\u001b[0m\u001b[0;34m.\u001b[0m\u001b[0mdot\u001b[0m\u001b[0;34m(\u001b[0m\u001b[0mm\u001b[0m\u001b[0;34m)\u001b[0m\u001b[0;34m\u001b[0m\u001b[0m\n\u001b[0m\u001b[1;32m    209\u001b[0m \u001b[0;34m\u001b[0m\u001b[0m\n\u001b[1;32m    210\u001b[0m                 \u001b[0;32melif\u001b[0m \u001b[0mself\u001b[0m\u001b[0;34m.\u001b[0m\u001b[0mrtype\u001b[0m \u001b[0;34m==\u001b[0m \u001b[0;34m'xyz'\u001b[0m\u001b[0;34m:\u001b[0m\u001b[0;34m\u001b[0m\u001b[0m\n",
      "\u001b[0;31mTypeError\u001b[0m: unsupported operand type(s) for *: 'float' and 'NoneType'"
     ]
    }
   ],
   "source": [
    "# OPTIMIZATION\n",
    "# We solve the inverse problem with a projected Gauss-Newton solver\n",
    "opt = Optimization.ProjectedGNCG(maxIter=100 ,lower=0.,upper=1., maxIterLS = 20, maxIterCG= 10, tolCG = 1e-3)\n",
    "\n",
    "# INVERSE PROBLEM\n",
    "# Put all the components together\n",
    "invProb = InvProblem.BaseInvProblem(dmis, reg, opt)"
   ]
  },
  {
   "cell_type": "code",
   "execution_count": 11,
   "metadata": {
    "collapsed": false
   },
   "outputs": [
    {
     "ename": "Exception",
     "evalue": "norms attr is not recognized",
     "output_type": "error",
     "traceback": [
      "\u001b[0;31m---------------------------------------------------------------------------\u001b[0m",
      "\u001b[0;31mException\u001b[0m                                 Traceback (most recent call last)",
      "\u001b[0;32m<ipython-input-11-66336434a08a>\u001b[0m in \u001b[0;36m<module>\u001b[0;34m()\u001b[0m\n\u001b[1;32m     10\u001b[0m \u001b[0;31m# Use pick a treshold parameter empirically based on the distribution of model\u001b[0m\u001b[0;34m\u001b[0m\u001b[0;34m\u001b[0m\u001b[0m\n\u001b[1;32m     11\u001b[0m \u001b[0;31m# parameters (run last cell to see the histogram before and after IRLS)\u001b[0m\u001b[0;34m\u001b[0m\u001b[0;34m\u001b[0m\u001b[0m\n\u001b[0;32m---> 12\u001b[0;31m \u001b[0mIRLS\u001b[0m \u001b[0;34m=\u001b[0m \u001b[0mDirectives\u001b[0m\u001b[0;34m.\u001b[0m\u001b[0mUpdate_IRLS\u001b[0m\u001b[0;34m(\u001b[0m \u001b[0mnorms\u001b[0m\u001b[0;34m=\u001b[0m\u001b[0mdriver\u001b[0m\u001b[0;34m.\u001b[0m\u001b[0mlpnorms\u001b[0m\u001b[0;34m,\u001b[0m  \u001b[0meps\u001b[0m\u001b[0;34m=\u001b[0m\u001b[0;34m[\u001b[0m\u001b[0;36m3e-4\u001b[0m\u001b[0;34m,\u001b[0m\u001b[0;36m3e-4\u001b[0m\u001b[0;34m]\u001b[0m\u001b[0;34m,\u001b[0m\u001b[0mprctile\u001b[0m \u001b[0;34m=\u001b[0m \u001b[0;36m90\u001b[0m\u001b[0;34m,\u001b[0m \u001b[0mf_min_change\u001b[0m \u001b[0;34m=\u001b[0m \u001b[0;36m1e-4\u001b[0m\u001b[0;34m,\u001b[0m \u001b[0mminGNiter\u001b[0m\u001b[0;34m=\u001b[0m\u001b[0;36m3\u001b[0m\u001b[0;34m)\u001b[0m\u001b[0;34m\u001b[0m\u001b[0m\n\u001b[0m\u001b[1;32m     13\u001b[0m \u001b[0;34m\u001b[0m\u001b[0m\n\u001b[1;32m     14\u001b[0m \u001b[0;31m# We add the directives to the inverse problem\u001b[0m\u001b[0;34m\u001b[0m\u001b[0;34m\u001b[0m\u001b[0m\n",
      "\u001b[0;32m/Users/lindseyjh/git/python_symlinks/SimPEG/Directives.pyc\u001b[0m in \u001b[0;36m__init__\u001b[0;34m(self, **kwargs)\u001b[0m\n\u001b[1;32m     22\u001b[0m \u001b[0;34m\u001b[0m\u001b[0m\n\u001b[1;32m     23\u001b[0m     \u001b[0;32mdef\u001b[0m \u001b[0m__init__\u001b[0m\u001b[0;34m(\u001b[0m\u001b[0mself\u001b[0m\u001b[0;34m,\u001b[0m \u001b[0;34m**\u001b[0m\u001b[0mkwargs\u001b[0m\u001b[0;34m)\u001b[0m\u001b[0;34m:\u001b[0m\u001b[0;34m\u001b[0m\u001b[0m\n\u001b[0;32m---> 24\u001b[0;31m         \u001b[0mUtils\u001b[0m\u001b[0;34m.\u001b[0m\u001b[0msetKwargs\u001b[0m\u001b[0;34m(\u001b[0m\u001b[0mself\u001b[0m\u001b[0;34m,\u001b[0m \u001b[0;34m**\u001b[0m\u001b[0mkwargs\u001b[0m\u001b[0;34m)\u001b[0m\u001b[0;34m\u001b[0m\u001b[0m\n\u001b[0m\u001b[1;32m     25\u001b[0m \u001b[0;34m\u001b[0m\u001b[0m\n\u001b[1;32m     26\u001b[0m     \u001b[0;34m@\u001b[0m\u001b[0mproperty\u001b[0m\u001b[0;34m\u001b[0m\u001b[0m\n",
      "\u001b[0;32m/Users/lindseyjh/git/python_symlinks/SimPEG/Utils/codeutils.pyc\u001b[0m in \u001b[0;36msetKwargs\u001b[0;34m(obj, ignore, **kwargs)\u001b[0m\n\u001b[1;32m     68\u001b[0m             \u001b[0msetattr\u001b[0m\u001b[0;34m(\u001b[0m\u001b[0mobj\u001b[0m\u001b[0;34m,\u001b[0m \u001b[0mattr\u001b[0m\u001b[0;34m,\u001b[0m \u001b[0mkwargs\u001b[0m\u001b[0;34m[\u001b[0m\u001b[0mattr\u001b[0m\u001b[0;34m]\u001b[0m\u001b[0;34m)\u001b[0m\u001b[0;34m\u001b[0m\u001b[0m\n\u001b[1;32m     69\u001b[0m         \u001b[0;32melse\u001b[0m\u001b[0;34m:\u001b[0m\u001b[0;34m\u001b[0m\u001b[0m\n\u001b[0;32m---> 70\u001b[0;31m             \u001b[0;32mraise\u001b[0m \u001b[0mException\u001b[0m\u001b[0;34m(\u001b[0m\u001b[0;34m'{0!s} attr is not recognized'\u001b[0m\u001b[0;34m.\u001b[0m\u001b[0mformat\u001b[0m\u001b[0;34m(\u001b[0m\u001b[0mattr\u001b[0m\u001b[0;34m)\u001b[0m\u001b[0;34m)\u001b[0m\u001b[0;34m\u001b[0m\u001b[0m\n\u001b[0m\u001b[1;32m     71\u001b[0m \u001b[0;34m\u001b[0m\u001b[0m\n\u001b[1;32m     72\u001b[0m     \u001b[0;31m# hook(obj, hook, silent=True)\u001b[0m\u001b[0;34m\u001b[0m\u001b[0;34m\u001b[0m\u001b[0m\n",
      "\u001b[0;31mException\u001b[0m: norms attr is not recognized"
     ]
    }
   ],
   "source": [
    "# DIRECTIVES\n",
    "# We add a few directives\n",
    "# First to guess the initial beta\n",
    "betaest = Directives.BetaEstimate_ByEig()\n",
    "\n",
    "# Second, we add a pre-conditioner to speedup the CG solves\n",
    "update_Jacobi = Directives.Update_lin_PreCond()\n",
    "\n",
    "# Here is where the norms are applied\n",
    "# Use pick a treshold parameter empirically based on the distribution of model\n",
    "# parameters (run last cell to see the histogram before and after IRLS)\n",
    "IRLS = Directives.Update_IRLS( norms=driver.lpnorms,  eps=[3e-4,3e-4],prctile = 90, f_min_change = 1e-4, minGNiter=3)\n",
    "\n",
    "# We add the directives to the inverse problem\n",
    "inv = Inversion.BaseInversion(invProb, directiveList=[IRLS,betaest,update_Jacobi])"
   ]
  },
  {
   "cell_type": "code",
   "execution_count": null,
   "metadata": {
    "collapsed": true
   },
   "outputs": [],
   "source": [
    "# SOLVING\n",
    "# Finally, we run inversion...\n",
    "m0 = np.ones(len(actv))*1e-4\n",
    "mrec = inv.run(m0)\n",
    "\n",
    "# Map to full space the final model and l2 model\n",
    "m_lp = actvMap*mrec\n",
    "m_l2 = actvMap*reg.l2model\n",
    "\n",
    "# Once it is done, we can save the models (l2 and lp) to a file\n",
    "Mesh.TensorMesh.writeModelUBC(mesh, basePath + os.path.sep +  'SimPEG_MAG_l2l2.sus',m_l2)\n",
    "Mesh.TensorMesh.writeModelUBC(mesh, basePath + os.path.sep +  'SimPEG_MAG_lplq.sus',m_lp)"
   ]
  },
  {
   "cell_type": "markdown",
   "metadata": {},
   "source": [
    "Now we can plot sections and compare the smooth and compact models with the\n",
    "true solution."
   ]
  },
  {
   "cell_type": "code",
   "execution_count": 12,
   "metadata": {
    "collapsed": false
   },
   "outputs": [
    {
     "ename": "NameError",
     "evalue": "name 'basePath' is not defined",
     "output_type": "error",
     "traceback": [
      "\u001b[0;31m---------------------------------------------------------------------------\u001b[0m",
      "\u001b[0;31mNameError\u001b[0m                                 Traceback (most recent call last)",
      "\u001b[0;32m<ipython-input-12-a03440737734>\u001b[0m in \u001b[0;36m<module>\u001b[0;34m()\u001b[0m\n\u001b[0;32m----> 1\u001b[0;31m \u001b[0mmesh\u001b[0m \u001b[0;34m=\u001b[0m \u001b[0mMesh\u001b[0m\u001b[0;34m.\u001b[0m\u001b[0mTensorMesh\u001b[0m\u001b[0;34m.\u001b[0m\u001b[0mreadUBC\u001b[0m\u001b[0;34m(\u001b[0m\u001b[0mbasePath\u001b[0m \u001b[0;34m+\u001b[0m \u001b[0mos\u001b[0m\u001b[0;34m.\u001b[0m\u001b[0mpath\u001b[0m\u001b[0;34m.\u001b[0m\u001b[0msep\u001b[0m \u001b[0;34m+\u001b[0m \u001b[0;34m\"Mesh.msh\"\u001b[0m\u001b[0;34m)\u001b[0m\u001b[0;34m\u001b[0m\u001b[0m\n\u001b[0m\u001b[1;32m      2\u001b[0m \u001b[0;34m\u001b[0m\u001b[0m\n\u001b[1;32m      3\u001b[0m \u001b[0;31m# Load models\u001b[0m\u001b[0;34m\u001b[0m\u001b[0;34m\u001b[0m\u001b[0m\n\u001b[1;32m      4\u001b[0m \u001b[0mm_lp\u001b[0m \u001b[0;34m=\u001b[0m \u001b[0mMesh\u001b[0m\u001b[0;34m.\u001b[0m\u001b[0mTensorMesh\u001b[0m\u001b[0;34m.\u001b[0m\u001b[0mreadModelUBC\u001b[0m\u001b[0;34m(\u001b[0m\u001b[0mmesh\u001b[0m\u001b[0;34m,\u001b[0m \u001b[0mbasePath\u001b[0m \u001b[0;34m+\u001b[0m \u001b[0mos\u001b[0m\u001b[0;34m.\u001b[0m\u001b[0mpath\u001b[0m\u001b[0;34m.\u001b[0m\u001b[0msep\u001b[0m \u001b[0;34m+\u001b[0m  \u001b[0;34m\"SimPEG_MAG_lplq.sus\"\u001b[0m\u001b[0;34m)\u001b[0m\u001b[0;34m\u001b[0m\u001b[0m\n\u001b[1;32m      5\u001b[0m \u001b[0mm_l2\u001b[0m \u001b[0;34m=\u001b[0m \u001b[0mMesh\u001b[0m\u001b[0;34m.\u001b[0m\u001b[0mTensorMesh\u001b[0m\u001b[0;34m.\u001b[0m\u001b[0mreadModelUBC\u001b[0m\u001b[0;34m(\u001b[0m\u001b[0mmesh\u001b[0m\u001b[0;34m,\u001b[0m \u001b[0mbasePath\u001b[0m \u001b[0;34m+\u001b[0m \u001b[0mos\u001b[0m\u001b[0;34m.\u001b[0m\u001b[0mpath\u001b[0m\u001b[0;34m.\u001b[0m\u001b[0msep\u001b[0m \u001b[0;34m+\u001b[0m  \u001b[0;34m\"SimPEG_MAG_l2l2.sus\"\u001b[0m\u001b[0;34m)\u001b[0m\u001b[0;34m\u001b[0m\u001b[0m\n",
      "\u001b[0;31mNameError\u001b[0m: name 'basePath' is not defined"
     ]
    }
   ],
   "source": [
    "mesh = Mesh.TensorMesh.readUBC(basePath + os.path.sep + \"Mesh.msh\")\n",
    "\n",
    "# Load models\n",
    "m_lp = Mesh.TensorMesh.readModelUBC(mesh, basePath + os.path.sep +  \"SimPEG_MAG_lplq.sus\")\n",
    "m_l2 = Mesh.TensorMesh.readModelUBC(mesh, basePath + os.path.sep +  \"SimPEG_MAG_l2l2.sus\")\n",
    "m_true = Mesh.TensorMesh.readModelUBC(mesh, basePath + os.path.sep +  \"Initm.sus\")\n",
    "\n",
    "m_lp[m_lp==-100] = np.nan\n",
    "m_l2[m_l2==-100] = np.nan\n",
    "m_true[m_true==-100] = np.nan\n",
    "\n",
    "fig = plt.figure()\n",
    "vmin, vmax = 0.0, 0.015\n",
    "xmin, xmax = -500 + 557300, 500 + 557300\n",
    "ymin, ymax = -500 + 7133600, 500 + 7133600\n",
    "zmin, zmax = -500 + 450, 0 + 450\n",
    "indz = 17\n",
    "indx = 17\n",
    "\n",
    "# Axis label\n",
    "x = np.linspace(xmin+200, xmax-200,3)\n",
    "y = np.linspace(zmin+50, zmax-50,3)\n",
    "\n",
    "ax1 = plt.subplot(1,1,1)\n",
    "pos =  ax1.get_position()\n",
    "ax1.set_position([pos.x0-0.1, pos.y0+0.3,  pos.width*0.5, pos.height*0.5])\n",
    "dat = mesh.plotSlice(m_l2, ax = ax1, normal='Z', ind=indz, clim=np.r_[vmin, vmax],pcolorOpts={'cmap':'viridis'})\n",
    "#     plt.colorbar(dat[0])\n",
    "plt.gca().set_aspect('equal')\n",
    "plt.title('Smooth')\n",
    "ax1.xaxis.set_visible(False)\n",
    "plt.xlim(xmin, xmax)\n",
    "plt.ylim(ymin, ymax)\n",
    "plt.ylabel('Northing (m)')\n",
    "labels = ax1.get_yticklabels()\n",
    "plt.setp(labels, rotation=90)\n",
    "\n",
    "# ax2 = plt.subplot(2,2,3)\n",
    "pos =  ax1.get_position()\n",
    "ax2 = fig.add_axes([pos.x0+0.0525, pos.y0 - 0.315,  pos.width*0.725, pos.height])\n",
    "# ax2.yaxis.set_visible(False)\n",
    "# ax2.set_position([pos.x0 -0.04 , pos.y0,  pos.width, pos.height])\n",
    "\n",
    "dat = mesh.plotSlice(m_l2, ax = ax2, normal='Y', ind=indx, clim=np.r_[vmin, vmax],pcolorOpts={'cmap':'viridis'})\n",
    "#     plt.colorbar(dat[0])\n",
    "plt.gca().set_aspect('equal')\n",
    "plt.title('')\n",
    "plt.xlim(xmin, xmax)\n",
    "plt.ylim(zmin, zmax)\n",
    "ax2.set_xticks(map(int, x))\n",
    "ax2.set_xticklabels(map(str, map(int, x)),size=12)\n",
    "plt.xlabel('Easting (m)')\n",
    "plt.ylabel('Elev. (m)')\n",
    "ax2.set_yticks(map(int, y))\n",
    "ax2.set_yticklabels(map(str, map(int, y)),size=12)\n",
    "labels = ax2.get_yticklabels()\n",
    "plt.setp(labels, rotation=90)\n",
    "\n",
    "## Add compact model\n",
    "ax3 = fig.add_axes([pos.x0+0.3, pos.y0,  pos.width, pos.height])\n",
    "dat = mesh.plotSlice(m_lp, ax = ax3, normal='Z', ind=indz, clim=np.r_[vmin, vmax],pcolorOpts={'cmap':'viridis'})\n",
    "#     plt.colorbar(dat[0])\n",
    "plt.gca().set_aspect('equal')\n",
    "plt.title('Compact')\n",
    "ax3.xaxis.set_visible(False)\n",
    "ax3.yaxis.set_visible(False)\n",
    "plt.xlim(xmin, xmax)\n",
    "plt.ylim(ymin, ymax)\n",
    "\n",
    "ax4 = fig.add_axes([pos.x0+0.3525, pos.y0 - 0.315,  pos.width*0.725, pos.height])\n",
    "# ax2.yaxis.set_visible(False)\n",
    "# ax2.set_position([pos.x0 -0.04 , pos.y0,  pos.width, pos.height])\n",
    "\n",
    "dat = mesh.plotSlice(m_lp, ax = ax4, normal='Y', ind=indx, clim=np.r_[vmin, vmax],pcolorOpts={'cmap':'viridis'})\n",
    "#     plt.colorbar(dat[0])\n",
    "plt.gca().set_aspect('equal')\n",
    "ax4.yaxis.set_visible(False)\n",
    "plt.title('')\n",
    "plt.xlim(xmin, xmax)\n",
    "plt.ylim(zmin, zmax)\n",
    "ax4.set_xticks(map(int, x))\n",
    "ax4.set_xticklabels(map(str, map(int, x)),size=12)\n",
    "plt.xlabel('')\n",
    "# ylabel('Elev. (m)')\n",
    "\n",
    "## Add True model\n",
    "ax5 = fig.add_axes([pos.x0+0.6, pos.y0,  pos.width, pos.height])\n",
    "dat = mesh.plotSlice(m_true, ax = ax5, normal='Z', ind=indz, clim=np.r_[vmin, vmax],pcolorOpts={'cmap':'viridis'})\n",
    "#     plt.colorbar(dat[0])\n",
    "plt.gca().set_aspect('equal')\n",
    "plt.title('True')\n",
    "ax5.xaxis.set_visible(False)\n",
    "ax5.yaxis.set_visible(False)\n",
    "plt.xlim(xmin, xmax)\n",
    "plt.ylim(ymin, ymax)\n",
    "\n",
    "ax6 = fig.add_axes([pos.x0+0.6525, pos.y0 - 0.315,  pos.width*0.725, pos.height])\n",
    "# ax2.yaxis.set_visible(False)\n",
    "# ax2.set_position([pos.x0 -0.04 , pos.y0,  pos.width, pos.height])\n",
    "\n",
    "dat = mesh.plotSlice(m_true, ax = ax6, normal='Y', ind=indx, clim=np.r_[vmin, vmax],pcolorOpts={'cmap':'viridis'})\n",
    "#     plt.colorbar(dat[0])\n",
    "plt.gca().set_aspect('equal')\n",
    "ax6.yaxis.set_visible(False)\n",
    "plt.title('')\n",
    "plt.xlim(xmin, xmax)\n",
    "plt.ylim(zmin, zmax)\n",
    "ax6.set_xticks(map(int, x))\n",
    "ax6.set_xticklabels(map(str, map(int, x)),size=12)\n",
    "plt.xlabel('')\n",
    "# ylabel('Elev. (m)')\n",
    "\n",
    "pos =  ax4.get_position()\n",
    "cbarax = fig.add_axes([pos.x0 , pos.y0+0.05 ,  pos.width, pos.height*0.1])  ## the parameters are the specified position you set\n",
    "cb = fig.colorbar(dat[0],cax=cbarax, orientation=\"horizontal\", ax = ax4, ticks=np.linspace(vmin,vmax, 4),format='%.3f')\n",
    "cbarax.tick_params(labelsize=12)\n",
    "# cb.ax.xaxis.set_label_position('top')\n",
    "cb.set_label(\"Susceptibility (SI)\",size=14)\n",
    "\n",
    "plt.show()"
   ]
  },
  {
   "cell_type": "code",
   "execution_count": 21,
   "metadata": {
    "collapsed": false
   },
   "outputs": [],
   "source": [
    "# remove downloaded files\n",
    "[os.remove(f) for f in downloaded_files]\n",
    "os.removedirs(os.path.expanduser(download_path))"
   ]
  },
  {
   "cell_type": "markdown",
   "metadata": {},
   "source": [
    "### Summary\n",
    "\n",
    "\n",
    "We have inverted magnetic field data over a synthetic kimberlite pipe, using\n",
    "both a smooth and compact penalty. The smooth model gives a conservative and robust estimate of\n",
    "the kimberlite pipe location, as well as providing an excellent starting point\n",
    "for the sparse regularization. The compact model on the other hand gives a\n",
    "much closer estimate of susceptibility values and shape of the magnetic\n",
    "anomaly. More details about the scaled IRLS method can be found in this [thesis](https://open.library.ubc.ca/cIRcle/collections/ubctheses/24/items/1.0166794)"
   ]
  }
 ],
 "metadata": {
  "kernelspec": {
   "display_name": "Python 2",
   "language": "python",
   "name": "python2"
  },
  "language_info": {
   "codemirror_mode": {
    "name": "ipython",
    "version": 2
   },
   "file_extension": ".py",
   "mimetype": "text/x-python",
   "name": "python",
   "nbconvert_exporter": "python",
   "pygments_lexer": "ipython2",
   "version": "2.7.13"
  }
 },
 "nbformat": 4,
 "nbformat_minor": 2
}
