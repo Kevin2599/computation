{
 "cells": [
  {
   "cell_type": "markdown",
   "metadata": {},
   "source": [
    "# Linear Magnetic Inversion"
   ]
  },
  {
   "cell_type": "markdown",
   "metadata": {},
   "source": [
    "**Objective:** \n",
    "\n",
    "In this tutorial we will create a simple magnetic problem from scratch using the SimPEG framework.\n",
    "\n",
    "We are using the integral form of the magnetostatic problem. In the absence of free-currents or changing magnetic field, magnetic material can give rise to a secondary magnetic field according to:\n",
    "\n",
    "$$\\vec b = \\frac{\\mu_0}{4\\pi}  \\int_{V}   \\vec M \\cdot \\nabla \\nabla \\left(\\frac{1}{r}\\right) \\; dV $$\n",
    "\n",
    "Where $\\mu_0$ is the magnetic permealitity of free-space, $\\vec M$ is the magnetization per unit volume and $r$  defines the distance between the observed field $\\vec b$ and the magnetized object. Assuming a purely induced response, the strenght of magnetization can be written as:\n",
    "\n",
    "$$ \\vec M = \\mu_0 \\kappa \\vec H_0 $$\n",
    "\n",
    "where $\\vec H$ is an external inducing magnetic field, and $\\kappa$ the magnetic susceptibility of matter.\n",
    "As derived by Sharma 1966, the integral can be evaluated for rectangular prisms such that:\n",
    "\n",
    "$$ \\vec b(P) =  \\mathbf{T} \\cdot \\vec H_0 \\; \\kappa $$\n",
    "\n",
    "Where the tensor matrix $\\bf{T}$ relates the three components of magnetization $\\vec M$ to the components of the field $\\vec b$:\n",
    "\n",
    "$$\\mathbf{T} =\n",
    "\t \\begin{pmatrix}\n",
    "       \t\tT_{xx} & T_{xy} & T_{xz}    \\\\\n",
    "\t\tT_{yx} & T_{yy} & T_{yz}    \\\\\n",
    "\t\tT_{zx} & T_{zy} & T_{zz}           \n",
    "\t\\end{pmatrix} $$\n",
    "    \n",
    "In general, we discretize the earth into a collection of cells, each contributing to the magnetic data such that:\n",
    "\n",
    "$$\\vec b(P) = \\sum_{j=1}^{nc} \\mathbf{T}_j \\cdot \\vec H_0 \\; \\kappa_j$$\n",
    "\n",
    "giving rise to a linear problem.\n",
    "\n",
    "The remaining of this notebook goes through all the important components of a 3D magnetic experiment. From mesh creation, topography, data and inverse problem. \n",
    "\n",
    "Enjoy.\n"
   ]
  },
  {
   "cell_type": "code",
   "execution_count": 1,
   "metadata": {
    "collapsed": false
   },
   "outputs": [],
   "source": [
    "from SimPEG import Mesh\n",
    "from SimPEG.Utils import mkvc, surface2ind_topo\n",
    "from SimPEG import Maps\n",
    "from SimPEG import Regularization\n",
    "from SimPEG import DataMisfit\n",
    "from SimPEG import Optimization\n",
    "from SimPEG import InvProblem\n",
    "from SimPEG import Directives\n",
    "from SimPEG import Inversion\n",
    "from SimPEG import PF\n",
    "import numpy as np\n",
    "import matplotlib.pyplot as plt\n",
    "%matplotlib inline"
   ]
  },
  {
   "cell_type": "code",
   "execution_count": 2,
   "metadata": {
    "collapsed": false,
    "scrolled": true
   },
   "outputs": [],
   "source": [
    "# First we need to define the direction of the inducing field\n",
    "# As a simple case, we pick a vertical inducing field of magnitude 50,000nT. \n",
    "# From old convention, field orientation is given as an azimuth from North \n",
    "# (positive clockwise) and dip from the horizontal (positive downward).\n",
    "H0 = (60000.,90.,0.)\n",
    "\n",
    "\n",
    "# Create a mesh\n",
    "dx    = 5.\n",
    "\n",
    "hxind = [(dx,5,-1.3), (dx, 10), (dx,5,1.3)]\n",
    "hyind = [(dx,5,-1.3), (dx, 10), (dx,5,1.3)]\n",
    "hzind = [(dx,5,-1.3),(dx, 10)]\n",
    "\n",
    "mesh = Mesh.TensorMesh([hxind, hyind, hzind], 'CCC')\n",
    "\n",
    "# Get index of the center\n",
    "midx = int(mesh.nCx/2)\n",
    "midy = int(mesh.nCy/2)\n",
    "\n",
    "# Lets create a simple Gaussian topo and set the active cells\n",
    "[xx,yy] = np.meshgrid(mesh.vectorNx,mesh.vectorNy)\n",
    "zz = -np.exp( ( xx**2 + yy**2 )/ 75**2 ) + mesh.vectorNz[-1]\n",
    "\n",
    "topo = np.c_[mkvc(xx),mkvc(yy),mkvc(zz)] # We would usually load a topofile\n",
    "\n",
    "actv = surface2ind_topo(mesh,topo,'N') # Go from topo to actv cells\n",
    "actv = np.asarray([inds for inds, elem in enumerate(actv, 1) if elem], dtype = int) - 1\n",
    "#nC   = mesh.nC \n",
    "#actv = np.asarray(range(mesh.nC))\n",
    "\n",
    "# Create active map to go from reduce space to full\n",
    "actvMap = Maps.InjectActiveCells(mesh, actv, -100)\n",
    "nC = len(actv)\n",
    "\n",
    "# Create and array of observation points\n",
    "xr = np.linspace(-20., 20., 20)\n",
    "yr = np.linspace(-20., 20., 20)\n",
    "X, Y = np.meshgrid(xr, yr)\n",
    "\n",
    "# Let just put the observation above the topo\n",
    "Z = -np.exp( ( X**2 + Y**2 )/ 75**2 ) + mesh.vectorNz[-1] + 5.\n",
    "#Z = np.ones(shape(X)) * mesh.vectorCCz[-1]\n",
    "\n",
    "# Create a MAGsurvey\n",
    "rxLoc = np.c_[mkvc(X.T), mkvc(Y.T), mkvc(Z.T)]\n",
    "rxLoc = PF.BaseMag.RxObs(rxLoc)\n",
    "srcField = PF.BaseMag.SrcField([rxLoc],param = H0)\n",
    "survey = PF.BaseMag.LinearSurvey(srcField) \n"
   ]
  },
  {
   "cell_type": "markdown",
   "metadata": {},
   "source": [
    "Now that we have all our spatial components, we can create our linear system. For a single location and single component of the data, the system would look like this:\n",
    "\n",
    "$$ b_x =\n",
    "\t\\begin{bmatrix}\n",
    "\tT_{xx}^1 &... &T_{xx}^{nc} & T_{xy}^1 & ... & T_{xy}^{nc} & T_{xz}^1 & ... & T_{xz}^{nc}\\\\\n",
    "\t \\end{bmatrix}\n",
    "\t \\begin{bmatrix}\n",
    "\t\t\\mathbf{M}_x \\\\ \\mathbf{M}_y \\\\ \\mathbf{M}_z\n",
    "\t\\end{bmatrix} \\\\ $$\n",
    "\n",
    "where each of $T_{xx},\\;T_{xy},\\;T_{xz}$ are [nc x 1] long. For the $y$ and $z$ component, we need the two other rows of the tensor $\\mathbf{T}$.\n",
    "In our simple induced case, the magnetization direction $\\mathbf{M_x,\\;M_y\\;,Mz}$ are known and assumed to be constant everywhere, so we can reduce the size of the system such that: \n",
    "\n",
    "$$ \\vec{\\mathbf{d}}_{\\text{pred}} = (\\mathbf{T\\cdot M})\\; \\kappa$$\n",
    "\n",
    "\n",
    "\n",
    "In most geophysical surveys, we are not collecting all three components, but rather the magnitude of the field, or $Total\\;Magnetic\\;Intensity$ (TMI) data.\n",
    "Because the inducing field is really large, we will assume that the anomalous fields are parallel to $H_0$:\n",
    "\n",
    "$$ d^{TMI}  = \\hat H_0 \\cdot \\vec d$$\n",
    "\n",
    "We then end up with a much smaller system:\n",
    "\n",
    "$$ d^{TMI} = \\mathbf{F\\; \\kappa}$$\n",
    "\n",
    "where $\\mathbf{F} \\in \\mathbb{R}^{nd \\times nc}$ is our $forward$ operator."
   ]
  },
  {
   "cell_type": "code",
   "execution_count": 3,
   "metadata": {
    "collapsed": false
   },
   "outputs": [
    {
     "name": "stdout",
     "output_type": "stream",
     "text": [
      "Begin calculation of forward operator: ind\n",
      "Done 0.0 %\n",
      "Done 10.0 %\n",
      "Done 20.0 %\n",
      "Done 30.0 %\n",
      "Done 40.0 %\n",
      "Done 50.0 %\n",
      "Done 60.0 %\n",
      "Done 70.0 %\n",
      "Done 80.0 %\n",
      "Done 90.0 %\n",
      "Done 100% ...forward operator completed!!\n",
      "\n"
     ]
    }
   ],
   "source": [
    "# We can now create a susceptibility model and generate data\n",
    "# Lets start with a simple block in half-space\n",
    "model = np.zeros((mesh.nCx,mesh.nCy,mesh.nCz))\n",
    "model[(midx-2):(midx+2),(midy-2):(midy+2),-6:-2] = 0.02\n",
    "model = mkvc(model)\n",
    "model = model[actv]\n",
    "\n",
    "# Create active map to go from reduce set to full\n",
    "actvMap = Maps.InjectActiveCells(mesh, actv, -100)\n",
    "\n",
    "# Creat reduced identity map\n",
    "idenMap = Maps.IdentityMap(nP = nC)\n",
    "\n",
    "# Create the forward model operator\n",
    "prob = PF.Magnetics.MagneticIntegral(mesh, chiMap=idenMap, actInd=actv)\n",
    "\n",
    "# Pair the survey and problem\n",
    "survey.pair(prob)\n",
    "\n",
    "# Compute linear forward operator and compute some data\n",
    "d = prob.fields(model)"
   ]
  },
  {
   "cell_type": "code",
   "execution_count": 10,
   "metadata": {
    "collapsed": false
   },
   "outputs": [
    {
     "data": {
      "image/png": "[encoded data removed]",
      "text/plain": [
       "<matplotlib.figure.Figure at 0x1135a9450>"
      ]
     },
     "metadata": {},
     "output_type": "display_data"
    }
   ],
   "source": [
    "# Plot the model\n",
    "m_true = actvMap * model\n",
    "m_true[m_true==-100] = np.nan\n",
    "plt.figure()\n",
    "ax = plt.subplot(212)\n",
    "mesh.plotSlice(m_true, ax = ax, normal = 'Y', ind=midy, grid=True, clim = (0., model.max()), pcolorOpts={'cmap':'viridis'})\n",
    "plt.title('A simple block model.')\n",
    "plt.xlabel('x'); plt.ylabel('z')\n",
    "plt.gca().set_aspect('equal', adjustable='box')\n",
    "\n",
    "# We can now generate data\n",
    "data = d + np.random.randn(len(d)) # We add some random Gaussian noise (1nT)\n",
    "wd = np.ones(len(data))*1. # Assign flat uncertainties\n",
    "\n",
    "\n",
    "plt.subplot(221)\n",
    "plt.imshow(d.reshape(X.shape), extent=[xr.min(), xr.max(), yr.min(), yr.max()])\n",
    "plt.title('True data.')\n",
    "plt.gca().set_aspect('equal', adjustable='box')\n",
    "plt.colorbar()\n",
    "\n",
    "plt.subplot(222)\n",
    "plt.imshow(data.reshape(X.shape), extent=[xr.min(), xr.max(), yr.min(), yr.max()])\n",
    "plt.title('Data + Noise')\n",
    "plt.gca().set_aspect('equal', adjustable='box')\n",
    "plt.colorbar()\n",
    "\n",
    "plt.tight_layout()"
   ]
  },
  {
   "cell_type": "code",
   "execution_count": 5,
   "metadata": {
    "collapsed": false
   },
   "outputs": [
    {
     "data": {
      "image/png": "[encoded data removed]",
      "text/plain": [
       "<matplotlib.figure.Figure at 0x10d08f310>"
      ]
     },
     "metadata": {},
     "output_type": "display_data"
    }
   ],
   "source": [
    "# Create distance weights from our linera forward operator\n",
    "wr = np.sum(prob.G**2.,axis=0)**0.5\n",
    "wr = ( wr/np.max(wr) )\n",
    "\n",
    "\n",
    "wr_FULL = actvMap * wr\n",
    "wr_FULL[wr_FULL==-100] = np.nan\n",
    "plt.figure()\n",
    "ax = plt.subplot()\n",
    "mesh.plotSlice(wr_FULL, ax = ax, normal = 'Y', ind=midx, grid=True, clim = (0, wr.max()),pcolorOpts={'cmap':'viridis'})\n",
    "plt.title('Distance weighting')\n",
    "plt.xlabel('x');plt.ylabel('z')\n",
    "plt.gca().set_aspect('equal', adjustable='box')"
   ]
  },
  {
   "cell_type": "markdown",
   "metadata": {},
   "source": [
    "Once we have our problem, we can use the inversion tools in SimPEG to run our inversion:"
   ]
  },
  {
   "cell_type": "code",
   "execution_count": 6,
   "metadata": {
    "collapsed": false
   },
   "outputs": [
    {
     "name": "stdout",
     "output_type": "stream",
     "text": [
      "SimPEG.DataMisfit.l2_DataMisfit assigning default eps of 1e-5 * ||dobs||\n"
     ]
    }
   ],
   "source": [
    "#survey.makeSyntheticData(data, std=0.01)\n",
    "survey.dobs= data\n",
    "survey.std = wd\n",
    "survey.mtrue = model\n",
    "\n",
    "# Create a regularization\n",
    "reg = Regularization.Sparse(mesh, indActive=actv, mapping=idenMap)\n",
    "reg.cell_weights = wr\n",
    "reg.norms = [0, 1, 1, 1]\n",
    "reg.eps_p = 1e-3\n",
    "reg.eps_1 = 1e-3\n",
    "dmis = DataMisfit.l2_DataMisfit(survey)\n",
    "dmis.W = 1/wd\n",
    "\n",
    "# Add directives to the inversion\n",
    "opt = Optimization.ProjectedGNCG(maxIter=100 ,lower=0.,upper=1., maxIterLS = 20, maxIterCG= 10, tolCG = 1e-3)\n",
    "invProb = InvProblem.BaseInvProblem(dmis, reg, opt)\n",
    "betaest = Directives.BetaEstimate_ByEig()\n",
    "\n",
    "# Here is where the norms are applied\n",
    "# Use pick a treshold parameter empirically based on the distribution of model\n",
    "# parameters (run last cell to see the histogram before and after IRLS)\n",
    "IRLS = Directives.Update_IRLS(f_min_change = 1e-3, minGNiter=3)\n",
    "update_Jacobi = Directives.Update_lin_PreCond()\n",
    "inv = Inversion.BaseInversion(invProb, directiveList=[betaest, IRLS, update_Jacobi])\n",
    "\n",
    "m0 = np.ones(nC)*1e-4"
   ]
  },
  {
   "cell_type": "code",
   "execution_count": 7,
   "metadata": {
    "collapsed": false
   },
   "outputs": [
    {
     "name": "stdout",
     "output_type": "stream",
     "text": [
      "SimPEG.InvProblem will set Regularization.mref to m0.\n",
      "\n",
      "    SimPEG.InvProblem is setting bfgsH0 to the inverse of the eval2Deriv.\n",
      "    ***Done using same Solver and solverOpts as the problem***\n",
      "model has any nan: 0\n",
      "=============================== Projected GNCG ===============================\n",
      "  #     beta     phi_d     phi_m       f      |proj(x-g)-x|  LS    Comment   \n",
      "-----------------------------------------------------------------------------\n",
      "x0 has any nan: 0\n",
      "   0  1.53e+10  4.14e+05  0.00e+00  4.14e+05    6.27e+01      0              \n",
      "   1  7.66e+09  3.65e+05  1.51e-06  3.77e+05    6.26e+01      0              \n",
      "   2  3.83e+09  3.31e+05  4.82e-06  3.49e+05    6.25e+01      0   Skip BFGS  \n",
      "   3  1.91e+09  2.79e+05  1.47e-05  3.07e+05    6.23e+01      0   Skip BFGS  \n",
      "   4  9.57e+08  2.14e+05  3.94e-05  2.52e+05    6.19e+01      0   Skip BFGS  \n",
      "   5  4.79e+08  1.50e+05  8.71e-05  1.92e+05    6.11e+01      0   Skip BFGS  \n",
      "   6  2.39e+08  1.00e+05  1.61e-04  1.39e+05    6.02e+01      0   Skip BFGS  \n",
      "   7  1.20e+08  6.56e+04  2.64e-04  9.72e+04    5.84e+01      0   Skip BFGS  \n",
      "   8  5.98e+07  4.03e+04  4.15e-04  6.51e+04    5.50e+01      0   Skip BFGS  \n",
      "   9  2.99e+07  2.15e+04  6.37e-04  4.06e+04    5.09e+01      0   Skip BFGS  \n",
      "  10  1.50e+07  9.64e+03  9.15e-04  2.33e+04    4.62e+01      0   Skip BFGS  \n",
      "  11  7.48e+06  3.68e+03  1.19e-03  1.26e+04    3.51e+01      0   Skip BFGS  \n",
      "  12  3.74e+06  1.27e+03  1.40e-03  6.51e+03    4.62e+01      0   Skip BFGS  \n",
      "  13  1.87e+06  5.06e+02  1.54e-03  3.38e+03    4.34e+01      0   Skip BFGS  \n",
      "  14  9.35e+05  2.81e+02  1.62e-03  1.79e+03    4.10e+01      0   Skip BFGS  \n",
      "  15  4.67e+05  2.18e+02  1.66e-03  9.95e+02    3.66e+01      0   Skip BFGS  \n",
      "Convergence with smooth l2-norm regularization: Start IRLS steps...\n",
      "L[p qx qy qz]-norm : [0 1 1 1]\n",
      "eps_p: 0.001 eps_q: 0.000835434690391\n",
      "Regularization decrease: 3.255e+01\n",
      "  16  4.67e+05  1.99e+02  1.69e-03  9.89e+02    4.17e+01      0   Skip BFGS  \n",
      "  17  4.67e+05  2.13e+02  1.23e-03  7.87e+02    5.77e+01      0              \n",
      "  18  4.67e+05  2.21e+02  1.19e-03  7.79e+02    6.03e+01      0   Skip BFGS  \n",
      "Regularization decrease: 2.588e-01\n",
      "  19  4.40e+05  2.12e+02  1.19e-03  7.38e+02    3.43e+01      0              \n",
      "  20  4.40e+05  2.15e+02  1.07e-03  6.85e+02    5.63e+01      0              \n",
      "  21  4.40e+05  2.13e+02  1.06e-03  6.82e+02    6.00e+01      0              \n",
      "Regularization decrease: 9.177e-02\n",
      "  22  4.15e+05  2.12e+02  1.06e-03  6.53e+02    3.98e+01      0              \n",
      "  23  4.15e+05  2.14e+02  9.27e-04  5.98e+02    4.22e+01      0              \n",
      "  24  4.15e+05  2.08e+02  9.27e-04  5.92e+02    3.18e+01      0              \n",
      "Regularization decrease: 1.147e-01\n",
      "  25  4.15e+05  2.08e+02  9.27e-04  5.92e+02    3.50e+01      0              \n",
      "  26  4.15e+05  2.08e+02  7.85e-04  5.34e+02    3.55e+01      0              \n",
      "  27  4.15e+05  2.03e+02  7.79e-04  5.25e+02    3.49e+01      0              \n",
      "Regularization decrease: 1.620e-01\n",
      "  28  4.15e+05  2.03e+02  7.79e-04  5.26e+02    3.56e+01      0              \n",
      "  29  4.15e+05  2.00e+02  6.83e-04  4.83e+02    3.61e+01      0              \n",
      "  30  4.15e+05  1.99e+02  6.76e-04  4.79e+02    3.54e+01      0              \n",
      "Regularization decrease: 1.025e-01\n",
      "  31  4.15e+05  1.99e+02  6.76e-04  4.79e+02    5.24e+01      0              \n",
      "  32  4.15e+05  1.98e+02  6.04e-04  4.48e+02    3.88e+01      0              \n",
      "  33  4.15e+05  1.97e+02  6.02e-04  4.47e+02    3.71e+01      0              \n",
      "Regularization decrease: 8.474e-02\n",
      "  34  4.15e+05  1.97e+02  6.02e-04  4.46e+02    5.02e+01      0              \n",
      "  35  4.15e+05  1.98e+02  5.44e-04  4.23e+02    3.83e+01      0              \n",
      "  36  4.15e+05  1.98e+02  5.43e-04  4.23e+02    3.87e+01      0              \n",
      "Regularization decrease: 1.253e-01\n",
      "  37  4.15e+05  1.97e+02  5.43e-04  4.22e+02    4.17e+01      0              \n",
      "  38  4.15e+05  1.98e+02  5.25e-04  4.16e+02    3.90e+01      0              \n",
      "  39  4.15e+05  1.98e+02  5.24e-04  4.16e+02    3.55e+01      0              \n",
      "Regularization decrease: 5.187e-02\n",
      "  40  4.15e+05  1.98e+02  5.24e-04  4.16e+02    4.68e+01      0              \n",
      "  41  4.15e+05  1.98e+02  5.20e-04  4.14e+02    3.82e+01      0              \n",
      "  42  4.15e+05  1.98e+02  5.19e-04  4.14e+02    2.83e+01      0              \n",
      "Regularization decrease: 1.489e-02\n",
      "  43  4.15e+05  1.98e+02  5.19e-04  4.14e+02    2.43e+01      0              \n",
      "  44  4.15e+05  1.98e+02  5.17e-04  4.12e+02    4.46e+01      0              \n",
      "  45  4.15e+05  1.98e+02  5.17e-04  4.12e+02    2.84e+01      0              \n",
      "Reach maximum number of IRLS cycles: 10\n",
      "------------------------- STOP! -------------------------\n",
      "1 : |fc-fOld| = 0.0000e+00 <= tolF*(1+|f0|) = 4.1427e+04\n",
      "1 : |xc-x_last| = 8.4709e-04 <= tolX*(1+|x0|) = 1.0075e-01\n",
      "0 : |proj(x-g)-x|    = 2.8371e+01 <= tolG          = 1.0000e-01\n",
      "0 : |proj(x-g)-x|    = 2.8371e+01 <= 1e3*eps       = 1.0000e-02\n",
      "0 : maxIter   =     100    <= iter          =     46\n",
      "------------------------- DONE! -------------------------\n"
     ]
    }
   ],
   "source": [
    "mrec = inv.run(m0)"
   ]
  },
  {
   "cell_type": "markdown",
   "metadata": {},
   "source": [
    "Inversion has converged. We can plot sections through the model."
   ]
  },
  {
   "cell_type": "code",
   "execution_count": 8,
   "metadata": {
    "collapsed": false
   },
   "outputs": [
    {
     "data": {
      "image/png": "[encoded data removed]",
      "text/plain": [
       "<matplotlib.figure.Figure at 0x111777150>"
      ]
     },
     "metadata": {},
     "output_type": "display_data"
    }
   ],
   "source": [
    "# Here is the recovered susceptibility model\n",
    "ypanel = midx\n",
    "zpanel = -4\n",
    "m_l2 = actvMap * IRLS.l2model\n",
    "m_l2[m_l2==-100] = np.nan\n",
    "\n",
    "m_lp = actvMap * mrec\n",
    "m_lp[m_lp==-100] = np.nan\n",
    "\n",
    "m_true = actvMap * model\n",
    "m_true[m_true==-100] = np.nan\n",
    "\n",
    "plt.figure()\n",
    "\n",
    "#Plot L2 model\n",
    "ax = plt.subplot(231)\n",
    "mesh.plotSlice(m_l2, ax = ax, normal = 'Z', ind=zpanel, grid=True, clim = (0., model.max()),pcolorOpts={'cmap':'viridis'})\n",
    "plt.plot(([mesh.vectorCCx[0],mesh.vectorCCx[-1]]),([mesh.vectorCCy[ypanel],mesh.vectorCCy[ypanel]]),color='w')\n",
    "plt.title('Plan l2-model.')\n",
    "plt.gca().set_aspect('equal')\n",
    "plt.ylabel('y')\n",
    "ax.xaxis.set_visible(False)\n",
    "plt.gca().set_aspect('equal', adjustable='box')\n",
    "\n",
    "# Vertica section\n",
    "ax = plt.subplot(234)\n",
    "mesh.plotSlice(m_l2, ax = ax, normal = 'Y', ind=midx, grid=True, clim = (0., model.max()),pcolorOpts={'cmap':'viridis'})\n",
    "plt.plot(([mesh.vectorCCx[0],mesh.vectorCCx[-1]]),([mesh.vectorCCz[zpanel],mesh.vectorCCz[zpanel]]),color='w')\n",
    "plt.plot(([mesh.vectorCCx[0],mesh.vectorCCx[-1]]),([Z.min(),Z.max()]),color='k')\n",
    "plt.title('E-W l2-model.')\n",
    "plt.gca().set_aspect('equal')\n",
    "plt.xlabel('x')\n",
    "plt.ylabel('z')\n",
    "plt.gca().set_aspect('equal', adjustable='box')\n",
    "\n",
    "#Plot Lp model\n",
    "ax = plt.subplot(232)\n",
    "mesh.plotSlice(m_lp, ax = ax, normal = 'Z', ind=zpanel, grid=True, clim = (0., model.max()),pcolorOpts={'cmap':'viridis'})\n",
    "plt.plot(([mesh.vectorCCx[0],mesh.vectorCCx[-1]]),([mesh.vectorCCy[ypanel],mesh.vectorCCy[ypanel]]),color='w')\n",
    "plt.title('Plan lp-model.')\n",
    "plt.gca().set_aspect('equal')\n",
    "ax.xaxis.set_visible(False)\n",
    "ax.yaxis.set_visible(False)\n",
    "plt.gca().set_aspect('equal', adjustable='box')\n",
    "\n",
    "\n",
    "# Vertical section\n",
    "ax = plt.subplot(235)\n",
    "mesh.plotSlice(m_lp, ax = ax, normal = 'Y', ind=midx, grid=True, clim = (0., model.max()),pcolorOpts={'cmap':'viridis'})\n",
    "plt.plot(([mesh.vectorCCx[0],mesh.vectorCCx[-1]]),([mesh.vectorCCz[zpanel],mesh.vectorCCz[zpanel]]),color='w')\n",
    "plt.title('E-W lp-model.')\n",
    "plt.gca().set_aspect('equal')\n",
    "ax.yaxis.set_visible(False)\n",
    "plt.xlabel('x')\n",
    "plt.gca().set_aspect('equal', adjustable='box')\n",
    "\n",
    "#Plot True model\n",
    "ax = plt.subplot(233)\n",
    "mesh.plotSlice(m_true, ax = ax, normal = 'Z', ind=zpanel, grid=True, clim = (0., model.max()),pcolorOpts={'cmap':'viridis'})\n",
    "plt.plot(([mesh.vectorCCx[0],mesh.vectorCCx[-1]]),([mesh.vectorCCy[ypanel],mesh.vectorCCy[ypanel]]),color='w')\n",
    "plt.title('Plan true model.')\n",
    "plt.gca().set_aspect('equal')\n",
    "ax.xaxis.set_visible(False)\n",
    "ax.yaxis.set_visible(False)\n",
    "plt.gca().set_aspect('equal', adjustable='box')\n",
    "\n",
    "\n",
    "# Vertical section\n",
    "ax = plt.subplot(236)\n",
    "mesh.plotSlice(m_true, ax = ax, normal = 'Y', ind=midx, grid=True, clim = (0., model.max()),pcolorOpts={'cmap':'viridis'})\n",
    "plt.plot(([mesh.vectorCCx[0],mesh.vectorCCx[-1]]),([mesh.vectorCCz[zpanel],mesh.vectorCCz[zpanel]]),color='w')\n",
    "plt.title('E-W true model.')\n",
    "plt.gca().set_aspect('equal')\n",
    "plt.xlabel('x')\n",
    "ax.yaxis.set_visible(False)\n",
    "plt.gca().set_aspect('equal', adjustable='box')\n",
    "\n"
   ]
  },
  {
   "cell_type": "markdown",
   "metadata": {},
   "source": [
    "Great, we have a 3D model of susceptibility, but the job is not done yet.\n",
    "A VERY important step of the inversion workflow is to look at how well the model can predict the observed data.\n",
    "The figure below compares the observed, predicted and normalized residual.\n"
   ]
  },
  {
   "cell_type": "code",
   "execution_count": 9,
   "metadata": {
    "collapsed": false
   },
   "outputs": [
    {
     "data": {
      "text/plain": [
       "<matplotlib.colorbar.Colorbar at 0x11361e690>"
      ]
     },
     "execution_count": 9,
     "metadata": {},
     "output_type": "execute_result"
    },
    {
     "data": {
      "image/png": "[encoded data removed]",
      "text/plain": [
       "<matplotlib.figure.Figure at 0x11191be10>"
      ]
     },
     "metadata": {},
     "output_type": "display_data"
    }
   ],
   "source": [
    "# Plot predicted data and residual\n",
    "plt.figure()\n",
    "pred = prob.fields(mrec)  #: this is matrix multiplication!!\n",
    "\n",
    "plt.subplot(221)\n",
    "plt.imshow(data.reshape(X.shape))\n",
    "plt.title('Observed data.')\n",
    "plt.gca().set_aspect('equal', adjustable='box')\n",
    "plt.colorbar()\n",
    "\n",
    "plt.subplot(222)\n",
    "plt.imshow(pred.reshape(X.shape))\n",
    "plt.title('Predicted data.')\n",
    "plt.gca().set_aspect('equal', adjustable='box')\n",
    "plt.colorbar()\n",
    "\n",
    "plt.subplot(223)\n",
    "plt.imshow(data.reshape(X.shape) - pred.reshape(X.shape))\n",
    "plt.title('Residual data.')\n",
    "plt.gca().set_aspect('equal', adjustable='box')\n",
    "plt.colorbar()\n",
    "\n",
    "plt.subplot(224)\n",
    "plt.imshow( (data.reshape(X.shape) - pred.reshape(X.shape)) / wd.reshape(X.shape) )\n",
    "plt.title('Normalized Residual')\n",
    "plt.gca().set_aspect('equal', adjustable='box')\n",
    "plt.colorbar()\n",
    "\n",
    "plt.tight_layout()"
   ]
  },
  {
   "cell_type": "markdown",
   "metadata": {},
   "source": [
    "Good job! \n",
    "Hopefully we covered all the important points regarding the inversion of magnetic field data using the integral formulation.\n",
    "\n",
    "Make sure you visit the notebook for the compact norms regularization.\n",
    "\n",
    "Cheers!"
   ]
  },
  {
   "cell_type": "code",
   "execution_count": null,
   "metadata": {
    "collapsed": true
   },
   "outputs": [],
   "source": []
  }
 ],
 "metadata": {
  "kernelspec": {
   "display_name": "Python 2",
   "language": "python",
   "name": "python2"
  },
  "language_info": {
   "codemirror_mode": {
    "name": "ipython",
    "version": 2
   },
   "file_extension": ".py",
   "mimetype": "text/x-python",
   "name": "python",
   "nbconvert_exporter": "python",
   "pygments_lexer": "ipython2",
   "version": "2.7.13"
  }
 },
 "nbformat": 4,
 "nbformat_minor": 2
}
