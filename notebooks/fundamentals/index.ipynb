{
 "cells": [
  {
   "cell_type": "markdown",
   "metadata": {},
   "source": [
    "# Fundamentals\n",
    "\n",
    "These notebooks are tutorials that accompany the Fundamentals in <a href=\"http://computation.geosci.xyz\">computation.geosci.xyz</a>. These are under construction, so please <a href=\"https://github.com/geoscixyz/computation/issues\">make an issue on github</a> if you run into any issues or gaps in explination!\n",
    "\n",
    "**Contents**\n",
    "\n",
    "- <a href=\"tools.ipynb\">Tools</a>\n",
    "- <a href=\"pixels_and_neighbors/index.ipynb\">Pixels and Their Neighbors</a>"
   ]
  },
  {
   "cell_type": "code",
   "execution_count": null,
   "metadata": {
    "collapsed": true
   },
   "outputs": [],
   "source": []
  }
 ],
 "metadata": {
  "anaconda-cloud": {},
  "kernelspec": {
   "display_name": "Python 2",
   "language": "python",
   "name": "python2"
  },
  "language_info": {
   "codemirror_mode": {
    "name": "ipython",
    "version": 2
   },
   "file_extension": ".py",
   "mimetype": "text/x-python",
   "name": "python",
   "nbconvert_exporter": "python",
   "pygments_lexer": "ipython2",
   "version": "2.7.13"
  }
 },
 "nbformat": 4,
 "nbformat_minor": 0
}
