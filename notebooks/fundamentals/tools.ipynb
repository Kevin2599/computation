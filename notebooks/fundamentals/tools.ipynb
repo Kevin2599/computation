{
 "cells": [
  {
   "cell_type": "markdown",
   "metadata": {},
   "source": [
    "#  Tools\n",
    "\n",
    "- **Purpose:** To introduce and provide resources for the tools used to build and work with <a href=\"http://simpeg.xyz\">SimPEG</a>\n",
    "\n",
    "\n",
    "In this tutorial, we cover some of the basic tools you will need for scientific computing with Python. This follows the <a href = http://simpegtutorials.readthedocs.org/en/latest/content/tools.html>Tools</a> section of the <a href= http://simpegtutorials.readthedocs.org/>SimPEG Tutorials</a>. \n",
    "\n",
    "This development environment is the <a href = http://jupyter.org>Jupyter Notebook</a>. \n",
    "- To run a cell, is `Shift + Enter`\n",
    "- To clear your kernel `Esc + 00`\n",
    "- other keyboard shortcuts are available through the help\n",
    "\n",
    "In this notebook, we cover some basics of:\n",
    "- <a href=\"https://www.python.org/\">Python</a>\n",
    "- <a href=\"http://www.numpy.org/\">NumPy</a>\n",
    "- <a href=\"https://www.scipy.org/\">SciPy</a>\n",
    "- <a href=\"http://matplotlib.org/\">Matplotlib</a>\n"
   ]
  },
  {
   "cell_type": "markdown",
   "metadata": {},
   "source": [
    "## Jupyter Notebook\n",
    "\n",
    "<img src=\"http://blog.jupyter.org/content/images/2015/02/jupyter-sq-text.png\" width=\"80\" href=\"http://jupyter.org\">\n",
    "\n",
    "A <a href=\"\">notebook</a> containing the following examples is available for you to download\n",
    "and follow along. In the directory where you downloaded the notebook, open up\n",
    "a <a href=\"http://jupyter.org\">Jupyter Notebook</a> from a terminal\n",
    "\n",
    "```\n",
    "    jupyter notebook\n",
    "```\n",
    "\n",
    "and open `tools.ipynb`. A few things to note\n",
    "\n",
    "<img src=\"../../images/notebookpointers.png\">\n",
    "\n",
    "- To execute a cell is **Shift + Enter**\n",
    "- To restart the kernel (clean your slate) is **Esc + 00**\n",
    "\n",
    "Throughout this tutorial, we will show a few tips for working with the\n",
    "notebook."
   ]
  },
  {
   "cell_type": "markdown",
   "metadata": {},
   "source": [
    "## Python \n",
    "\n",
    "<img href=\"https://www.python.org/\" src=\"https://upload.wikimedia.org/wikipedia/commons/thumb/c/c3/Python-logo-notext.svg/220px-Python-logo-notext.svg.png\" width=60>\n",
    "\n",
    "Python is a high-level interpreted computing language. Here we outline a few\n",
    "of the basics and common trip-ups. For more information and tutorials, check\n",
    "out the <a href=\"<https://www.python.org/doc/>\"Python Documentation</a>.\n"
   ]
  },
  {
   "cell_type": "markdown",
   "metadata": {},
   "source": [
    "### Types"
   ]
  },
  {
   "cell_type": "code",
   "execution_count": 1,
   "metadata": {
    "collapsed": false
   },
   "outputs": [
    {
     "name": "stdout",
     "output_type": "stream",
     "text": [
      "True\n",
      "True\n",
      "True\n"
     ]
    },
    {
     "data": {
      "text/plain": [
       "NoneType"
      ]
     },
     "execution_count": 1,
     "metadata": {},
     "output_type": "execute_result"
    }
   ],
   "source": [
    "# python has /types\n",
    "print(type(1) == int)\n",
    "print(type(1.) == float)\n",
    "print(type(1j) == complex)\n",
    "type(None)"
   ]
  },
  {
   "cell_type": "code",
   "execution_count": 2,
   "metadata": {
    "collapsed": false
   },
   "outputs": [
    {
     "name": "stdout",
     "output_type": "stream",
     "text": [
      "2.0\n"
     ]
    }
   ],
   "source": [
    "# What happens if you add values of different types?\n",
    "print(1 + 1.)"
   ]
  },
  {
   "cell_type": "markdown",
   "metadata": {},
   "source": [
    "### Lists"
   ]
  },
  {
   "cell_type": "code",
   "execution_count": 3,
   "metadata": {
    "collapsed": false
   },
   "outputs": [
    {
     "data": {
      "text/plain": [
       "list"
      ]
     },
     "execution_count": 3,
     "metadata": {},
     "output_type": "execute_result"
    }
   ],
   "source": [
    "mylist = [6, 5, 4, 3]\n",
    "type(mylist)"
   ]
  },
  {
   "cell_type": "code",
   "execution_count": 4,
   "metadata": {
    "collapsed": false
   },
   "outputs": [
    {
     "data": {
      "text/plain": [
       "4"
      ]
     },
     "execution_count": 4,
     "metadata": {},
     "output_type": "execute_result"
    }
   ],
   "source": [
    "# length of a list\n",
    "len(mylist)"
   ]
  },
  {
   "cell_type": "code",
   "execution_count": 5,
   "metadata": {
    "collapsed": false
   },
   "outputs": [
    {
     "name": "stdout",
     "output_type": "stream",
     "text": [
      "6\n"
     ]
    }
   ],
   "source": [
    "# python uses zero based indexing\n",
    "print(mylist[0])"
   ]
  },
  {
   "cell_type": "code",
   "execution_count": 6,
   "metadata": {
    "collapsed": false
   },
   "outputs": [
    {
     "name": "stdout",
     "output_type": "stream",
     "text": [
      "[6, 5]\n",
      "[4, 3]\n",
      "3\n"
     ]
    }
   ],
   "source": [
    "print(mylist[:2]) # counting up\n",
    "print(mylist[2:]) # starting from\n",
    "print(mylist[-1]) # going back"
   ]
  },
  {
   "cell_type": "markdown",
   "metadata": {},
   "source": [
    "### Loops and List Comprehension"
   ]
  },
  {
   "cell_type": "code",
   "execution_count": 7,
   "metadata": {
    "collapsed": true
   },
   "outputs": [],
   "source": [
    "n = 10 # try making this larger --> see which is faster"
   ]
  },
  {
   "cell_type": "code",
   "execution_count": 8,
   "metadata": {
    "collapsed": false
   },
   "outputs": [
    {
     "name": "stdout",
     "output_type": "stream",
     "text": [
      "[0, 1, 2, 3, 4, 5, 6, 7, 8, 9]\n",
      "CPU times: user 96 µs, sys: 44 µs, total: 140 µs\n",
      "Wall time: 145 µs\n"
     ]
    }
   ],
   "source": [
    "%%time \n",
    "a = []\n",
    "for i in range(n): # for loop assignment\n",
    "    a.append(i)\n",
    "print(a)"
   ]
  },
  {
   "cell_type": "code",
   "execution_count": 9,
   "metadata": {
    "collapsed": false
   },
   "outputs": [
    {
     "name": "stdout",
     "output_type": "stream",
     "text": [
      "[0, 1, 2, 3, 4, 5, 6, 7, 8, 9]\n",
      "CPU times: user 89 µs, sys: 48 µs, total: 137 µs\n",
      "Wall time: 141 µs\n"
     ]
    }
   ],
   "source": [
    "%%time\n",
    "b = [i for i in range(n)]  # list comprehension\n",
    "print(b)"
   ]
  },
  {
   "cell_type": "code",
   "execution_count": 10,
   "metadata": {
    "collapsed": false
   },
   "outputs": [
    {
     "name": "stdout",
     "output_type": "stream",
     "text": [
      "(0, 'Monty')\n",
      "(1, 'Python')\n",
      "(2, 'Flying')\n",
      "(3, 'Circus')\n"
     ]
    }
   ],
   "source": [
    "# Enumerateing \n",
    "mylist = ['Monty', 'Python', 'Flying', 'Circus']\n",
    "for i, val in enumerate(mylist):\n",
    "    print(i, val)"
   ]
  },
  {
   "cell_type": "markdown",
   "metadata": {},
   "source": [
    "### If, elif, else"
   ]
  },
  {
   "cell_type": "code",
   "execution_count": 11,
   "metadata": {
    "collapsed": false
   },
   "outputs": [
    {
     "name": "stdout",
     "output_type": "stream",
     "text": [
      "[ 80.] is too high\n"
     ]
    }
   ],
   "source": [
    "# Pick a random number between 0 and 100\n",
    "import numpy as np  # n-dimensional array package\n",
    "number = (100.*np.random.rand(1)).round() # make it an integer\n",
    "if number > 42:\n",
    "    print('{} is too high'.format(number))\n",
    "elif number < 42:\n",
    "    print('{} is too low'.format(number))\n",
    "else:\n",
    "    print('you found the secret to life. {}'.format(number))"
   ]
  },
  {
   "cell_type": "markdown",
   "metadata": {},
   "source": [
    "### Functions"
   ]
  },
  {
   "cell_type": "code",
   "execution_count": 12,
   "metadata": {
    "collapsed": true
   },
   "outputs": [],
   "source": [
    "def pickAnumber(number):\n",
    "    if number > 42:\n",
    "        print('{} is too high'.format(number))\n",
    "        return False\n",
    "    elif number < 42:\n",
    "        print('{} is too low'.format(number))\n",
    "        return False\n",
    "    else:\n",
    "        print('you found the secret to life. {}'.format(number))\n",
    "        return True"
   ]
  },
  {
   "cell_type": "code",
   "execution_count": 13,
   "metadata": {
    "collapsed": false
   },
   "outputs": [
    {
     "name": "stdout",
     "output_type": "stream",
     "text": [
      "10 is too low\n",
      "False\n"
     ]
    }
   ],
   "source": [
    "print(pickAnumber(10))"
   ]
  },
  {
   "cell_type": "markdown",
   "metadata": {
    "collapsed": true
   },
   "source": [
    "## NumPy"
   ]
  },
  {
   "cell_type": "code",
   "execution_count": 14,
   "metadata": {
    "collapsed": true
   },
   "outputs": [],
   "source": [
    "import numpy as np"
   ]
  },
  {
   "cell_type": "code",
   "execution_count": 15,
   "metadata": {
    "collapsed": false
   },
   "outputs": [
    {
     "name": "stdout",
     "output_type": "stream",
     "text": [
      "()\n",
      "(1,)\n",
      "(1, 1)\n"
     ]
    }
   ],
   "source": [
    "a = np.array(1) # scalar\n",
    "print(a.shape)\n",
    "\n",
    "b = np.array([1]) # vector\n",
    "print(b.shape)\n",
    "\n",
    "c = np.array([[1]]) # array\n",
    "print(c.shape)"
   ]
  },
  {
   "cell_type": "code",
   "execution_count": 16,
   "metadata": {
    "collapsed": false
   },
   "outputs": [
    {
     "name": "stdout",
     "output_type": "stream",
     "text": [
      "(10,)\n"
     ]
    }
   ],
   "source": [
    "# vectors\n",
    "v = np.random.rand(10)\n",
    "a = v.T * v\n",
    "print(a.shape)"
   ]
  },
  {
   "cell_type": "code",
   "execution_count": 17,
   "metadata": {
    "collapsed": false
   },
   "outputs": [
    {
     "data": {
      "text/plain": [
       "()"
      ]
     },
     "execution_count": 17,
     "metadata": {},
     "output_type": "execute_result"
    }
   ],
   "source": [
    "b = v.dot(v)\n",
    "b.shape"
   ]
  },
  {
   "cell_type": "code",
   "execution_count": 18,
   "metadata": {
    "collapsed": false
   },
   "outputs": [
    {
     "data": {
      "text/plain": [
       "(10, 1)"
      ]
     },
     "execution_count": 18,
     "metadata": {},
     "output_type": "execute_result"
    }
   ],
   "source": [
    "# arrays\n",
    "w = np.random.rand(10,1)\n",
    "w.shape"
   ]
  },
  {
   "cell_type": "code",
   "execution_count": 19,
   "metadata": {
    "collapsed": false
   },
   "outputs": [],
   "source": [
    "M = np.random.rand(10,10)"
   ]
  },
  {
   "cell_type": "code",
   "execution_count": 20,
   "metadata": {
    "collapsed": false
   },
   "outputs": [
    {
     "data": {
      "text/plain": [
       "array([[ 0.18263418,  0.07870305,  0.1744023 ,  0.17159476,  0.13358665,\n",
       "         0.03296281,  0.20392189,  0.06612829,  0.1154042 ,  0.14828542],\n",
       "       [ 0.11889309,  0.17936696,  0.0673883 ,  0.17561885,  0.18376529,\n",
       "         0.10924568,  0.03490871,  0.13116133,  0.0020532 ,  0.04717878],\n",
       "       [ 0.3952686 ,  0.29823033,  0.33992306,  0.13011472,  0.38683819,\n",
       "         0.23930209,  0.05527202,  0.26938533,  0.32346342,  0.27086603],\n",
       "       [ 0.19631432,  0.64731686,  0.68820262,  0.728536  ,  0.71809688,\n",
       "         0.56268383,  0.23885208,  0.22464146,  0.31871137,  0.56353929],\n",
       "       [ 0.36730139,  0.05854168,  0.38907795,  0.06606253,  0.05595663,\n",
       "         0.07209748,  0.02359235,  0.18703823,  0.07319   ,  0.3718389 ],\n",
       "       [ 0.00504424,  0.10183204,  0.04875474,  0.16294908,  0.16701741,\n",
       "         0.158092  ,  0.16308241,  0.10438006,  0.10543831,  0.08960806],\n",
       "       [ 0.61451436,  0.58394696,  0.60815112,  0.58182834,  0.33952024,\n",
       "         0.40051876,  0.5871434 ,  0.34952072,  0.14035663,  0.12601965],\n",
       "       [ 0.02840159,  0.64711874,  0.44840078,  0.34083854,  0.47110534,\n",
       "         0.01120428,  0.68347022,  0.435953  ,  0.69928887,  0.15368691],\n",
       "       [ 0.06939565,  0.06210503,  0.01954975,  0.05258011,  0.02249249,\n",
       "         0.03644834,  0.00377994,  0.07318533,  0.03726774,  0.05429369],\n",
       "       [ 0.03549017,  0.0766377 ,  0.10243074,  0.12633263,  0.10106407,\n",
       "         0.05491753,  0.13627618,  0.11115214,  0.07108983,  0.01279737]])"
      ]
     },
     "execution_count": 20,
     "metadata": {},
     "output_type": "execute_result"
    }
   ],
   "source": [
    "M*w"
   ]
  },
  {
   "cell_type": "markdown",
   "metadata": {
    "collapsed": true
   },
   "source": [
    "## Resources\n",
    "\n",
    "\n",
    "- <a href=\"http://swcarpentry.github.io/python-novice-inflammation/\">Software Carpentry</a>\n",
    "- <a href=\"https://docs.python.org/2/tutorial/index.html\">Python Tutorial</a>\n"
   ]
  },
  {
   "cell_type": "code",
   "execution_count": null,
   "metadata": {
    "collapsed": true
   },
   "outputs": [],
   "source": []
  }
 ],
 "metadata": {
  "anaconda-cloud": {},
  "kernelspec": {
   "display_name": "Python 2",
   "language": "python",
   "name": "python2"
  },
  "language_info": {
   "codemirror_mode": {
    "name": "ipython",
    "version": 2
   },
   "file_extension": ".py",
   "mimetype": "text/x-python",
   "name": "python",
   "nbconvert_exporter": "python",
   "pygments_lexer": "ipython2",
   "version": "2.7.13"
  }
 },
 "nbformat": 4,
 "nbformat_minor": 0
}
