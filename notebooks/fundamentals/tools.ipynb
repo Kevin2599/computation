{
 "cells": [
  {
   "cell_type": "markdown",
   "metadata": {},
   "source": [
    "# <i class=\"fa fa-wrench\" aria-hidden=\"true\"></i> Tools \n",
    "\n",
    "In this notebook, we cover some of the basic tools you will need for scientific computing with Python. This follows the <a href = http://simpegtutorials.readthedocs.org/en/latest/content/tools.html>Tools</a> section of the <a href= http://simpegtutorials.readthedocs.org/>SimPEG Tutorials</a>. \n",
    "\n",
    "This development environment is the <a href = http://jupyter.org>Jupyter Notebook</a>. \n",
    "- To run a cell, is `Shift + Enter`\n",
    "- To clear your kernel `Esc + 00`\n",
    "- other keyboard shortcuts are available through the help\n",
    "\n",
    "In this notebook, we cover some basics of:\n",
    "- <a href=\"https://www.python.org/\">Python</a>\n",
    "- <a href=\"http://www.numpy.org/\">NumPy</a>\n",
    "- <a href=\"https://www.scipy.org/\">SciPy</a>\n",
    "- <a href=\"http://matplotlib.org/\">Matplotlib</a>\n"
   ]
  },
  {
   "cell_type": "markdown",
   "metadata": {},
   "source": [
    "## Python <img = >"
   ]
  },
  {
   "cell_type": "markdown",
   "metadata": {},
   "source": [
    "### Types"
   ]
  },
  {
   "cell_type": "code",
   "execution_count": 1,
   "metadata": {
    "collapsed": false
   },
   "outputs": [
    {
     "name": "stdout",
     "output_type": "stream",
     "text": [
      "True\n",
      "True\n",
      "True\n"
     ]
    },
    {
     "data": {
      "text/plain": [
       "NoneType"
      ]
     },
     "execution_count": 1,
     "metadata": {},
     "output_type": "execute_result"
    }
   ],
   "source": [
    "# python has /types\n",
    "print(type(1) == int)\n",
    "print(type(1.) == float)\n",
    "print(type(1j) == complex)\n",
    "type(None)"
   ]
  },
  {
   "cell_type": "code",
   "execution_count": 2,
   "metadata": {
    "collapsed": false
   },
   "outputs": [
    {
     "name": "stdout",
     "output_type": "stream",
     "text": [
      "0\n"
     ]
    }
   ],
   "source": [
    "# type matters\n",
    "print(1/2)"
   ]
  },
  {
   "cell_type": "code",
   "execution_count": 3,
   "metadata": {
    "collapsed": false
   },
   "outputs": [
    {
     "name": "stdout",
     "output_type": "stream",
     "text": [
      "0.5\n"
     ]
    }
   ],
   "source": [
    "print(1./2.)"
   ]
  },
  {
   "cell_type": "code",
   "execution_count": 4,
   "metadata": {
    "collapsed": false
   },
   "outputs": [
    {
     "name": "stdout",
     "output_type": "stream",
     "text": [
      "2.0\n"
     ]
    }
   ],
   "source": [
    "# What happens if you add values of different types?\n",
    "print(1 + 1.)"
   ]
  },
  {
   "cell_type": "markdown",
   "metadata": {},
   "source": [
    "### Lists"
   ]
  },
  {
   "cell_type": "code",
   "execution_count": 5,
   "metadata": {
    "collapsed": false
   },
   "outputs": [
    {
     "data": {
      "text/plain": [
       "list"
      ]
     },
     "execution_count": 5,
     "metadata": {},
     "output_type": "execute_result"
    }
   ],
   "source": [
    "mylist = [6, 5, 4, 3]\n",
    "type(mylist)"
   ]
  },
  {
   "cell_type": "code",
   "execution_count": 6,
   "metadata": {
    "collapsed": false
   },
   "outputs": [
    {
     "data": {
      "text/plain": [
       "4"
      ]
     },
     "execution_count": 6,
     "metadata": {},
     "output_type": "execute_result"
    }
   ],
   "source": [
    "# length of a list\n",
    "len(mylist)"
   ]
  },
  {
   "cell_type": "code",
   "execution_count": 7,
   "metadata": {
    "collapsed": false
   },
   "outputs": [
    {
     "name": "stdout",
     "output_type": "stream",
     "text": [
      "6\n"
     ]
    }
   ],
   "source": [
    "# python uses zero based indexing\n",
    "print(mylist[0])"
   ]
  },
  {
   "cell_type": "code",
   "execution_count": 8,
   "metadata": {
    "collapsed": false
   },
   "outputs": [
    {
     "name": "stdout",
     "output_type": "stream",
     "text": [
      "[6, 5]\n",
      "[4, 3]\n",
      "3\n"
     ]
    }
   ],
   "source": [
    "print(mylist[:2]) # counting up\n",
    "print(mylist[2:]) # starting from\n",
    "print(mylist[-1]) # going back"
   ]
  },
  {
   "cell_type": "markdown",
   "metadata": {},
   "source": [
    "### Loops and List Comprehension"
   ]
  },
  {
   "cell_type": "code",
   "execution_count": 9,
   "metadata": {
    "collapsed": true
   },
   "outputs": [],
   "source": [
    "n = 10 # try making this larger --> see which is faster"
   ]
  },
  {
   "cell_type": "code",
   "execution_count": 10,
   "metadata": {
    "collapsed": false
   },
   "outputs": [
    {
     "name": "stdout",
     "output_type": "stream",
     "text": [
      "[0, 1, 2, 3, 4, 5, 6, 7, 8, 9]\n",
      "CPU times: user 289 µs, sys: 119 µs, total: 408 µs\n",
      "Wall time: 369 µs\n"
     ]
    }
   ],
   "source": [
    "%%time \n",
    "a = []\n",
    "for i in range(n): # for loop assignment\n",
    "    a.append(i)\n",
    "print(a)"
   ]
  },
  {
   "cell_type": "code",
   "execution_count": 11,
   "metadata": {
    "collapsed": false
   },
   "outputs": [
    {
     "name": "stdout",
     "output_type": "stream",
     "text": [
      "[0, 1, 2, 3, 4, 5, 6, 7, 8, 9]\n",
      "CPU times: user 328 µs, sys: 113 µs, total: 441 µs\n",
      "Wall time: 428 µs\n"
     ]
    }
   ],
   "source": [
    "%%time\n",
    "b = [i for i in range(n)]  # list comprehension\n",
    "print(b)"
   ]
  },
  {
   "cell_type": "code",
   "execution_count": 12,
   "metadata": {
    "collapsed": false
   },
   "outputs": [
    {
     "name": "stdout",
     "output_type": "stream",
     "text": [
      "(0, 'Monty')\n",
      "(1, 'Python')\n",
      "(2, 'Flying')\n",
      "(3, 'Circus')\n"
     ]
    }
   ],
   "source": [
    "# Enumerateing \n",
    "mylist = ['Monty', 'Python', 'Flying', 'Circus']\n",
    "for i, val in enumerate(mylist):\n",
    "    print(i, val)"
   ]
  },
  {
   "cell_type": "markdown",
   "metadata": {},
   "source": [
    "### If, elif, else"
   ]
  },
  {
   "cell_type": "code",
   "execution_count": 13,
   "metadata": {
    "collapsed": false
   },
   "outputs": [
    {
     "name": "stdout",
     "output_type": "stream",
     "text": [
      "[ 19.] is too low\n"
     ]
    }
   ],
   "source": [
    "# Pick a random number between 0 and 100\n",
    "import numpy as np  # n-dimensional array package\n",
    "number = (100.*np.random.rand(1)).round() # make it an integer\n",
    "if number > 42:\n",
    "    print('{} is too high'.format(number))\n",
    "elif number < 42:\n",
    "    print('{} is too low'.format(number))\n",
    "else:\n",
    "    print('you found the secret to life. {}'.format(number))"
   ]
  },
  {
   "cell_type": "markdown",
   "metadata": {},
   "source": [
    "### Functions"
   ]
  },
  {
   "cell_type": "code",
   "execution_count": 14,
   "metadata": {
    "collapsed": true
   },
   "outputs": [],
   "source": [
    "def pickAnumber(number):\n",
    "    if number > 42:\n",
    "        print('{} is too high'.format(number))\n",
    "        return False\n",
    "    elif number < 42:\n",
    "        print('{} is too low'.format(number))\n",
    "        return False\n",
    "    else:\n",
    "        print('you found the secret to life. {}'.format(number))\n",
    "        return True"
   ]
  },
  {
   "cell_type": "code",
   "execution_count": 15,
   "metadata": {
    "collapsed": false
   },
   "outputs": [
    {
     "name": "stdout",
     "output_type": "stream",
     "text": [
      "10 is too low\n",
      "False\n"
     ]
    }
   ],
   "source": [
    "print pickAnumber(10)"
   ]
  },
  {
   "cell_type": "markdown",
   "metadata": {
    "collapsed": true
   },
   "source": [
    "## NumPy"
   ]
  },
  {
   "cell_type": "code",
   "execution_count": 16,
   "metadata": {
    "collapsed": true
   },
   "outputs": [],
   "source": [
    "import numpy as np"
   ]
  },
  {
   "cell_type": "code",
   "execution_count": 17,
   "metadata": {
    "collapsed": false
   },
   "outputs": [
    {
     "name": "stdout",
     "output_type": "stream",
     "text": [
      "()\n",
      "(1,)\n",
      "(1, 1)\n"
     ]
    }
   ],
   "source": [
    "a = np.array(1) # scalar\n",
    "print(a.shape)\n",
    "\n",
    "b = np.array([1]) # vector\n",
    "print(b.shape)\n",
    "\n",
    "c = np.array([[1]]) # array\n",
    "print(c.shape)"
   ]
  },
  {
   "cell_type": "code",
   "execution_count": 18,
   "metadata": {
    "collapsed": false
   },
   "outputs": [
    {
     "name": "stdout",
     "output_type": "stream",
     "text": [
      "(10,)\n"
     ]
    }
   ],
   "source": [
    "# vectors\n",
    "v = np.random.rand(10)\n",
    "a = v.T * v\n",
    "print(a.shape)"
   ]
  },
  {
   "cell_type": "code",
   "execution_count": 19,
   "metadata": {
    "collapsed": false
   },
   "outputs": [
    {
     "data": {
      "text/plain": [
       "()"
      ]
     },
     "execution_count": 19,
     "metadata": {},
     "output_type": "execute_result"
    }
   ],
   "source": [
    "b = v.dot(v)\n",
    "b.shape"
   ]
  },
  {
   "cell_type": "code",
   "execution_count": 20,
   "metadata": {
    "collapsed": false
   },
   "outputs": [
    {
     "data": {
      "text/plain": [
       "(10, 1)"
      ]
     },
     "execution_count": 20,
     "metadata": {},
     "output_type": "execute_result"
    }
   ],
   "source": [
    "# arrays\n",
    "w = np.random.rand(10,1)\n",
    "w.shape"
   ]
  },
  {
   "cell_type": "code",
   "execution_count": 21,
   "metadata": {
    "collapsed": false
   },
   "outputs": [],
   "source": [
    "M = np.random.rand(10,10)"
   ]
  },
  {
   "cell_type": "code",
   "execution_count": 22,
   "metadata": {
    "collapsed": false
   },
   "outputs": [
    {
     "data": {
      "text/plain": [
       "array([[  7.39345238e-01,   6.93598370e-01,   9.17762453e-01,\n",
       "          6.02840874e-01,   6.12931956e-01,   5.86205320e-02,\n",
       "          7.03598652e-01,   3.65309975e-01,   4.51671227e-01,\n",
       "          8.49890529e-01],\n",
       "       [  8.11823343e-05,   2.55183054e-03,   4.60370733e-03,\n",
       "          3.11854860e-03,   3.19647790e-03,   8.17485998e-04,\n",
       "          1.72317500e-03,   2.43247872e-03,   2.29553874e-03,\n",
       "          5.07584654e-03],\n",
       "       [  7.32141415e-02,   2.55961209e-01,   2.60545961e-01,\n",
       "          4.38168196e-01,   2.13974163e-01,   2.74434900e-01,\n",
       "          6.94064778e-02,   3.95299229e-02,   1.54549518e-01,\n",
       "          1.29311268e-01],\n",
       "       [  1.34454928e-01,   1.33224981e-01,   1.68265279e-01,\n",
       "          1.18671437e-01,   2.84159191e-01,   3.10195881e-02,\n",
       "          2.04317382e-01,   2.62949577e-01,   2.18514778e-01,\n",
       "          7.58788024e-02],\n",
       "       [  3.30676961e-01,   4.46768197e-02,   3.03129129e-01,\n",
       "          5.67891848e-01,   5.49074537e-01,   6.03156433e-01,\n",
       "          5.17190988e-01,   1.49145012e-01,   1.06746567e-01,\n",
       "          5.93574630e-01],\n",
       "       [  9.65871939e-02,   6.59444994e-02,   2.44271917e-02,\n",
       "          4.68060077e-02,   1.28569135e-01,   7.65342321e-02,\n",
       "          7.06163557e-02,   1.11838607e-01,   5.97114524e-02,\n",
       "          1.38456431e-01],\n",
       "       [  4.14344031e-02,   3.59661297e-01,   3.75475691e-02,\n",
       "          4.38218875e-01,   5.31022097e-01,   4.45039316e-01,\n",
       "          4.89315232e-01,   4.09798278e-01,   3.43054726e-01,\n",
       "          2.44746511e-01],\n",
       "       [  2.23896392e-01,   3.84604774e-02,   3.70588197e-01,\n",
       "          2.40545218e-02,   1.47066304e-01,   3.41645315e-01,\n",
       "          2.44057186e-01,   1.05296903e-01,   1.91341761e-01,\n",
       "          1.14207945e-01],\n",
       "       [  4.63739562e-01,   3.24124240e-01,   5.77987772e-01,\n",
       "          4.33753986e-01,   3.72206750e-02,   3.31862822e-01,\n",
       "          5.24862089e-01,   5.52436524e-01,   1.86849480e-01,\n",
       "          1.21820486e-01],\n",
       "       [  4.25264853e-01,   1.22694977e-01,   2.83111670e-02,\n",
       "          3.29698762e-01,   2.15185753e-01,   1.41861556e-01,\n",
       "          3.48615441e-01,   3.78967666e-01,   4.07972083e-01,\n",
       "          3.13305226e-01]])"
      ]
     },
     "execution_count": 22,
     "metadata": {},
     "output_type": "execute_result"
    }
   ],
   "source": [
    "M*w"
   ]
  },
  {
   "cell_type": "code",
   "execution_count": null,
   "metadata": {
    "collapsed": true
   },
   "outputs": [],
   "source": []
  }
 ],
 "metadata": {
  "anaconda-cloud": {},
  "kernelspec": {
   "display_name": "Python 2",
   "language": "python",
   "name": "python2"
  },
  "language_info": {
   "codemirror_mode": {
    "name": "ipython",
    "version": 2
   },
   "file_extension": ".py",
   "mimetype": "text/x-python",
   "name": "python",
   "nbconvert_exporter": "python",
   "pygments_lexer": "ipython2",
   "version": "2.7.13"
  }
 },
 "nbformat": 4,
 "nbformat_minor": 0
}
