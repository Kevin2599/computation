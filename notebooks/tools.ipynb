{
 "cells": [
  {
   "cell_type": "markdown",
   "metadata": {},
   "source": [
    "# <i class=\"fa fa-wrench\" aria-hidden=\"true\"></i> Tools \n",
    "\n",
    "In this notebook, we cover some of the basic tools you will need for scientific computing with Python. This follows the <a href = http://simpegtutorials.readthedocs.org/en/latest/content/tools.html>Tools</a> section of the <a href= http://simpegtutorials.readthedocs.org/>SimPEG Tutorials</a>. \n",
    "\n",
    "This development environment is the <a href = http://jupyter.org>Jupyter Notebook</a>. \n",
    "- To run a cell, is `Shift + Enter`\n",
    "- To clear your kernel `Esc + 00`\n",
    "- other keyboard shortcuts are available through the help\n",
    "\n",
    "In this notebook, we cover some basics of:\n",
    "- <a href=\"https://www.python.org/\">Python</a>\n",
    "- <a href=\"http://www.numpy.org/\">NumPy</a>\n",
    "- <a href=\"https://www.scipy.org/\">SciPy</a>\n",
    "- <a href=\"http://matplotlib.org/\">Matplotlib</a>\n"
   ]
  },
  {
   "cell_type": "markdown",
   "metadata": {},
   "source": [
    "## Python <img = >"
   ]
  },
  {
   "cell_type": "markdown",
   "metadata": {},
   "source": [
    "### Types"
   ]
  },
  {
   "cell_type": "code",
   "execution_count": 1,
   "metadata": {
    "collapsed": false
   },
   "outputs": [
    {
     "name": "stdout",
     "output_type": "stream",
     "text": [
      "True\n",
      "True\n",
      "True\n"
     ]
    },
    {
     "data": {
      "text/plain": [
       "NoneType"
      ]
     },
     "execution_count": 1,
     "metadata": {},
     "output_type": "execute_result"
    }
   ],
   "source": [
    "# python has /types\n",
    "print type(1) == int\n",
    "print type(1.) == float\n",
    "print type(1j) == complex\n",
    "type(None)"
   ]
  },
  {
   "cell_type": "code",
   "execution_count": 2,
   "metadata": {
    "collapsed": false
   },
   "outputs": [
    {
     "name": "stdout",
     "output_type": "stream",
     "text": [
      "0\n"
     ]
    }
   ],
   "source": [
    "# type matters\n",
    "print 1/2"
   ]
  },
  {
   "cell_type": "code",
   "execution_count": 3,
   "metadata": {
    "collapsed": false
   },
   "outputs": [
    {
     "name": "stdout",
     "output_type": "stream",
     "text": [
      "0.5\n"
     ]
    }
   ],
   "source": [
    "print 1./2."
   ]
  },
  {
   "cell_type": "code",
   "execution_count": 5,
   "metadata": {
    "collapsed": false
   },
   "outputs": [
    {
     "name": "stdout",
     "output_type": "stream",
     "text": [
      "2.0\n"
     ]
    }
   ],
   "source": [
    "# What happens if you add values of different types?\n",
    "print 1 + 1."
   ]
  },
  {
   "cell_type": "markdown",
   "metadata": {},
   "source": [
    "### Lists"
   ]
  },
  {
   "cell_type": "code",
   "execution_count": 6,
   "metadata": {
    "collapsed": false
   },
   "outputs": [
    {
     "data": {
      "text/plain": [
       "list"
      ]
     },
     "execution_count": 6,
     "metadata": {},
     "output_type": "execute_result"
    }
   ],
   "source": [
    "mylist = [6, 5, 4, 3]\n",
    "type(mylist)"
   ]
  },
  {
   "cell_type": "code",
   "execution_count": 7,
   "metadata": {
    "collapsed": false
   },
   "outputs": [
    {
     "data": {
      "text/plain": [
       "4"
      ]
     },
     "execution_count": 7,
     "metadata": {},
     "output_type": "execute_result"
    }
   ],
   "source": [
    "# length of a list\n",
    "len(mylist)"
   ]
  },
  {
   "cell_type": "code",
   "execution_count": 8,
   "metadata": {
    "collapsed": false
   },
   "outputs": [
    {
     "name": "stdout",
     "output_type": "stream",
     "text": [
      "6\n"
     ]
    }
   ],
   "source": [
    "# python uses zero based indexing\n",
    "print mylist[0]"
   ]
  },
  {
   "cell_type": "code",
   "execution_count": 9,
   "metadata": {
    "collapsed": false
   },
   "outputs": [
    {
     "name": "stdout",
     "output_type": "stream",
     "text": [
      "[6, 5]\n",
      "[4, 3]\n",
      "3\n"
     ]
    }
   ],
   "source": [
    "print mylist[:2] # counting up\n",
    "print mylist[2:] # starting from\n",
    "print mylist[-1] # going back"
   ]
  },
  {
   "cell_type": "markdown",
   "metadata": {},
   "source": [
    "### Loops and List Comprehension"
   ]
  },
  {
   "cell_type": "code",
   "execution_count": 10,
   "metadata": {
    "collapsed": true
   },
   "outputs": [],
   "source": [
    "n = 10 # try making this larger --> see which is faster"
   ]
  },
  {
   "cell_type": "code",
   "execution_count": 11,
   "metadata": {
    "collapsed": false
   },
   "outputs": [
    {
     "name": "stdout",
     "output_type": "stream",
     "text": [
      "[0, 1, 2, 3, 4, 5, 6, 7, 8, 9]\n",
      "CPU times: user 45 µs, sys: 9 µs, total: 54 µs\n",
      "Wall time: 50.1 µs\n"
     ]
    }
   ],
   "source": [
    "%%time \n",
    "a = []\n",
    "for i in range(n): # for loop assignment\n",
    "    a.append(i)\n",
    "print a"
   ]
  },
  {
   "cell_type": "code",
   "execution_count": 12,
   "metadata": {
    "collapsed": false
   },
   "outputs": [
    {
     "name": "stdout",
     "output_type": "stream",
     "text": [
      "[0, 1, 2, 3, 4, 5, 6, 7, 8, 9]\n",
      "CPU times: user 51 µs, sys: 9 µs, total: 60 µs\n",
      "Wall time: 57 µs\n"
     ]
    }
   ],
   "source": [
    "%%time\n",
    "b = [i for i in range(n)]  # list comprehension\n",
    "print b"
   ]
  },
  {
   "cell_type": "code",
   "execution_count": 13,
   "metadata": {
    "collapsed": false
   },
   "outputs": [
    {
     "name": "stdout",
     "output_type": "stream",
     "text": [
      "0 Monty\n",
      "1 Python\n",
      "2 Flying\n",
      "3 Circus\n"
     ]
    }
   ],
   "source": [
    "# Enumerateing \n",
    "mylist = ['Monty', 'Python', 'Flying', 'Circus']\n",
    "for i, val in enumerate(mylist):\n",
    "    print i, val"
   ]
  },
  {
   "cell_type": "markdown",
   "metadata": {},
   "source": [
    "### If, elif, else"
   ]
  },
  {
   "cell_type": "code",
   "execution_count": 15,
   "metadata": {
    "collapsed": false
   },
   "outputs": [
    {
     "name": "stdout",
     "output_type": "stream",
     "text": [
      "25 is too low\n"
     ]
    }
   ],
   "source": [
    "# Pick a random number between 0 and 100\n",
    "import numpy as np  # n-dimensional array package\n",
    "number = (100.*np.random.rand(1)).round() # make it an integer\n",
    "if number > 42:\n",
    "    print '%i is too high'%number\n",
    "elif number < 42:\n",
    "    print '%i is too low'%number\n",
    "else:\n",
    "    print 'you found the secret to life. %i'%number\n",
    "        "
   ]
  },
  {
   "cell_type": "markdown",
   "metadata": {},
   "source": [
    "### Functions"
   ]
  },
  {
   "cell_type": "code",
   "execution_count": 16,
   "metadata": {
    "collapsed": true
   },
   "outputs": [],
   "source": [
    "def pickAnumber(number):\n",
    "    if number > 42:\n",
    "        print '%i is too high'%number\n",
    "        return False\n",
    "    elif number < 42:\n",
    "        print '%i is too low'%number\n",
    "        return False\n",
    "    else:\n",
    "        print 'you found the secret to life. %i'%number\n",
    "        return True"
   ]
  },
  {
   "cell_type": "code",
   "execution_count": 18,
   "metadata": {
    "collapsed": false
   },
   "outputs": [
    {
     "name": "stdout",
     "output_type": "stream",
     "text": [
      "10 is too low\n",
      "None\n"
     ]
    }
   ],
   "source": [
    "print pickAnumber(10)"
   ]
  },
  {
   "cell_type": "markdown",
   "metadata": {
    "collapsed": true
   },
   "source": [
    "## NumPy"
   ]
  },
  {
   "cell_type": "code",
   "execution_count": 19,
   "metadata": {
    "collapsed": true
   },
   "outputs": [],
   "source": [
    "import numpy as np"
   ]
  },
  {
   "cell_type": "code",
   "execution_count": 20,
   "metadata": {
    "collapsed": false
   },
   "outputs": [
    {
     "name": "stdout",
     "output_type": "stream",
     "text": [
      "()\n",
      "(1,)\n",
      "(1, 1)\n"
     ]
    }
   ],
   "source": [
    "a = np.array(1) # scalar\n",
    "print a.shape\n",
    "\n",
    "b = np.array([1]) # vector\n",
    "print b.shape\n",
    "\n",
    "c = np.array([[1]]) # array\n",
    "print c.shape"
   ]
  },
  {
   "cell_type": "code",
   "execution_count": 21,
   "metadata": {
    "collapsed": false
   },
   "outputs": [
    {
     "name": "stdout",
     "output_type": "stream",
     "text": [
      "(10,)\n"
     ]
    }
   ],
   "source": [
    "# vectors\n",
    "v = np.random.rand(10)\n",
    "a = v.T * v\n",
    "print a.shape"
   ]
  },
  {
   "cell_type": "code",
   "execution_count": 22,
   "metadata": {
    "collapsed": false
   },
   "outputs": [
    {
     "data": {
      "text/plain": [
       "()"
      ]
     },
     "execution_count": 22,
     "metadata": {},
     "output_type": "execute_result"
    }
   ],
   "source": [
    "b = v.dot(v)\n",
    "b.shape"
   ]
  },
  {
   "cell_type": "code",
   "execution_count": 23,
   "metadata": {
    "collapsed": false
   },
   "outputs": [
    {
     "data": {
      "text/plain": [
       "(10, 1)"
      ]
     },
     "execution_count": 23,
     "metadata": {},
     "output_type": "execute_result"
    }
   ],
   "source": [
    "# arrays\n",
    "w = np.random.rand(10,1)\n",
    "w.shape"
   ]
  },
  {
   "cell_type": "code",
   "execution_count": 24,
   "metadata": {
    "collapsed": false
   },
   "outputs": [],
   "source": [
    "M = np.random.rand(10,10)"
   ]
  },
  {
   "cell_type": "code",
   "execution_count": 25,
   "metadata": {
    "collapsed": false
   },
   "outputs": [
    {
     "data": {
      "text/plain": [
       "array([[ 0.02530652,  0.34421308,  0.2869398 ,  0.35267275,  0.26000819,\n",
       "         0.11087735,  0.07966685,  0.32472764,  0.36759218,  0.27751329],\n",
       "       [ 0.00512067,  0.11420679,  0.09301896,  0.13048231,  0.11848369,\n",
       "         0.13636905,  0.09819823,  0.15958874,  0.10298789,  0.07129475],\n",
       "       [ 0.00583617,  0.02404812,  0.05419107,  0.05718383,  0.0815307 ,\n",
       "         0.05072039,  0.06979162,  0.05203943,  0.05414617,  0.06620497],\n",
       "       [ 0.30980576,  0.51966139,  0.37859133,  0.81055938,  0.40060749,\n",
       "         0.190048  ,  0.13638822,  0.2966326 ,  0.52471256,  0.77497419],\n",
       "       [ 0.20503959,  0.49630708,  0.0739095 ,  0.08567494,  0.26884822,\n",
       "         0.26914425,  0.20631982,  0.53815825,  0.45593271,  0.47444343],\n",
       "       [ 0.08835259,  0.10708277,  0.18867767,  0.17381797,  0.09570646,\n",
       "         0.08991751,  0.20916591,  0.12962853,  0.09060792,  0.16465664],\n",
       "       [ 0.58126523,  0.41526763,  0.56122517,  0.09986476,  0.15875828,\n",
       "         0.39134918,  0.58651569,  0.57242143,  0.23299681,  0.17031951],\n",
       "       [ 0.00505392,  0.25994004,  0.20575393,  0.12958032,  0.17115705,\n",
       "         0.17132495,  0.19091901,  0.06558665,  0.51947808,  0.392309  ],\n",
       "       [ 0.10336912,  0.04158397,  0.12356031,  0.07528674,  0.21187363,\n",
       "         0.18540328,  0.09670851,  0.17087774,  0.20269344,  0.22109998],\n",
       "       [ 0.25678174,  0.68791345,  0.04906557,  0.5283478 ,  0.16043673,\n",
       "         0.06166017,  0.48191993,  0.27499939,  0.066684  ,  0.50604764]])"
      ]
     },
     "execution_count": 25,
     "metadata": {},
     "output_type": "execute_result"
    }
   ],
   "source": [
    "M*w"
   ]
  }
 ],
 "metadata": {
  "kernelspec": {
   "display_name": "Python 2",
   "language": "python",
   "name": "python2"
  },
  "language_info": {
   "codemirror_mode": {
    "name": "ipython",
    "version": 2
   },
   "file_extension": ".py",
   "mimetype": "text/x-python",
   "name": "python",
   "nbconvert_exporter": "python",
   "pygments_lexer": "ipython2",
   "version": "2.7.11"
  }
 },
 "nbformat": 4,
 "nbformat_minor": 0
}
