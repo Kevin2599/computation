{
 "cells": [
  {
   "cell_type": "code",
   "execution_count": 1,
   "metadata": {},
   "outputs": [],
   "source": [
    "from MT1D import MT1DProblem, MT1DSurvey, MT1DSrc, ZxyRx, Survey, AppResPhaRx\n",
    "from SimPEG import Maps, DataMisfit\n",
    "from scipy.constants import mu_0\n",
    "import numpy as np"
   ]
  },
  {
   "cell_type": "code",
   "execution_count": 2,
   "metadata": {},
   "outputs": [
    {
     "name": "stdout",
     "output_type": "stream",
     "text": [
      ">> Smallest cell size = 50 m\n",
      ">> Padding distance = 316227 m\n",
      ">> # of padding cells 28\n"
     ]
    }
   ],
   "source": [
    "rxloc = np.r_[0.]\n",
    "srcloc = np.r_[0.]\n",
    "frequency = np.logspace(-3, 2, 25)\n",
    "rxType = \"AppredPha\"\n",
    "\n",
    "if rxType == \"Zxy\":\n",
    "    rx = ZxyRx(rxloc, component=\"both\", frequency=frequency)\n",
    "    rxList = [rx]\n",
    "elif rxType == \"AppredPha\":\n",
    "    rx = AppResPhaRx(rxloc, component=\"both\", frequency=frequency)\n",
    "    rxList = [rx]\n",
    "    \n",
    "src = MT1DSrc(rxList, loc=srcloc)\n",
    "survey = MT1DSurvey([src])\n",
    "mesh = survey.setMesh(sigma=0.01, max_depth_core=5000., ncell_per_skind=10, n_skind=2)\n",
    "sigma = np.ones(mesh.nC) * 0.01\n",
    "\n",
    "prob = MT1DProblem(mesh, sigmaMap=Maps.ExpMap(mesh), verbose=False)\n",
    "prob.pair(survey)"
   ]
  },
  {
   "cell_type": "code",
   "execution_count": 3,
   "metadata": {},
   "outputs": [
    {
     "name": "stdout",
     "output_type": "stream",
     "text": [
      "CPU times: user 82.6 ms, sys: 3.32 ms, total: 85.9 ms\n",
      "Wall time: 86.3 ms\n"
     ]
    }
   ],
   "source": [
    "%%time\n",
    "f = prob.fields(np.log(sigma))\n",
    "pred = survey.dpred(np.log(sigma), f=f)"
   ]
  },
  {
   "cell_type": "code",
   "execution_count": 4,
   "metadata": {},
   "outputs": [
    {
     "name": "stdout",
     "output_type": "stream",
     "text": [
      "CPU times: user 70.2 ms, sys: 3.39 ms, total: 73.6 ms\n",
      "Wall time: 77.2 ms\n"
     ]
    },
    {
     "data": {
      "text/plain": [
       "array([ 582.89818726,    0.        ,  475.79213142,    0.        ,\n",
       "        452.17393127,    0.        ,  463.0933006 ,    0.        ,\n",
       "        464.37256158,    0.        ,  463.95086458,    0.        ,\n",
       "        463.81894686,    0.        ,  463.63306051,    0.        ,\n",
       "        463.39304316,    0.        ,  463.08204436,    0.        ,\n",
       "        462.67928177,    0.        ,  462.1618593 ,    0.        ,\n",
       "        461.51177709,    0.        ,  460.73191407,    0.        ,\n",
       "        459.8715224 ,    0.        ,  459.04617148,    0.        ,\n",
       "        458.40733681,    0.        ,  458.01383075,    0.        ,\n",
       "        457.68287866,    0.        ,  457.09477865,    0.        ,\n",
       "        456.15117445,    0.        ,  454.94828761,    0.        ,\n",
       "        453.44345561,    0.        ,  451.53016592,    0.        ,\n",
       "        449.10211943,    0.        ])"
      ]
     },
     "execution_count": 4,
     "metadata": {},
     "output_type": "execute_result"
    }
   ],
   "source": [
    "%%time\n",
    "prob.Jvec(np.log(sigma), np.log(sigma), f=f)"
   ]
  },
  {
   "cell_type": "code",
   "execution_count": 5,
   "metadata": {},
   "outputs": [
    {
     "name": "stdout",
     "output_type": "stream",
     "text": [
      "CPU times: user 177 ms, sys: 5.37 ms, total: 182 ms\n",
      "Wall time: 192 ms\n"
     ]
    },
    {
     "data": {
      "text/plain": [
       "array([   23.79611596,   312.61768115,   286.10622208,  -327.47627237,\n",
       "       -1389.92601879, -2640.14857617, -3855.61971672, -4898.99800561,\n",
       "       -5706.68155523, -6262.48979016, -6575.56008121, -6666.78851932,\n",
       "       -6562.32658863, -6291.38040797, -5885.882515  , -5380.29417842,\n",
       "       -4810.55169101, -4211.95167808, -3616.44262841, -3050.12969669,\n",
       "       -2531.73320977, -2072.31466116, -1676.13019245, -1342.170202  ,\n",
       "       -1065.8961971 ,  -840.81053945,  -659.67328181,  -515.32935714,\n",
       "        -401.19747075,  -405.45027849,  -409.78992909,  -414.21911674,\n",
       "        -418.74064842,  -423.35744986,  -428.07257191,  -432.8891973 ,\n",
       "        -437.81064785,  -442.84039215,  -447.98205378,  -453.23942005,\n",
       "        -458.61645132,  -464.11729104,  -469.74627638,  -475.50794971,\n",
       "        -481.40707087,  -487.44863027,  -493.63786308,  -499.98026438,\n",
       "        -506.48160549,  -513.14795158,  -519.98568062,  -527.00150388,\n",
       "        -534.20248799,  -541.59607879,  -549.19012722,  -556.99291716,\n",
       "        -565.01319568,  -573.26020575,  -581.74372173,  -590.47408782,\n",
       "        -599.46225979,  -608.71985044,  -618.25917905,  -628.09332535,\n",
       "        -638.23618866,  -648.70255274,  -659.50815733,  -670.66977717,\n",
       "        -682.20530977,  -694.13387313,  -706.47591498,  -719.25333509,\n",
       "        -732.48962253,  -746.21000983,  -760.44164576,  -775.21378887,\n",
       "        -790.55802335,  -806.50849863,  -823.10219379,  -840.37920711,\n",
       "        -858.38307063,  -877.16108891,  -896.76470075,  -917.24986263,\n",
       "        -938.67745316,  -961.11370005,  -984.63063417, -1009.30658177,\n",
       "       -1035.22671517, -1062.48369581, -1091.178463  , -1121.42124707,\n",
       "       -1153.33291946, -1187.04683372, -1222.71136255, -1260.49339531,\n",
       "       -1300.58312721, -1343.2005426 , -1388.60406528, -1437.10191149,\n",
       "       -1489.06672476, -1544.95408178, -1605.32541505, -1670.87577726,\n",
       "       -1742.46664361, -1821.16357683, -1908.27802554, -2005.41174643,\n",
       "       -2114.50129115, -2237.85863751, -2378.20234089, -2538.67151518,\n",
       "       -2722.81253314, -2934.52560449, -3177.95544096, -3457.30720927,\n",
       "       -3776.56614774, -4139.09692506, -4547.09751409, -5000.88263932,\n",
       "       -5497.97447918, -6031.98415641, -6591.27766113, -7157.43535969,\n",
       "       -7703.53633867, -8192.32868163, -8574.38538544, -8786.39368806])"
      ]
     },
     "execution_count": 5,
     "metadata": {},
     "output_type": "execute_result"
    }
   ],
   "source": [
    "%%time\n",
    "prob.Jtvec(np.log(sigma), pred)"
   ]
  },
  {
   "cell_type": "code",
   "execution_count": 6,
   "metadata": {},
   "outputs": [
    {
     "name": "stdout",
     "output_type": "stream",
     "text": [
      "==================== checkDerivative ====================\n",
      "iter    h         |ft-f0|   |ft-f0-h*J0*dx|  Order\n",
      "---------------------------------------------------------\n",
      " 0   1.00e-01    7.847e+02     3.216e+02      nan\n",
      " 1   1.00e-02    4.885e+01     2.343e+00      2.137\n",
      " 2   1.00e-03    4.676e+00     3.227e-02      1.861\n",
      "========================= PASS! =========================\n",
      "That was easy!\n",
      "\n"
     ]
    },
    {
     "data": {
      "text/plain": [
       "True"
      ]
     },
     "execution_count": 6,
     "metadata": {},
     "output_type": "execute_result"
    }
   ],
   "source": [
    "from SimPEG import Tests\n",
    "def derChk(m):\n",
    "    return [survey.dpred(m), lambda mx: prob.Jvec(m, mx)]\n",
    "Tests.checkDerivative(derChk, np.log(sigma), plotIt=False, num=3, eps=1e-20, dx=np.log(sigma)*2)"
   ]
  },
  {
   "cell_type": "code",
   "execution_count": 7,
   "metadata": {},
   "outputs": [
    {
     "name": "stdout",
     "output_type": "stream",
     "text": [
      "SimPEG.DataMisfit.l2_DataMisfit assigning default eps of 1e-5 * ||dobs||\n"
     ]
    }
   ],
   "source": [
    "survey.dobs = pred\n",
    "dmis = DataMisfit.l2_DataMisfit(survey)\n",
    "m0 = np.log(sigma)*2."
   ]
  },
  {
   "cell_type": "code",
   "execution_count": 8,
   "metadata": {},
   "outputs": [
    {
     "name": "stdout",
     "output_type": "stream",
     "text": [
      "==================== checkDerivative ====================\n",
      "iter    h         |ft-f0|   |ft-f0-h*J0*dx|  Order\n",
      "---------------------------------------------------------\n",
      " 0   1.00e-01    2.126e+08     1.347e+08      nan\n",
      " 1   1.00e-02    8.515e+06     7.286e+05      2.267\n",
      " 2   1.00e-03    7.856e+05     6.910e+03      2.023\n",
      " 3   1.00e-04    7.794e+04     6.907e+01      2.000\n",
      "========================= PASS! =========================\n",
      "Not just a pretty face Sgkang\n",
      "\n"
     ]
    },
    {
     "data": {
      "text/plain": [
       "True"
      ]
     },
     "execution_count": 8,
     "metadata": {},
     "output_type": "execute_result"
    }
   ],
   "source": [
    "Tests.checkDerivative(\n",
    "    lambda m: [dmis(m), dmis.deriv(m)],\n",
    "    m0,\n",
    "    plotIt=False,\n",
    "    num=4,\n",
    "    dx = m0*1.\n",
    ")"
   ]
  },
  {
   "cell_type": "code",
   "execution_count": 9,
   "metadata": {},
   "outputs": [
    {
     "name": "stdout",
     "output_type": "stream",
     "text": [
      "('Adjoint Test', 1.4551915228366852e-11, True)\n"
     ]
    }
   ],
   "source": [
    "v = np.random.rand(mesh.nC)\n",
    "w = np.random.rand(pred.shape[0])\n",
    "wtJv = w.dot(prob.Jvec(m0, v))\n",
    "vtJtw = v.dot(prob.Jtvec(m0, w))\n",
    "passed = np.abs(wtJv - vtJtw) < 1e-10\n",
    "print('Adjoint Test', np.abs(wtJv - vtJtw), passed)"
   ]
  }
 ],
 "metadata": {
  "anaconda-cloud": {},
  "kernelspec": {
   "display_name": "Python [default]",
   "language": "python",
   "name": "python2"
  },
  "language_info": {
   "codemirror_mode": {
    "name": "ipython",
    "version": 2
   },
   "file_extension": ".py",
   "mimetype": "text/x-python",
   "name": "python",
   "nbconvert_exporter": "python",
   "pygments_lexer": "ipython2",
   "version": "2.7.12"
  }
 },
 "nbformat": 4,
 "nbformat_minor": 2
}
