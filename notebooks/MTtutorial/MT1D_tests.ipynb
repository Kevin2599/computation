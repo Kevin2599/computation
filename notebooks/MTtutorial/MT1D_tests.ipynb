{
 "cells": [
  {
   "cell_type": "code",
   "execution_count": 1,
   "metadata": {
    "collapsed": true
   },
   "outputs": [],
   "source": [
    "from MT1D import MT1DProblem, MT1DSurvey, MT1DSrc, ZxyRx, Survey, AppResPhaRx\n",
    "from SimPEG import Maps, DataMisfit\n",
    "from scipy.constants import mu_0\n",
    "import numpy as np"
   ]
  },
  {
   "cell_type": "code",
   "execution_count": 5,
   "metadata": {},
   "outputs": [
    {
     "name": "stdout",
     "output_type": "stream",
     "text": [
      ">> Smallest cell size = 50 m\n",
      ">> Padding distance = 316227 m\n",
      ">> # of padding cells 17\n",
      ">> # of core cells cells 16\n"
     ]
    }
   ],
   "source": [
    "rxloc = np.r_[0.]\n",
    "srcloc = np.r_[0.]\n",
    "frequency = np.logspace(-3, 2, 25)\n",
    "rxType = \"AppredPha\"\n",
    "\n",
    "if rxType == \"Zxy\":\n",
    "    rx = ZxyRx(rxloc, component=\"both\", frequency=frequency)\n",
    "    rxList = [rx]\n",
    "elif rxType == \"AppredPha\":\n",
    "    rx = AppResPhaRx(rxloc, component=\"both\", frequency=frequency)\n",
    "    rxList = [rx]\n",
    "    \n",
    "src = MT1DSrc(rxList, loc=srcloc)\n",
    "survey = MT1DSurvey([src])\n",
    "mesh = survey.setMesh(sigma=0.01, max_depth_core=5000., \n",
    "                      ncell_per_skind=10, n_skind=2, \n",
    "                      core_meshType=\"log\", max_hz_core=1000.)\n",
    "\n",
    "sigma = np.ones(mesh.nC) * 0.01\n",
    "\n",
    "prob = MT1DProblem(mesh, sigmaMap=Maps.ExpMap(mesh), verbose=False)\n",
    "prob.pair(survey)"
   ]
  },
  {
   "cell_type": "code",
   "execution_count": 6,
   "metadata": {},
   "outputs": [
    {
     "name": "stdout",
     "output_type": "stream",
     "text": [
      "CPU times: user 64.7 ms, sys: 3.44 ms, total: 68.2 ms\n",
      "Wall time: 66.5 ms\n"
     ]
    }
   ],
   "source": [
    "%%time\n",
    "f = prob.fields(np.log(sigma))\n",
    "pred = survey.dpred(np.log(sigma), f=f)"
   ]
  },
  {
   "cell_type": "code",
   "execution_count": 7,
   "metadata": {},
   "outputs": [
    {
     "data": {
      "text/plain": [
       "array([[ 102.26977514,   43.73205394],\n",
       "       [  99.80405995,   44.73788652],\n",
       "       [ 100.61504688,   45.04174095],\n",
       "       [ 100.83701264,   44.99056815],\n",
       "       [ 100.79308747,   44.98012389],\n",
       "       [ 100.77427024,   44.97575198],\n",
       "       [ 100.75048553,   44.96936355],\n",
       "       [ 100.72005731,   44.96141955],\n",
       "       [ 100.68117651,   44.95159917],\n",
       "       [ 100.63147215,   44.9396113 ],\n",
       "       [ 100.56802477,   44.9252466 ],\n",
       "       [ 100.48749164,   44.90848916],\n",
       "       [ 100.38663785,   44.88964977],\n",
       "       [ 100.26358547,   44.86940965],\n",
       "       [ 100.11981313,   44.84848684],\n",
       "       [  99.96162638,   44.82648982],\n",
       "       [  99.79724425,   44.79993401],\n",
       "       [  99.62521166,   44.76117591],\n",
       "       [  99.42075778,   44.70188477],\n",
       "       [  99.14518993,   44.61997357],\n",
       "       [  98.77888245,   44.51789991],\n",
       "       [  98.31583646,   44.39194113],\n",
       "       [  97.73169511,   44.23445385],\n",
       "       [  96.99318024,   44.03884103],\n",
       "       [  96.0608984 ,   43.797756  ]])"
      ]
     },
     "execution_count": 7,
     "metadata": {},
     "output_type": "execute_result"
    }
   ],
   "source": [
    "pred.reshape((survey.nFreq, 2))"
   ]
  },
  {
   "cell_type": "code",
   "execution_count": 30,
   "metadata": {},
   "outputs": [
    {
     "name": "stdout",
     "output_type": "stream",
     "text": [
      "==================== checkDerivative ====================\n",
      "iter    h         |ft-f0|   |ft-f0-h*J0*dx|  Order\n",
      "---------------------------------------------------------\n",
      " 0   1.00e-01    7.801e+02     3.184e+02      nan\n",
      " 1   1.00e-02    4.868e+01     2.300e+00      2.141\n",
      " 2   1.00e-03    4.662e+00     3.300e-02      1.843\n",
      "========================= PASS! =========================\n",
      "Go Test Go!\n",
      "\n"
     ]
    },
    {
     "data": {
      "text/plain": [
       "True"
      ]
     },
     "execution_count": 30,
     "metadata": {},
     "output_type": "execute_result"
    }
   ],
   "source": [
    "from SimPEG import Tests\n",
    "def derChk(m):\n",
    "    return [survey.dpred(m), lambda mx: prob.Jvec(m, mx)]\n",
    "Tests.checkDerivative(derChk, np.log(sigma), plotIt=False, num=3, eps=1e-20, dx=np.log(sigma)*2)"
   ]
  },
  {
   "cell_type": "code",
   "execution_count": 31,
   "metadata": {},
   "outputs": [
    {
     "name": "stdout",
     "output_type": "stream",
     "text": [
      "SimPEG.DataMisfit.l2_DataMisfit assigning default eps of 1e-5 * ||dobs||\n"
     ]
    }
   ],
   "source": [
    "survey.dobs = pred\n",
    "dmis = DataMisfit.l2_DataMisfit(survey)\n",
    "m0 = np.log(sigma)*2."
   ]
  },
  {
   "cell_type": "code",
   "execution_count": 32,
   "metadata": {},
   "outputs": [
    {
     "name": "stdout",
     "output_type": "stream",
     "text": [
      "==================== checkDerivative ====================\n",
      "iter    h         |ft-f0|   |ft-f0-h*J0*dx|  Order\n",
      "---------------------------------------------------------\n",
      " 0   1.00e-01    2.152e+08     1.364e+08      nan\n",
      " 1   1.00e-02    8.617e+06     7.373e+05      2.267\n",
      " 2   1.00e-03    7.950e+05     6.993e+03      2.023\n",
      " 3   1.00e-04    7.887e+04     6.988e+01      2.000\n",
      "========================= PASS! =========================\n",
      "That was easy!\n",
      "\n"
     ]
    },
    {
     "data": {
      "text/plain": [
       "True"
      ]
     },
     "execution_count": 32,
     "metadata": {},
     "output_type": "execute_result"
    }
   ],
   "source": [
    "Tests.checkDerivative(\n",
    "    lambda m: [dmis(m), dmis.deriv(m)],\n",
    "    m0,\n",
    "    plotIt=False,\n",
    "    num=4,\n",
    "    dx = m0*1.\n",
    ")"
   ]
  },
  {
   "cell_type": "code",
   "execution_count": 24,
   "metadata": {},
   "outputs": [
    {
     "name": "stdout",
     "output_type": "stream",
     "text": [
      "('Adjoint Test', 2.1827872842550278e-11, True)\n"
     ]
    }
   ],
   "source": [
    "v = np.random.rand(mesh.nC)\n",
    "w = np.random.rand(pred.shape[0])\n",
    "wtJv = w.dot(prob.Jvec(m0, v))\n",
    "vtJtw = v.dot(prob.Jtvec(m0, w))\n",
    "passed = np.abs(wtJv - vtJtw) < 1e-10\n",
    "print('Adjoint Test', np.abs(wtJv - vtJtw), passed)"
   ]
  },
  {
   "cell_type": "code",
   "execution_count": null,
   "metadata": {
    "collapsed": true
   },
   "outputs": [],
   "source": []
  }
 ],
 "metadata": {
  "anaconda-cloud": {},
  "kernelspec": {
   "display_name": "Python [default]",
   "language": "python",
   "name": "python2"
  },
  "language_info": {
   "codemirror_mode": {
    "name": "ipython",
    "version": 2
   },
   "file_extension": ".py",
   "mimetype": "text/x-python",
   "name": "python",
   "nbconvert_exporter": "python",
   "pygments_lexer": "ipython2",
   "version": "2.7.12"
  }
 },
 "nbformat": 4,
 "nbformat_minor": 2
}
