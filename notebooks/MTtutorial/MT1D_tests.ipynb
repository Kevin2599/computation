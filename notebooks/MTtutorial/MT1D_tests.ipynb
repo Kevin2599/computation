{
 "cells": [
  {
   "cell_type": "code",
   "execution_count": 17,
   "metadata": {
    "collapsed": true
   },
   "outputs": [],
   "source": [
    "from MT1D import MT1DProblem, MT1DSurvey, MT1DSrc, ZxyRx, Survey, AppResPhaRx\n",
    "from SimPEG import Maps, DataMisfit\n",
    "from scipy.constants import mu_0\n",
    "import numpy as np"
   ]
  },
  {
   "cell_type": "code",
   "execution_count": 18,
   "metadata": {},
   "outputs": [
    {
     "name": "stdout",
     "output_type": "stream",
     "text": [
      ">> Smallest cell size = 50 m\n",
      ">> Padding distance = 316227 m\n",
      ">> # of padding cells 17\n",
      ">> # of core cells cells 16\n"
     ]
    }
   ],
   "source": [
    "rxloc = np.r_[0.]\n",
    "srcloc = np.r_[0.]\n",
    "frequency = np.logspace(-3, 2, 25)\n",
    "rxType = \"AppredPha\"\n",
    "\n",
    "if rxType == \"Zxy\":\n",
    "    rx = ZxyRx(rxloc, component=\"both\", frequency=frequency)\n",
    "    rxList = [rx]\n",
    "elif rxType == \"AppredPha\":\n",
    "    rx = AppResPhaRx(rxloc, component=\"both\", frequency=frequency)\n",
    "    rxList = [rx]\n",
    "    \n",
    "src = MT1DSrc(rxList, loc=srcloc)\n",
    "survey = MT1DSurvey([src])\n",
    "mesh = survey.setMesh(sigma=0.01, max_depth_core=5000., \n",
    "                      ncell_per_skind=10, n_skind=2, \n",
    "                      core_meshType=\"log\", max_hz_core=1000.)\n",
    "\n",
    "sigma = np.ones(mesh.nC) * 0.01\n",
    "\n",
    "prob = MT1DProblem(mesh, sigmaMap=Maps.ExpMap(mesh), verbose=False)\n",
    "prob.pair(survey)"
   ]
  },
  {
   "cell_type": "code",
   "execution_count": 19,
   "metadata": {},
   "outputs": [
    {
     "name": "stdout",
     "output_type": "stream",
     "text": [
      "CPU times: user 78.1 ms, sys: 3.87 ms, total: 82 ms\n",
      "Wall time: 81.9 ms\n"
     ]
    }
   ],
   "source": [
    "%%time\n",
    "f = prob.fields(np.log(sigma))\n",
    "pred = survey.dpred(np.log(sigma), f=f)"
   ]
  },
  {
   "cell_type": "code",
   "execution_count": 20,
   "metadata": {},
   "outputs": [
    {
     "data": {
      "text/plain": [
       "array([[ 101.07140343,   44.00702818],\n",
       "       [  99.99861914,   44.88870214],\n",
       "       [ 100.76432908,   45.03799151],\n",
       "       [ 100.85849973,   44.99541676],\n",
       "       [ 100.83384236,   44.99220846],\n",
       "       [ 100.82661407,   44.99061823],\n",
       "       [ 100.81695931,   44.98827299],\n",
       "       [ 100.80453347,   44.98545938],\n",
       "       [ 100.788524  ,   44.98216293],\n",
       "       [ 100.76787493,   44.97847183],\n",
       "       [ 100.74133486,   44.9746596 ],\n",
       "       [ 100.70767831,   44.97132496],\n",
       "       [ 100.66635939,   44.96956054],\n",
       "       [ 100.61891973,   44.97104088],\n",
       "       [ 100.57119343,   44.97774406],\n",
       "       [ 100.53503627,   44.99087612],\n",
       "       [ 100.525714  ,   45.00898525],\n",
       "       [ 100.55063387,   45.02703881],\n",
       "       [ 100.59608298,   45.04008388],\n",
       "       [ 100.63728772,   45.0503667 ],\n",
       "       [ 100.67241737,   45.06582463],\n",
       "       [ 100.71795883,   45.08973994],\n",
       "       [ 100.77759329,   45.12353317],\n",
       "       [ 100.8532251 ,   45.17226884],\n",
       "       [ 100.94952624,   45.24363091]])"
      ]
     },
     "execution_count": 20,
     "metadata": {},
     "output_type": "execute_result"
    }
   ],
   "source": [
    "pred.reshape((survey.nFreq, 2))"
   ]
  },
  {
   "cell_type": "code",
   "execution_count": 21,
   "metadata": {},
   "outputs": [
    {
     "name": "stdout",
     "output_type": "stream",
     "text": [
      "==================== checkDerivative ====================\n",
      "iter    h         |ft-f0|   |ft-f0-h*J0*dx|  Order\n",
      "---------------------------------------------------------\n",
      " 0   1.00e-01    7.784e+02     3.156e+02      nan\n",
      " 1   1.00e-02    4.875e+01     2.276e+00      2.142\n",
      " 2   1.00e-03    4.671e+00     3.173e-02      1.856\n",
      "========================= PASS! =========================\n",
      "You are awesome.\n",
      "\n"
     ]
    },
    {
     "data": {
      "text/plain": [
       "True"
      ]
     },
     "execution_count": 21,
     "metadata": {},
     "output_type": "execute_result"
    }
   ],
   "source": [
    "from SimPEG import Tests\n",
    "def derChk(m):\n",
    "    return [survey.dpred(m), lambda mx: prob.Jvec(m, mx)]\n",
    "Tests.checkDerivative(derChk, np.log(sigma), plotIt=False, num=3, eps=1e-20, dx=np.log(sigma)*2)"
   ]
  },
  {
   "cell_type": "code",
   "execution_count": 22,
   "metadata": {},
   "outputs": [
    {
     "name": "stdout",
     "output_type": "stream",
     "text": [
      "SimPEG.DataMisfit.l2_DataMisfit assigning default eps of 1e-5 * ||dobs||\n"
     ]
    }
   ],
   "source": [
    "survey.dobs = pred\n",
    "dmis = DataMisfit.l2_DataMisfit(survey)\n",
    "m0 = np.log(sigma)*2."
   ]
  },
  {
   "cell_type": "code",
   "execution_count": 23,
   "metadata": {},
   "outputs": [
    {
     "name": "stdout",
     "output_type": "stream",
     "text": [
      "==================== checkDerivative ====================\n",
      "iter    h         |ft-f0|   |ft-f0-h*J0*dx|  Order\n",
      "---------------------------------------------------------\n",
      " 0   1.00e-01    2.129e+08     1.349e+08      nan\n",
      " 1   1.00e-02    8.536e+06     7.298e+05      2.267\n",
      " 2   1.00e-03    7.875e+05     6.921e+03      2.023\n",
      " 3   1.00e-04    7.813e+04     6.917e+01      2.000\n",
      "========================= PASS! =========================\n",
      "You are awesome.\n",
      "\n"
     ]
    },
    {
     "data": {
      "text/plain": [
       "True"
      ]
     },
     "execution_count": 23,
     "metadata": {},
     "output_type": "execute_result"
    }
   ],
   "source": [
    "Tests.checkDerivative(\n",
    "    lambda m: [dmis(m), dmis.deriv(m)],\n",
    "    m0,\n",
    "    plotIt=False,\n",
    "    num=4,\n",
    "    dx = m0*1.\n",
    ")"
   ]
  },
  {
   "cell_type": "code",
   "execution_count": 24,
   "metadata": {},
   "outputs": [
    {
     "name": "stdout",
     "output_type": "stream",
     "text": [
      "('Adjoint Test', 0.0, True)\n"
     ]
    }
   ],
   "source": [
    "v = np.random.rand(mesh.nC)\n",
    "w = np.random.rand(pred.shape[0])\n",
    "wtJv = w.dot(prob.Jvec(m0, v))\n",
    "vtJtw = v.dot(prob.Jtvec(m0, w))\n",
    "passed = np.abs(wtJv - vtJtw) < 1e-10\n",
    "print('Adjoint Test', np.abs(wtJv - vtJtw), passed)"
   ]
  },
  {
   "cell_type": "code",
   "execution_count": null,
   "metadata": {
    "collapsed": true
   },
   "outputs": [],
   "source": []
  }
 ],
 "metadata": {
  "anaconda-cloud": {},
  "kernelspec": {
   "display_name": "Python [default]",
   "language": "python",
   "name": "python2"
  },
  "language_info": {
   "codemirror_mode": {
    "name": "ipython",
    "version": 2
   },
   "file_extension": ".py",
   "mimetype": "text/x-python",
   "name": "python",
   "nbconvert_exporter": "python",
   "pygments_lexer": "ipython2",
   "version": "2.7.13"
  }
 },
 "nbformat": 4,
 "nbformat_minor": 2
}
