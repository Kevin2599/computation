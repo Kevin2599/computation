{
 "cells": [
  {
   "cell_type": "code",
   "execution_count": 39,
   "metadata": {
    "collapsed": true
   },
   "outputs": [],
   "source": [
    "# !pip install SimPEG"
   ]
  },
  {
   "cell_type": "code",
   "execution_count": 46,
   "metadata": {},
   "outputs": [
    {
     "name": "stdout",
     "output_type": "stream",
     "text": [
      "Populating the interactive namespace from numpy and matplotlib\n"
     ]
    }
   ],
   "source": [
    "import numpy as np\n",
    "import scipy.sparse as sp\n",
    "from SimPEG import Mesh, Utils, Solver\n",
    "from scipy.constants import mu_0, epsilon_0\n",
    "%pylab inline"
   ]
  },
  {
   "cell_type": "markdown",
   "metadata": {},
   "source": [
    "# Simulation of 1D magnetotelluric problem"
   ]
  },
  {
   "cell_type": "markdown",
   "metadata": {},
   "source": [
    "##  Purpose\n",
    "\n",
    "With SimPEG's mesh class, we discretize Maxwell's equations for a 1D magnetotelluric problem, solve both electric and magnetic fields, and evaluate data at a receing location. There are some mile stones to be accomplished:\n",
    "\n",
    "- Understand terminology behind SimPEG mesh class\n",
    "\n",
    "- Set up a boundary condition\n",
    "\n",
    "- Set up an linear system $\\mathbf{A}\\mathbf{u} = \\mathbf{rhs}$, compute the fields, $\\mathbf{u}$\n",
    "\n",
    "- Evaluate the data at a receiver location: apparent resistivity and phase\n",
    "\n",
    "- Recognize extensibility of this example to higher dimensions: 2D and 3D"
   ]
  },
  {
   "cell_type": "markdown",
   "metadata": {},
   "source": [
    "## Physics: Maxwell's equations"
   ]
  },
  {
   "cell_type": "markdown",
   "metadata": {},
   "source": [
    "$$\\nabla \\times \\mathbf{E} = -\\imath\\omega \\mu \\mathbf{H}$$\n",
    "\n",
    "$$\\nabla \\times \\mathbf{H} + \\hat{\\sigma} \\mathbf{E} = 0$$\n",
    "\n",
    "where $\\hat{\\sigma} = \\sigma+\\imath \\omega \\epsilon $"
   ]
  },
  {
   "cell_type": "markdown",
   "metadata": {},
   "source": [
    "Assume a setup downward propagating plane wave having only: $E_x$ and $H_y$ components"
   ]
  },
  {
   "cell_type": "markdown",
   "metadata": {},
   "source": [
    "\n",
    "$$ \\frac{\\partial E_x}{\\partial z}  + \\imath \\omega \\mu H_y = 0$$\n",
    "\n",
    "$$-\\frac{\\partial H_y}{\\partial z} +  \\hat{\\sigma} E_x = 0$$\n",
    "\n",
    "with Boundary conditions:\n",
    "\n",
    "- $E_x (z=0) = 1$\n",
    "\n",
    "- $E_x (z=-\\infty) = 0$"
   ]
  },
  {
   "cell_type": "markdown",
   "metadata": {},
   "source": [
    "## Discretizations: "
   ]
  },
  {
   "cell_type": "markdown",
   "metadata": {},
   "source": [
    "$$ \\mathbf{Grad} \\ \\mathbf{E}_x + \\imath \\omega \\mathbf{M}^{f2cc}_{\\mu} \\ \\mathbf{H}_y  = - \\mathbf{B}\\mathbf{E}_x^{bc}$$\n",
    "\n",
    "$$ \\mathbf{M}^{cc}_{\\hat{\\sigma}} \\ \\mathbf{E}_x + \\mathbf{Div} \\ \\mathbf{H}_y  = \\boldsymbol{0}$$\n"
   ]
  },
  {
   "cell_type": "markdown",
   "metadata": {},
   "source": [
    "- $\\mathbf{E}_x$: Discrete $E_x$ component $[nC \\times 1]$\n",
    "\n",
    "- $\\mathbf{H}_y$: Dicrete $H_x$ component $[(nC+1) \\times 1]$\n",
    "\n",
    "- $ \\mathbf{Grad}$: Discrete gradient operator $[nC \\times (nC+1)]$\n",
    "\n",
    "- $ \\mathbf{Div}$: Discrete divergence operator $[(nC+1) \\times nC]$\n",
    "\n",
    "- $\\mathbf{M}^{f2cc}_{\\mu}$: $\\mathbf{diag}(\\mathbf{Av}^T  \\boldsymbol{\\mu})$ $[(nC+1) \\times (nC+1)]$\n",
    "\n",
    "- $\\mathbf{M}^{cc}_{\\hat{\\sigma}}$: $\\mathbf{diag}(\\boldsymbol{\\hat{\\sigma}})$ $[nC \\times nC]$"
   ]
  },
  {
   "cell_type": "markdown",
   "metadata": {},
   "source": [
    "### Questions:\n",
    "\n",
    "- Explain why $\\mathbf{Div} \\approx -\\mathbf{Grad}^T$? Which condition is required to satisfiy equaility? $\\mathbf{Div} = -\\mathbf{Grad}^T$\n",
    "\n",
    "\n",
    "- What are the sizes of $\\mathbf{E}_x^{bc}$ and $\\mathbf{B}$ ?"
   ]
  },
  {
   "cell_type": "markdown",
   "metadata": {},
   "source": [
    "## Step1: set up an 1D mesh"
   ]
  },
  {
   "cell_type": "markdown",
   "metadata": {},
   "source": [
    "### Questions:\n",
    "\n",
    "- What is the skin depth when $\\sigma$ = 0.01 S/m and $f$ = 10 Hz?\n",
    "\n",
    "\n",
    "- Let us assume that our frequency band of interest is 0.01-1000 Hz. To capture diffusive EM wave how many cells are required for a skin depth? (You may want to use the highest freuquency)\n",
    "\n",
    "\n",
    "- How much padding distance is required to satisfiy our boundary condition: $E_x (z=-\\infty) = 0$ ? (You may want to use the lowest freuquency)\n"
   ]
  },
  {
   "cell_type": "code",
   "execution_count": 47,
   "metadata": {},
   "outputs": [
    {
     "name": "stdout",
     "output_type": "stream",
     "text": [
      "Smallest cell size = 39 m\n",
      "Padding distance = 100000 m\n"
     ]
    }
   ],
   "source": [
    "fmax, fmin = 1e3, 1e-2\n",
    "print (\"Smallest cell size = %d m\") % (500*np.sqrt(100/fmax) / 4.)\n",
    "print (\"Padding distance = %d m\") % (500*np.sqrt(100/fmin) * 2)"
   ]
  },
  {
   "cell_type": "code",
   "execution_count": 48,
   "metadata": {},
   "outputs": [
    {
     "name": "stdout",
     "output_type": "stream",
     "text": [
      "122984.329251\n"
     ]
    },
    {
     "data": {
      "image/png": "[encoded data removed]",
      "text/plain": [
       "<matplotlib.figure.Figure at 0x10a6921d0>"
      ]
     },
     "metadata": {},
     "output_type": "display_data"
    }
   ],
   "source": [
    "cs = 39.\n",
    "npad = 25\n",
    "ncz = 100\n",
    "hz = [(cs, npad, -1.3), (cs, ncz)]\n",
    "mesh = Mesh.TensorMesh([hz], x0='N')\n",
    "mesh.plotGrid(centers=True, faces=True)\n",
    "plt.legend((\"centers\", \"faces\"))\n",
    "print mesh.hx.sum()"
   ]
  },
  {
   "cell_type": "code",
   "execution_count": 49,
   "metadata": {},
   "outputs": [],
   "source": [
    "# mesh.vectorCCx"
   ]
  },
  {
   "cell_type": "markdown",
   "metadata": {},
   "source": [
    "## Step2: Create discrete operators"
   ]
  },
  {
   "cell_type": "code",
   "execution_count": 53,
   "metadata": {
    "collapsed": true
   },
   "outputs": [],
   "source": [
    "mu = np.ones(mesh.nC)*mu_0 # magnetic permeability values for all cells\n",
    "sigma = np.ones(mesh.nC)*0.01 # conductivity values for all cells\n",
    "epsilon = np.ones(mesh.nC)*epsilon_0 # dielectric constant values for all cells\n",
    "frequency = 1. # Frequency (Hz)\n",
    "omega = 2*np.pi*frequency # Angular frequency (rad/s)\n",
    "sigmahat = sigma # Assume sigmahat = sigma\n",
    "# In reality ...\n",
    "# sigmahat = sigma + 1j*epsilon*omega # sigmahat = sigma + 1j*omega*epsilon\n",
    "Div = mesh.faceDiv # Divergence matrix\n",
    "mesh.setCellGradBC([['dirichlet', 'dirichlet']]) # Setup boundary conditions\n",
    "Grad = mesh.cellGrad # Gradient matrix\n",
    "B = mesh.cellGradBC  # a matrix for boundary conditions\n",
    "Exbc = np.r_[0., 1.] # boundary values for Ex\n",
    "Msighat = Utils.sdiag(sigmahat) \n",
    "Mmu = Utils.sdiag(mesh.aveF2CC.T * mu) "
   ]
  },
  {
   "cell_type": "markdown",
   "metadata": {},
   "source": [
    "## What to solve?\n",
    "\n",
    "$$ \\mathbf{Grad} \\ \\mathbf{E}_x + \\imath \\omega \\mathbf{M}^{f2cc}_{\\mu} \\ \\mathbf{H}_y  = - \\mathbf{B}\\mathbf{E}_x^{bc}$$\n",
    "\n",
    "$$ \\mathbf{M}^{cc}_{\\hat{\\sigma}} \\ \\mathbf{E}_x + \\mathbf{Div} \\ \\mathbf{H}_y  = \\boldsymbol{0}$$\n",
    "\n",
    "Above discrete Maxwell's equations can be expressed as \n",
    "\n",
    "$$\\mathbf{A}\\mathbf{u} = \\mathbf{rhs}$$\n",
    "\n",
    "where \n",
    "\n",
    "- $\\mathbf{A} =  \\begin{bmatrix}\n",
    "       \\mathbf{Grad} & \\imath \\omega \\mathbf{M}^{f2cc}_{\\mu} \\\\[0.3em]\n",
    "       \\mathbf{M}^{cc}_{\\hat{\\sigma}} & \\mathbf{Div}           \\\\[0.3em]\n",
    "     \\end{bmatrix}$\n",
    "\n",
    "\n",
    "- $\\mathbf{u} = \\begin{bmatrix}\n",
    "       \\mathbf{E}_x \\\\[0.3em]\n",
    "       \\mathbf{H}_y \\\\[0.3em]\n",
    "    \\end{bmatrix}$\n",
    "\n",
    "\n",
    "- $\\mathbf{rhs} = \\begin{bmatrix}\n",
    "       - \\mathbf{B}\\mathbf{E}_x^{bc} \\\\[0.3em]\n",
    "       \\boldsymbol{0} \\\\[0.3em]\n",
    "    \\end{bmatrix}$\n"
   ]
  },
  {
   "cell_type": "code",
   "execution_count": 54,
   "metadata": {
    "collapsed": true
   },
   "outputs": [],
   "source": [
    "tempUp = sp.hstack((Grad, 1j*omega*Mmu)) # Top row of A matrix\n",
    "tempDw = sp.hstack((Msighat, Div)) # Bottom row of A matrix\n",
    "A = sp.vstack((tempUp, tempDw)) # Full A matrix\n",
    "rhs = np.r_[-B*Exbc, np.zeros(mesh.nC)] # Right-hand side"
   ]
  },
  {
   "cell_type": "code",
   "execution_count": 55,
   "metadata": {
    "collapsed": true
   },
   "outputs": [],
   "source": [
    "Ainv = Solver(A) # Factorize A matrix\n",
    "sol = Ainv*rhs   # Solve A^-1 rhs = sol\n",
    "Ex = sol[:mesh.nC] # Extract Ex from solution vector u\n",
    "Hy = sol[mesh.nC:mesh.nC+mesh.nN] # Extract Hy from solution vector u"
   ]
  },
  {
   "cell_type": "markdown",
   "metadata": {},
   "source": [
    "## Step3: Compute Impedance, apparent resistivity, and phase\n",
    "\n",
    "add links"
   ]
  },
  {
   "cell_type": "code",
   "execution_count": 56,
   "metadata": {},
   "outputs": [],
   "source": [
    "Zxy = - 1./Hy[-1] # Impedance\n",
    "app_res = abs(Zxy)**2 / (mu_0*omega)\n",
    "app_phase = np.rad2deg(np.arctan(Zxy.imag / Zxy.real))"
   ]
  },
  {
   "cell_type": "code",
   "execution_count": 57,
   "metadata": {},
   "outputs": [
    {
     "name": "stdout",
     "output_type": "stream",
     "text": [
      "Apparent resitivity = 100 Ohm-m\n"
     ]
    }
   ],
   "source": [
    "print (\"Apparent resitivity = %.f Ohm-m\") % (app_res)"
   ]
  },
  {
   "cell_type": "code",
   "execution_count": 58,
   "metadata": {},
   "outputs": [
    {
     "name": "stdout",
     "output_type": "stream",
     "text": [
      "Apparent phase =  45 degree\n"
     ]
    }
   ],
   "source": [
    "print (\"Apparent phase =  %.f degree\") % (app_phase)"
   ]
  },
  {
   "cell_type": "markdown",
   "metadata": {},
   "source": [
    "## Explore\n",
    "- Write a MT simulation function that can compute apparent resistivity and phase at each frequency (Use quasi-static approximation for this case)"
   ]
  },
  {
   "cell_type": "code",
   "execution_count": 59,
   "metadata": {
    "collapsed": true
   },
   "outputs": [],
   "source": [
    "def MTsimulation(mesh, sigma, frequency):\n",
    "    \"\"\"\n",
    "       Compute apparent resistivity and phase at each frequency\n",
    "    \"\"\"\n",
    "    \n",
    "    return app_res, app_phase"
   ]
  },
  {
   "cell_type": "markdown",
   "metadata": {},
   "source": [
    "- Check the accuracy for frequency band = 0.1-1000 Hz (plot both apparent resistiity and phase as a function of frequency)"
   ]
  },
  {
   "cell_type": "code",
   "execution_count": 60,
   "metadata": {},
   "outputs": [
    {
     "data": {
      "image/png": "[encoded data removed]",
      "text/plain": [
       "<matplotlib.figure.Figure at 0x10a342350>"
      ]
     },
     "metadata": {},
     "output_type": "display_data"
    }
   ],
   "source": [
    "freq = np.logspace(-1, 3, 41)\n",
    "app_res_vec = np.ones_like(freq) / 0.01 # You need to get this by you MTsimulation function\n",
    "app_phase_vec = np.ones_like(freq) *45. # You need to get this by you MTsimulation function\n",
    "plt.semilogx(freq, app_res_vec, lw=2, color=\"k\", marker=\".\")\n",
    "plt.semilogx(freq, app_phase_vec, lw=2, color=\"r\", marker=\".\")\n",
    "plt.xlabel(\"Frequency (Hz)\")\n",
    "plt.grid(True)"
   ]
  },
  {
   "cell_type": "markdown",
   "metadata": {},
   "source": [
    "- Now you are okay with accuracy of this algorithm for the given frequency band. Generate conductivity structure suggested below:\n",
    "\n",
    "    From 0 to -1000 m: 0.01 S/m\n",
    "    \n",
    "    From -1000 to -2000 m: 0.1 S/m    \n",
    "    \n",
    "    From -2000 to -$\\infty$ m: 0.001 S/m      \n",
    "    \n",
    "- Use you MT simulation function, compute apparent resistivity and phase for the givnen frequency band, plot your results similar to above, and explain the results"
   ]
  },
  {
   "cell_type": "code",
   "execution_count": 61,
   "metadata": {},
   "outputs": [
    {
     "data": {
      "image/png": "[encoded data removed]",
      "text/plain": [
       "<matplotlib.figure.Figure at 0x1094ecf10>"
      ]
     },
     "metadata": {},
     "output_type": "display_data"
    }
   ],
   "source": [
    "freq = np.logspace(-1, 3, 41)\n",
    "app_res_vec = np.ones_like(freq) / 0.01 # You need to get this by you MTsimulation function\n",
    "app_phase_vec = np.ones_like(freq) *45. # You need to get this by you MTsimulation function\n",
    "plt.semilogx(freq, app_res_vec, lw=2, color=\"k\", marker=\".\")\n",
    "plt.semilogx(freq, app_phase_vec, lw=2, color=\"r\", marker=\".\")\n",
    "plt.xlabel(\"Frequency (Hz)\")\n",
    "plt.grid(True)"
   ]
  },
  {
   "cell_type": "markdown",
   "metadata": {},
   "source": [
    "- Quasi-static approximation was used to compute both the system and data (apparent resistivity and phase), now add displacement current term ($\\imath \\omega \\epsilon E_x$) to your system, and compute the data. \n",
    "\n",
    "\n",
    "- Recognize the frequency where you have recognizable error, and explain why. "
   ]
  }
 ],
 "metadata": {
  "anaconda-cloud": {},
  "kernelspec": {
   "display_name": "Python [default]",
   "language": "python",
   "name": "python2"
  },
  "language_info": {
   "codemirror_mode": {
    "name": "ipython",
    "version": 2
   },
   "file_extension": ".py",
   "mimetype": "text/x-python",
   "name": "python",
   "nbconvert_exporter": "python",
   "pygments_lexer": "ipython2",
   "version": "2.7.12"
  }
 },
 "nbformat": 4,
 "nbformat_minor": 2
}
