{
 "cells": [
  {
   "cell_type": "code",
   "execution_count": 1,
   "metadata": {
    "collapsed": true
   },
   "outputs": [],
   "source": [
    "# !pip install SimPEG"
   ]
  },
  {
   "cell_type": "code",
   "execution_count": 2,
   "metadata": {},
   "outputs": [
    {
     "name": "stdout",
     "output_type": "stream",
     "text": [
      "Populating the interactive namespace from numpy and matplotlib\n"
     ]
    }
   ],
   "source": [
    "import numpy as np\n",
    "import scipy.sparse as sp\n",
    "from SimPEG import Mesh, Utils, Solver\n",
    "from scipy.constants import mu_0, epsilon_0\n",
    "%pylab inline"
   ]
  },
  {
   "cell_type": "markdown",
   "metadata": {},
   "source": [
    "# Sensitivity computuation for 1D magnetotelluric problem"
   ]
  },
  {
   "cell_type": "markdown",
   "metadata": {},
   "source": [
    "##  Purpose\n",
    "\n",
    "XX\n",
    "\n",
    "- XXX"
   ]
  },
  {
   "cell_type": "markdown",
   "metadata": {},
   "source": [
    "## Discretizations: "
   ]
  },
  {
   "cell_type": "markdown",
   "metadata": {},
   "source": [
    "$$ \\mathbf{Grad} \\ \\mathbf{E}_x + \\imath \\omega \\mathbf{M}^{f2cc}_{\\mu} \\ \\mathbf{H}_y  = - \\mathbf{B}\\mathbf{E}_x^{bc}$$\n",
    "\n",
    "$$ \\mathbf{M}^{cc}_{\\hat{\\sigma}} \\ \\mathbf{E}_x + \\mathbf{Div} \\ \\mathbf{H}_y  = \\boldsymbol{0}$$\n"
   ]
  },
  {
   "cell_type": "markdown",
   "metadata": {},
   "source": [
    "- $\\mathbf{E}_x$: Discrete $E_x$ component $[nC \\times 1]$\n",
    "\n",
    "- $\\mathbf{H}_y$: Dicrete $H_x$ component $[(nC+1) \\times 1]$\n",
    "\n",
    "- $ \\mathbf{Grad}$: Discrete gradient operator $[nC \\times (nC+1)]$\n",
    "\n",
    "- $ \\mathbf{Div}$: Discrete divergence operator $[(nC+1) \\times nC]$\n",
    "\n",
    "- $\\mathbf{M}^{f2cc}_{\\mu}$: $\\mathbf{diag}(\\mathbf{Av}^T  \\boldsymbol{\\mu})$ $[(nC+1) \\times (nC+1)]$\n",
    "\n",
    "- $\\mathbf{M}^{cc}_{\\hat{\\sigma}}$: $\\mathbf{diag}(\\boldsymbol{\\hat{\\sigma}})$ $[nC \\times nC]$"
   ]
  },
  {
   "cell_type": "markdown",
   "metadata": {},
   "source": [
    "Above discrete Maxwell's equations can be expressed as \n",
    "\n",
    "$$\\mathbf{A}\\mathbf{u} = \\mathbf{rhs}$$\n",
    "\n",
    "where \n",
    "\n",
    "- $\\mathbf{A} =  \\begin{bmatrix}\n",
    "       \\mathbf{Grad} & \\imath \\omega \\mathbf{M}^{f2cc}_{\\mu} \\\\[0.3em]\n",
    "       \\mathbf{M}^{cc}_{\\hat{\\sigma}} & \\mathbf{Div}           \\\\[0.3em]\n",
    "     \\end{bmatrix}$\n",
    "\n",
    "\n",
    "- $\\mathbf{u} = \\begin{bmatrix}\n",
    "       \\mathbf{E}_x \\\\[0.3em]\n",
    "       \\mathbf{H}_y \\\\[0.3em]\n",
    "    \\end{bmatrix}$\n",
    "\n",
    "\n",
    "- $\\mathbf{rhs} = \\begin{bmatrix}\n",
    "       - \\mathbf{B}\\mathbf{E}_x^{bc} \\\\[0.3em]\n",
    "       \\boldsymbol{0} \\\\[0.3em]\n",
    "    \\end{bmatrix}$\n"
   ]
  },
  {
   "cell_type": "markdown",
   "metadata": {},
   "source": [
    "## What is data?\n",
    "\n",
    "Measured data in general can be defined as:\n",
    "\n",
    "$$ \\mathbf{d} = P(\\mathbf{u}) $$\n",
    "\n",
    "where $P(\\cdot)$ is a evaluation functional. For instance if we set complex impedance as our data then\n",
    "\n",
    "$$ \\mathbf{d} = \\mathbf{Z}_{xy} = - \\mathbf{P}_{0}(\\mathbf{E_x} / \\mathbf{H_y}) $$\n",
    "\n",
    "Often real and imagniary part of the impedance considered as a separate data in this case:\n",
    "\n",
    "$$\\mathbf{d} =  \\begin{bmatrix}\n",
    "       Re[\\mathbf{Z_{xy}}]  \\\\[0.3em]\n",
    "       Im[\\mathbf{Z_{xy}}]  \\\\[0.3em]\n",
    "     \\end{bmatrix}$$\n",
    "\n",
    "Or we could choose apparent resistivity and phase of the impedance:\n",
    "\n",
    "$$\\mathbf{d} =  \\begin{bmatrix}\n",
    "       \\rho_a \\\\[0.3em]\n",
    "       \\phi  \\\\[0.3em]\n",
    "     \\end{bmatrix}$$\n",
    "\n",
    "where \n",
    "\n",
    "$$ \\rho_a = \\frac{|\\mathbf{Z}_{xy}^2|}{\\mu_0\\omega} $$\n",
    "\n",
    "$$ \\phi = tan^{-1}(\\frac{Im[\\mathbf{Z_{xy}}]}{Re[\\mathbf{Z_{xy}}]}) $$"
   ]
  },
  {
   "cell_type": "markdown",
   "metadata": {},
   "source": [
    "## Sensitivity of datum with regard to $\\sigma$:\n",
    "\n",
    "Sensitivity function indicates changes in datum due to perturbed conductivity, and hence it can be defined as \n",
    "\n",
    "$$ J = \\frac{d P(u)}{d \\sigma}$$"
   ]
  },
  {
   "cell_type": "markdown",
   "metadata": {},
   "source": [
    "## Computing Jvec"
   ]
  },
  {
   "cell_type": "code",
   "execution_count": 3,
   "metadata": {},
   "outputs": [],
   "source": [
    "# This will be inputs\n",
    "frequency = np.logspace(-3, 2, 25)\n",
    "fmax, fmin = frequency.max(), frequency.min()\n",
    "max_depth_core = 5000.\n",
    "rho_half = 100."
   ]
  },
  {
   "cell_type": "code",
   "execution_count": 4,
   "metadata": {},
   "outputs": [
    {
     "name": "stdout",
     "output_type": "stream",
     "text": [
      "Smallest cell size = 125 m\n",
      "Padding distance = 316227 m\n"
     ]
    }
   ],
   "source": [
    "print (\"Smallest cell size = %d m\") % (500*np.sqrt(rho_half/fmax) / 4.)\n",
    "print (\"Padding distance = %d m\") % (500*np.sqrt(rho_half/fmin) * 2)\n",
    "cs = 500*np.sqrt(rho_half/fmax) / 10.\n",
    "skindepth2 = 500*np.sqrt(100/fmin) * 2\n",
    "\n",
    "npad = 1\n",
    "blength = cs*1.3**(np.arange(npad)+1)\n",
    "while blength < skindepth2:\n",
    "    npad+=1\n",
    "    blength = (cs*1.3**(np.arange(npad)+1)).sum()\n",
    "\n",
    "ncz = int(max_depth_core / cs)\n",
    "hz = [(cs, npad, -1.3), (cs, ncz)]\n",
    "mesh = Mesh.TensorMesh([hz], x0='N')\n",
    "sigma = np.ones(mesh.nC) * 1./rho_half"
   ]
  },
  {
   "cell_type": "code",
   "execution_count": 5,
   "metadata": {
    "collapsed": true
   },
   "outputs": [],
   "source": [
    "def dpred(sigma, dtype=\"ri\"):\n",
    "    f = 100.\n",
    "    mu = np.ones(mesh.nC)*mu_0 # magnetic permeability values for all cells\n",
    "    epsilon = np.ones(mesh.nC)*epsilon_0 # dielectric constant values for all cells\n",
    "    omega = 2*np.pi*f # Angular frequency (rad/s)\n",
    "    sigmahat = sigma # Assume sigmahat = sigma\n",
    "    # In reality ...\n",
    "    #         sigmahat = sigma + 1j*epsilon*omega # sigmahat = sigma + 1j*omega*epsilon\n",
    "    Div = mesh.faceDiv # Divergence matrix\n",
    "    mesh.setCellGradBC([['dirichlet', 'dirichlet']]) # Setup boundary conditions\n",
    "    Grad = mesh.cellGrad # Gradient matrix\n",
    "    B = mesh.cellGradBC  # a matrix for boundary conditions\n",
    "    Exbc = np.r_[0., 1.] # boundary values for Ex\n",
    "    Msighat = Utils.sdiag(sigmahat) \n",
    "    Mmu = Utils.sdiag(mesh.aveF2CC.T * mu) \n",
    "\n",
    "    tempUp = sp.hstack((Grad, 1j*omega*Mmu)) # Top row of A matrix\n",
    "    tempDw = sp.hstack((Msighat, Div)) # Bottom row of A matrix\n",
    "    A = sp.vstack((tempUp, tempDw)) # Full A matrix\n",
    "    rhs = np.r_[-B*Exbc, np.zeros(mesh.nC)] # Right-hand side   \n",
    "\n",
    "    Ainv = Solver(A) # Factorize A matrix\n",
    "    u = Ainv*rhs   # Solve A^-1 rhs = u\n",
    "    Ex = u[:mesh.nC] # Extract Ex from uution vector u\n",
    "    Hy = u[mesh.nC:mesh.nC+mesh.nN] # Extract Hy from solution vector u    \n",
    "    P0 = sp.coo_matrix(\n",
    "        (np.r_[1.], (np.r_[0], np.r_[len(u)-1])), shape=(1, len(u))\n",
    "             )\n",
    "    P0 = P0.tocsr()\n",
    "    Zxy = - 1./(P0*u)\n",
    "    if dtype == \"ri\":\n",
    "        return np.r_[Zxy.real, Zxy.imag]\n",
    "    elif dtype == \"rhopha\":\n",
    "        rhoa = abs(Zxy)**2 / (mu_0*omega)\n",
    "        phase = np.rad2deg(np.arctan(Zxy.imag / Zxy.real))\n",
    "        return np.r_[rhoa, phase]\n",
    "\n",
    "def Jvec(sigma, v, dtype=\"ri\"):\n",
    "    f = 100.\n",
    "    mu = np.ones(mesh.nC)*mu_0 # magnetic permeability values for all cells\n",
    "    epsilon = np.ones(mesh.nC)*epsilon_0 # dielectric constant values for all cells\n",
    "    omega = 2*np.pi*f # Angular frequency (rad/s)\n",
    "    sigmahat = sigma # Assume sigmahat = sigma\n",
    "    # In reality ...\n",
    "    #         sigmahat = sigma + 1j*epsilon*omega # sigmahat = sigma + 1j*omega*epsilon\n",
    "    Div = mesh.faceDiv # Divergence matrix\n",
    "    mesh.setCellGradBC([['dirichlet', 'dirichlet']]) # Setup boundary conditions\n",
    "    Grad = mesh.cellGrad # Gradient matrix\n",
    "    B = mesh.cellGradBC  # a matrix for boundary conditions\n",
    "    Exbc = np.r_[0., 1.] # boundary values for Ex\n",
    "    Msighat = Utils.sdiag(sigmahat) \n",
    "    Mmu = Utils.sdiag(mesh.aveF2CC.T * mu) \n",
    "\n",
    "    tempUp = sp.hstack((Grad, 1j*omega*Mmu)) # Top row of A matrix\n",
    "    tempDw = sp.hstack((Msighat, Div)) # Bottom row of A matrix\n",
    "    A = sp.vstack((tempUp, tempDw)) # Full A matrix\n",
    "    rhs = np.r_[-B*Exbc, np.zeros(mesh.nC)] # Right-hand side   \n",
    "\n",
    "    Ainv = Solver(A) # Factorize A matrix\n",
    "    u = Ainv*rhs   # Solve A^-1 rhs = u\n",
    "    Ex = u[:mesh.nC] # Extract Ex from uution vector u\n",
    "    Hy = u[mesh.nC:mesh.nC+mesh.nN] # Extract Hy from solution vector u    \n",
    "    P0 = sp.coo_matrix(\n",
    "        (np.r_[1.], (np.r_[0], np.r_[len(u)-1])), shape=(1, len(u))\n",
    "             )\n",
    "    P0 = P0.tocsr()\n",
    "    Zxy = - 1./(P0*u)\n",
    "\n",
    "    dAdsig_u_v = np.r_[np.zeros_like(Hy), Utils.sdiag(Ex)*v]\n",
    "    dudsig_v = - (Ainv * (dAdsig_u_v))\n",
    "    dZdsig_v = P0 * (Utils.sdiag(1./(u**2)) * dudsig_v)\n",
    "    if dtype == \"ri\":\n",
    "        dZrdsig_v = dZdsig_v.real\n",
    "        dZidsig_v = dZdsig_v.imag\n",
    "        return np.r_[dZrdsig_v, dZidsig_v]\n",
    "    elif dtype == \"rhopha\":\n",
    "        dZadZ = Zxy.conjugate() / abs(Zxy)\n",
    "        drhodZa = 2. * abs(Zxy) / (mu_0*omega)\n",
    "        drhodZ = drhodZa * dZadZ\n",
    "        drhodsig_v = (drhodZ * dZdsig_v).real\n",
    "#         dphadZ = 0.\n",
    "#         dphadsig_v = (dphadZ * dZdsig_v).real\n",
    "        return np.r_[drhodsig_v, 0.]"
   ]
  },
  {
   "cell_type": "markdown",
   "metadata": {},
   "source": [
    "### Order test: Jvec"
   ]
  },
  {
   "cell_type": "code",
   "execution_count": 30,
   "metadata": {},
   "outputs": [
    {
     "name": "stdout",
     "output_type": "stream",
     "text": [
      "==================== checkDerivative ====================\n",
      "iter    h         |ft-f0|   |ft-f0-h*J0*dx|  Order\n",
      "---------------------------------------------------------\n",
      " 0   1.00e-01    3.455e-02     7.603e-03      nan\n",
      " 1   1.00e-02    4.122e-03     9.253e-05      1.915\n",
      " 2   1.00e-03    4.205e-04     9.460e-07      1.990\n",
      "========================= PASS! =========================\n",
      "Go Test Go!\n",
      "\n"
     ]
    },
    {
     "data": {
      "text/plain": [
       "True"
      ]
     },
     "execution_count": 30,
     "metadata": {},
     "output_type": "execute_result"
    }
   ],
   "source": [
    "from SimPEG import Tests\n",
    "def derChk(m):\n",
    "    return [dpred(m, dtype=\"ri\"), lambda mx: Jvec(m, mx, dtype=\"ri\")]\n",
    "Tests.checkDerivative(derChk, sigma, plotIt=False, num=3, eps=1e-20, dx=sigma*3)"
   ]
  },
  {
   "cell_type": "code",
   "execution_count": 31,
   "metadata": {},
   "outputs": [
    {
     "name": "stdout",
     "output_type": "stream",
     "text": [
      "==================== checkDerivative ====================\n",
      "iter    h         |ft-f0|   |ft-f0-h*J0*dx|  Order\n",
      "---------------------------------------------------------\n",
      " 0   1.00e-01    2.247e+01     6.791e+00      nan\n",
      " 1   1.00e-02    2.840e+00     8.759e-02      1.889\n",
      " 2   1.00e-03    2.917e-01     2.005e-03      1.640\n",
      "========================= PASS! =========================\n",
      "Once upon a time, a happy little test passed.\n",
      "\n"
     ]
    },
    {
     "data": {
      "text/plain": [
       "True"
      ]
     },
     "execution_count": 31,
     "metadata": {},
     "output_type": "execute_result"
    }
   ],
   "source": [
    "from SimPEG import Tests\n",
    "def derChk(m):\n",
    "    return [dpred(m, dtype=\"rhopha\"), lambda mx: Jvec(m, mx, dtype=\"rhopha\")]\n",
    "Tests.checkDerivative(derChk, sigma, plotIt=False, num=3, eps=1e-20, dx=sigma*3)"
   ]
  },
  {
   "cell_type": "markdown",
   "metadata": {
    "collapsed": true
   },
   "source": [
    "## Computing Jtvec"
   ]
  },
  {
   "cell_type": "code",
   "execution_count": 19,
   "metadata": {
    "collapsed": true
   },
   "outputs": [],
   "source": [
    "def misfit(sigma, dtype=\"ri\", dobs=None):\n",
    "    r = dpred(sigma, dtype=dtype) - dobs\n",
    "    return 0.5 * np.linalg.norm(r)**2\n",
    "\n",
    "def Jtvec(sigma, v, dtype=\"ri\"):\n",
    "    f = 100.\n",
    "    mu = np.ones(mesh.nC)*mu_0 # magnetic permeability values for all cells\n",
    "    epsilon = np.ones(mesh.nC)*epsilon_0 # dielectric constant values for all cells\n",
    "    omega = 2*np.pi*f # Angular frequency (rad/s)\n",
    "    sigmahat = sigma # Assume sigmahat = sigma\n",
    "    # In reality ...\n",
    "    #         sigmahat = sigma + 1j*epsilon*omega # sigmahat = sigma + 1j*omega*epsilon\n",
    "    Div = mesh.faceDiv # Divergence matrix\n",
    "    mesh.setCellGradBC([['dirichlet', 'dirichlet']]) # Setup boundary conditions\n",
    "    Grad = mesh.cellGrad # Gradient matrix\n",
    "    B = mesh.cellGradBC  # a matrix for boundary conditions\n",
    "    Exbc = np.r_[0., 1.] # boundary values for Ex\n",
    "    Msighat = Utils.sdiag(sigmahat) \n",
    "    Mmu = Utils.sdiag(mesh.aveF2CC.T * mu) \n",
    "\n",
    "    tempUp = sp.hstack((Grad, 1j*omega*Mmu)) # Top row of A matrix\n",
    "    tempDw = sp.hstack((Msighat, Div)) # Bottom row of A matrix\n",
    "    A = sp.vstack((tempUp, tempDw)) # Full A matrix\n",
    "    rhs = np.r_[-B*Exbc, np.zeros(mesh.nC)] # Right-hand side   \n",
    "\n",
    "    Ainv = Solver(A) # Factorize A matrix\n",
    "    u = Ainv*rhs   # Solve A^-1 rhs = u\n",
    "    Ex = u[:mesh.nC] # Extract Ex from uution vector u\n",
    "    Hy = u[mesh.nC:mesh.nC+mesh.nN] # Extract Hy from solution vector u    \n",
    "    P0 = sp.coo_matrix(\n",
    "        (np.r_[1.], (np.r_[0], np.r_[len(u)-1])), shape=(1, len(u))\n",
    "             )\n",
    "    P0 = P0.tocsr()\n",
    "    Zxy = - 1./(P0*u)    \n",
    "    ATinv = Solver(A.T) # Factorize A matrix        \n",
    "    \n",
    "    if dtype == \"ri\":\n",
    "        PTvr = (P0.T*np.r_[v[0]]).astype(complex)\n",
    "        PTvi = P0.T*np.r_[v[1]]*-1j\n",
    "        dZrduT_v = Utils.sdiag((1./(u**2)))*PTvr\n",
    "        dZiduT_v = Utils.sdiag((1./(u**2)))*PTvi\n",
    "        \n",
    "        dAdsiguT = sp.hstack((Utils.spzeros(mesh.nC, mesh.nN), Utils.sdiag(Ex)))\n",
    "        \n",
    "        dZrdsigT_v = - (dAdsiguT*(ATinv*dZrduT_v)).real\n",
    "        dZidsigT_v = - (dAdsiguT*(ATinv*dZiduT_v)).real        \n",
    "        return dZrdsigT_v + dZidsigT_v\n",
    "    \n",
    "    elif dtype == \"rhopha\":\n",
    "        dZadZ = Zxy / abs(Zxy)\n",
    "        drhodZa = 2. * abs(Zxy) / (mu_0*omega)\n",
    "        drhodZ = (drhodZa * dZadZ)\n",
    "        drhodZT_v = drhodZ.conj() * np.r_[v[0]]        \n",
    "        drhodsigT_v = Utils.sdiag((1./(u**2)))*(P0.T*drhodZT_v)\n",
    "        dAdsiguT = sp.hstack((Utils.spzeros(mesh.nC, mesh.nN), Utils.sdiag(Ex)))\n",
    "        drhodsigT_v = - (dAdsiguT*(ATinv*drhodsigT_v)).real\n",
    "        \n",
    "        return drhodsigT_v"
   ]
  },
  {
   "cell_type": "code",
   "execution_count": 20,
   "metadata": {},
   "outputs": [
    {
     "name": "stdout",
     "output_type": "stream",
     "text": [
      "==================== checkDerivative ====================\n",
      "iter    h         |ft-f0|   |ft-f0-h*J0*dx|  Order\n",
      "---------------------------------------------------------\n",
      " 0   1.00e-01    3.773e-04     6.383e-04      nan\n",
      " 1   1.00e-02    9.181e-06     1.692e-05      1.577\n",
      " 2   1.00e-03    2.419e-06     1.914e-07      1.946\n",
      " 3   1.00e-04    2.591e-07     1.938e-09      1.995\n",
      " 4   1.00e-05    2.608e-08     1.940e-11      1.999\n",
      "========================= PASS! =========================\n",
      "You deserve a pat on the back!\n",
      "\n"
     ]
    },
    {
     "data": {
      "text/plain": [
       "True"
      ]
     },
     "execution_count": 20,
     "metadata": {},
     "output_type": "execute_result"
    }
   ],
   "source": [
    "sigma0 = sigma*3\n",
    "dobs_ri = dpred(sigma, dtype=\"ri\")\n",
    "r = dpred(sigma0, dtype=\"ri\") - dobs_ri \n",
    "\n",
    "Tests.checkDerivative(\n",
    "    lambda m: [misfit(m, dobs=dobs_ri), Jtvec(m, r)],\n",
    "    sigma0,\n",
    "    plotIt=False,\n",
    "    num=5\n",
    ")"
   ]
  },
  {
   "cell_type": "code",
   "execution_count": 21,
   "metadata": {},
   "outputs": [
    {
     "name": "stdout",
     "output_type": "stream",
     "text": [
      "==================== checkDerivative ====================\n",
      "iter    h         |ft-f0|   |ft-f0-h*J0*dx|  Order\n",
      "---------------------------------------------------------\n",
      " 0   1.00e-01    4.068e+02     1.244e+01      nan\n",
      " 1   1.00e-02    4.190e+01     2.143e-02      2.764\n",
      " 2   1.00e-03    4.192e+00     2.649e-04      1.908\n",
      "========================= PASS! =========================\n",
      "The test be workin!\n",
      "\n"
     ]
    },
    {
     "data": {
      "text/plain": [
       "True"
      ]
     },
     "execution_count": 21,
     "metadata": {},
     "output_type": "execute_result"
    }
   ],
   "source": [
    "sigma0 = sigma*1.5\n",
    "dobs_rhopha = dpred(sigma, dtype=\"rhopha\")\n",
    "r = dpred(sigma0, dtype=\"rhopha\") - dobs_rhopha \n",
    "\n",
    "Tests.checkDerivative(\n",
    "    lambda m: [misfit(m, dobs=dobs_rhopha, dtype=\"rhopha\"), Jtvec(m, r, dtype=\"rhopha\")],\n",
    "    sigma0,\n",
    "    plotIt=False,\n",
    "    num=3, \n",
    "    dx = sigma0*2\n",
    ")"
   ]
  },
  {
   "cell_type": "markdown",
   "metadata": {},
   "source": [
    "## Adjoint tests"
   ]
  },
  {
   "cell_type": "code",
   "execution_count": 22,
   "metadata": {},
   "outputs": [
    {
     "name": "stdout",
     "output_type": "stream",
     "text": [
      "('Adjoint Test', 4.4408920985006262e-16, True)\n"
     ]
    }
   ],
   "source": [
    "v = np.random.rand(mesh.nC)\n",
    "w = np.random.rand(dobs_ri.shape[0])\n",
    "wtJv = w.dot(Jvec(sigma0, v, dtype=\"ri\"))\n",
    "vtJtw = v.dot(Jtvec(sigma0, w, dtype=\"ri\"))\n",
    "passed = np.abs(wtJv - vtJtw) < 1e-10\n",
    "print('Adjoint Test', np.abs(wtJv - vtJtw), passed)"
   ]
  },
  {
   "cell_type": "code",
   "execution_count": 23,
   "metadata": {},
   "outputs": [
    {
     "name": "stdout",
     "output_type": "stream",
     "text": [
      "('Adjoint Test', 5.6843418860808015e-14, True)\n"
     ]
    }
   ],
   "source": [
    "v = np.random.rand(mesh.nC)\n",
    "w = np.random.rand(dobs_rhopha.shape[0])\n",
    "wtJv = w.dot(Jvec(sigma0, v, dtype=\"rhopha\"))\n",
    "vtJtw = v.dot(Jtvec(sigma0, w, dtype=\"rhopha\"))\n",
    "passed = np.abs(wtJv - vtJtw) < 1e-10\n",
    "print('Adjoint Test', np.abs(wtJv - vtJtw), passed)"
   ]
  },
  {
   "cell_type": "code",
   "execution_count": null,
   "metadata": {
    "collapsed": true
   },
   "outputs": [],
   "source": []
  }
 ],
 "metadata": {
  "anaconda-cloud": {},
  "kernelspec": {
   "display_name": "Python [default]",
   "language": "python",
   "name": "python2"
  },
  "language_info": {
   "codemirror_mode": {
    "name": "ipython",
    "version": 2
   },
   "file_extension": ".py",
   "mimetype": "text/x-python",
   "name": "python",
   "nbconvert_exporter": "python",
   "pygments_lexer": "ipython2",
   "version": "2.7.12"
  }
 },
 "nbformat": 4,
 "nbformat_minor": 2
}
