{
 "cells": [
  {
   "cell_type": "code",
   "execution_count": 2,
   "metadata": {
    "collapsed": true
   },
   "outputs": [],
   "source": [
    "# !pip install SimPEG"
   ]
  },
  {
   "cell_type": "code",
   "execution_count": 3,
   "metadata": {},
   "outputs": [
    {
     "name": "stdout",
     "output_type": "stream",
     "text": [
      "Populating the interactive namespace from numpy and matplotlib\n"
     ]
    }
   ],
   "source": [
    "import numpy as np\n",
    "import scipy.sparse as sp\n",
    "from SimPEG import Mesh, Utils, Solver\n",
    "from scipy.constants import mu_0, epsilon_0\n",
    "%pylab inline"
   ]
  },
  {
   "cell_type": "markdown",
   "metadata": {},
   "source": [
    "# Sensitivity computuation for 1D magnetotelluric (MT)  problem"
   ]
  },
  {
   "cell_type": "markdown",
   "metadata": {},
   "source": [
    "##  Purpose\n",
    "\n",
    "With [SimPEG's](http://simpeg.xyz) mesh class, we descretize sensitivity function for a 1D magnetotelluric problem. Rather than generating full sensitivity matrix, we compute forwrad (`Jvec`) and adjoint (`Jtvec`) functional that can evalaute matrix-vector product. When computing senstivity functions, we also consider different forms of data: a) real and imaginary parts of impedance and b) apparaent resistivity. There are some milestones to be accomplished:\n",
    "\n",
    "- Break apart senstivity function, $J_{\\sigma}$ into to parts then derive each of them (using chain rules):\n",
    "\n",
    "$$ \n",
    "J_{\\sigma} = \\frac{d P(u)}{d \\sigma} = \\frac{d P(u)}{d u} \\frac{d u}{d \\sigma}\n",
    "$$\n",
    "\n",
    "- Compute forward and adjoint sensitivity function: `Jvec` and `Jtvec`\n",
    "\n",
    "- Test `Jvec` and `Jtvec`: Order test and Adjoint test"
   ]
  },
  {
   "cell_type": "markdown",
   "metadata": {},
   "source": [
    "## Discretzation (forward simulation)\n",
    "\n",
    "We define physical properties at cell centers, and stagger the electric and magnetic fields\n",
    "\n",
    "- $\\sigma$, $\\mu$, $\\epsilon$ : cell centers\n",
    "- $E_x$: cell centers\n",
    "- $H_y$: faces\n",
    "\n",
    "<img src=\"./images/1DMT_discretize.png\" width=200px> \n",
    "\n",
    "and use a finite difference approach to define the operators, this gives us the discrete system of equations\n",
    "\n",
    "$$\n",
    "\\underbrace{\n",
    "    \\begin{bmatrix}\n",
    "        \\mathbf{Grad} & \\imath \\omega \\mathbf{M}^{f}_{\\mu} \\\\[0.3em]\n",
    "        \\mathbf{M}^{cc}_{\\hat{\\sigma}} & \\mathbf{Div}           \\\\[0.3em]\n",
    "    \\end{bmatrix}\n",
    "}_{\\mathbf{A}}\n",
    "\\underbrace{\n",
    "    \\begin{bmatrix}\n",
    "       \\mathbf{e_x} \\\\[0.3em]\n",
    "       \\mathbf{h_y} \\\\[0.3em]\n",
    "    \\end{bmatrix}\n",
    "}_{\\mathbf{u}}\n",
    "=\n",
    "\\underbrace{\n",
    "    \\begin{bmatrix}\n",
    "       - \\mathbf{B}\\mathbf{e_x}^{BC} \\\\[0.3em]\n",
    "       \\boldsymbol{0} \\\\[0.3em]\n",
    "    \\end{bmatrix}\n",
    "}_{\\mathbf{rhs}}\n",
    "$$\n",
    "\n",
    "with \n",
    "\n",
    "- $\\mathbf{e_x}$: Discrete $E_x$, on cell centers $[\\text{nC} \\times 1]$\n",
    "\n",
    "- $\\mathbf{h_y}$: Dicrete $H_x$, on cell faces $[(\\text{nC}+1) \\times 1]$\n",
    "\n",
    "- $ \\mathbf{Grad}$: Discrete gradient operator $[\\text{nC} \\times (\\text{nC}+1)]$\n",
    "\n",
    "- $ \\mathbf{Div}$: Discrete divergence operator $[(\\text{nC}+1) \\times \\text{nC}]$\n",
    "\n",
    "- $\\mathbf{M}^{f}_{\\boldsymbol{\\mu}} = \\mathbf{diag}(\\mathbf{Av^{cc2f}}  \\boldsymbol{\\mu})$ $[(\\text{nC}+1) \\times (\\text{nC}+1)]$\n",
    "\n",
    "- $\\mathbf{M}^{cc}_{\\boldsymbol{\\hat{\\sigma}}} = \\mathbf{diag}(\\boldsymbol{\\hat{\\sigma}})$ $[\\text{nC} \\times \\text{nC}]$\n",
    "\n",
    "- $\\mathbf{B} \\mathbf{e_x}^{BC}$ handles the boundary conditions"
   ]
  },
  {
   "cell_type": "markdown",
   "metadata": {},
   "source": [
    "## What is data?\n",
    "\n",
    "Measured data in general can be defined as:\n",
    "\n",
    "$$ \\mathbf{d} = P(\\mathbf{u}) $$\n",
    "\n",
    "where $P(\\cdot)$ is a evaluation functional which takes a solution vector $\\mathbf{u}$ ouputs data at a receiver location. \n",
    "We consdier two different type of data: \n",
    "\n",
    "- real and imaginary parts of the impedance ($Z_{xy}$)\n",
    "\n",
    "- apparaent resistivity and phase"
   ]
  },
  {
   "cell_type": "markdown",
   "metadata": {},
   "source": [
    "For the first case, we consider complex impedance ($Z_{xy}$) as our data, then $Z_{xy}$ can be evaluated from the solution vector $\\mathbf{u}$:\n",
    "\n",
    "$$ \\mathbf{d} = Z_{xy} = - \\mathbf{P}_{0}(1 / \\mathbf{u}) $$\n",
    "\n",
    "From complex-values $Z_{xy}$, we can compute real and imagniary part of the $Z_{xy}$ then the data can be defined as:\n",
    "\n",
    "$$\\mathbf{d} =  \\begin{bmatrix}\n",
    "       Re[Z_{xy}]  \\\\[0.3em]\n",
    "       Im[Z_{xy}]  \\\\[0.3em]\n",
    "     \\end{bmatrix}$$\n",
    "\n",
    "Similarly, for the second case the data can be evaluated from $Z_{xy}$. \n",
    "\n",
    "\n",
    "$$\\mathbf{d} =  \\begin{bmatrix}\n",
    "       \\rho_a \\\\[0.3em]\n",
    "       \\phi  \\\\[0.3em]\n",
    "     \\end{bmatrix}$$\n",
    "\n",
    "where \n",
    "\n",
    "$$ \\rho_a = \\frac{1}{\\mu_0\\omega} |Z_{xy}|^2 $$\n",
    "\n",
    "$$ \\phi = \\frac{180}{\\pi}tan^{-1}(\\frac{Im[Z_{xy}]}{Re[Z_{xy}]}) $$"
   ]
  },
  {
   "cell_type": "markdown",
   "metadata": {},
   "source": [
    "## Sensitivity of datum with regard to $\\sigma$:\n",
    "\n",
    "Sensitivity function shows how much data is changed due to changes in model paramters. In general this is an important information to understand and design a geophysical survey. Further, to find a reasonable model we could use a gradient-based inversion technique, and for this case sensitivity function provide a gradient direction to find a solution. \n",
    "\n",
    "Sensitivity function can be defined as \n",
    "\n",
    "$$ J_{\\sigma} = \\frac{d P(u)}{d \\sigma}$$"
   ]
  },
  {
   "cell_type": "markdown",
   "metadata": {},
   "source": [
    "To obtain above sensitivity function in discrete space, we differentiate \n",
    "\n",
    "$$\\mathbf{A}\\mathbf{u} = \\mathbf{rhs}$$\n",
    "\n",
    "w.r.t ${\\boldsymbol{\\sigma}}$, which yields \n",
    "\n",
    "$$ \\frac{d \\mathbf{A}}{d {\\boldsymbol{\\sigma}}}\\mathbf{u} +  \\mathbf{A} \\frac{d \\mathbf{u} }{d {\\boldsymbol{\\sigma}}}=  0 $$\n",
    "\n",
    "Rearranging and multiplyting $\\mathbf{A}^{-1}$ in both sides yields\n",
    "\n",
    "$$ \\frac{d \\mathbf{u} }{d {\\boldsymbol{\\sigma}}}=  -\\mathbf{A}^{-1}\\frac{d \\mathbf{A}}{d {\\boldsymbol{\\sigma}}}\\mathbf{u} $$\n",
    "\n",
    "Consideration evaluation, $\\mathbf{d} = P(\\mathbf{u})$ we obtain\n",
    "\n",
    "$$ \\mathbf{J}_{{\\boldsymbol{\\sigma}}}  = \n",
    "\\frac{\\partial P(\\mathbf{u})}{\\partial {\\mathbf{u}}}\\Big(\\frac{d \\mathbf{u} }{d {\\boldsymbol{\\sigma}}}\\Big) = \n",
    "-\\frac{\\partial P(\\mathbf{u})}{\\partial {\\mathbf{u}}} \\Big(\\mathbf{A}^{-1}\\frac{d \\mathbf{A}}{d {\\boldsymbol{\\sigma}}}\\mathbf{u}\\Big) $$"
   ]
  },
  {
   "cell_type": "markdown",
   "metadata": {},
   "source": [
    "Two derivatives need to be derived:\n",
    "\n",
    "$$\\frac{d \\mathbf{A}}{d \\boldsymbol{\\sigma}}\\mathbf{u}=?$$\n",
    "\n",
    "$$\\frac{\\partial P(\\mathbf{u})}{\\partial \\mathbf{u}}=?$$"
   ]
  },
  {
   "cell_type": "markdown",
   "metadata": {},
   "source": [
    "The first one is straight forward having in mind that we are taking derivative vector ($\\mathbf{A}\\mathbf{u}$) with vector ($\\boldsymbol{\\sigma}$) yielding matrix:\n",
    "\n",
    "$$ \n",
    "\\frac{d \\mathbf{A}}{d \\boldsymbol{\\sigma}}\\mathbf{u} =\n",
    "\\mathbf{diag}\\Big(\n",
    "\\begin{bmatrix}\n",
    "\\mathbf{0} & \\mathbf{0} \\\\[0.3em]\n",
    "\\mathbf{I} & \\mathbf{0}           \\\\[0.3em]\n",
    "\\end{bmatrix}\n",
    "\\begin{bmatrix}\n",
    "       \\mathbf{E}_x \\\\[0.3em]\n",
    "       \\mathbf{H}_y \\\\[0.3em]\n",
    "    \\end{bmatrix}\n",
    "\\Big)\n",
    "= \n",
    "\\mathbf{diag}\\Big(\n",
    "\\begin{bmatrix}\n",
    "    \\mathbf{0} \\\\[0.3em]\n",
    "       \\mathbf{E}_x \\\\[0.3em]\n",
    "    \\end{bmatrix}\n",
    "\\Big)\n",
    "$$"
   ]
  },
  {
   "cell_type": "markdown",
   "metadata": {},
   "source": [
    "For the other one we consider when the data is defined as real and imaginary parts of $Z_{xy} = -\\mathbf{P}_0\\frac{1}{\\mathbf{u}}$:\n",
    "\n",
    "Taking derivative of $Z_{xy}$ w.r.t. $\\mathbf{u}$ yields\n",
    "$$\n",
    "\\frac{\\partial Z_{\n",
    "xy}}{\\partial \\mathbf{u}}=\n",
    "\\mathbf{P}_0\\frac{1}{\\mathbf{u}^2}\n",
    "$$\n",
    "\n",
    "$$ \n",
    "\\frac{\\partial P(\\mathbf{u})}{\\partial \\mathbf{u}}=\n",
    "\\begin{bmatrix}\n",
    "   \\frac{\\partial Re[Z_{xy}]}{\\partial \\mathbf{u}}  \\\\[0.3em]\n",
    "   \\frac{\\partial Im[Z_{xy}]}{\\partial \\mathbf{u}}  \\\\[0.3em]\n",
    "\\end{bmatrix}  \n",
    "=\n",
    "\\begin{bmatrix}\n",
    "   Re[\\mathbf{P}_0\\frac{1}{\\mathbf{u}^2}]  \\\\[0.3em]\n",
    "   Im[\\mathbf{P}_0\\frac{1}{\\mathbf{u}^2}]  \\\\[0.3em]\n",
    "\\end{bmatrix}          \n",
    "$$\n"
   ]
  },
  {
   "cell_type": "markdown",
   "metadata": {},
   "source": [
    "Now we can form sensitivity matrix $\\mathbf{J}_{\\sigma}$ by combining above equations:\n",
    "\n",
    "$$ \\mathbf{J}_{{\\boldsymbol{\\sigma}}}  = \n",
    "-\\frac{\\partial P(\\mathbf{u})}{\\partial {\\mathbf{u}}} \\Big(\\mathbf{A}^{-1}\\frac{d \\mathbf{A}}{d {\\boldsymbol{\\sigma}}}\\mathbf{u}\\Big) $$"
   ]
  },
  {
   "cell_type": "markdown",
   "metadata": {},
   "source": [
    "In addition, data can be apparent resistivity and phase, and we need corresponding $\\frac{\\partial P(\\mathbf{u})}{\\partial \\mathbf{u}}$ for them.  We start with impedance in a polar form: \n",
    "\n",
    "$$Z_{xy} = |Z_{xy}|e^{\\imath \\phi}$$\n",
    "\n",
    "Taking log yields\n",
    "\n",
    "$$ log(Z_{xy}) = log(|Z_{xy}|) + \\imath \\phi$$\n",
    "\n",
    "By taking derivative w.r.t $Z_{xy}$:\n",
    "\n",
    "$$ \\frac{1}{Z_{xy}} =\\frac{1}{|Z_{xy}|} \\frac{\\partial |Z_{xy}|}{\\partial Z_{xy}} + \\imath \\frac{\\partial \\phi}{\\partial Z_{xy}}$$\n",
    "\n",
    "Substituting $ \\frac{\\partial |Z_{xy}|}{\\partial Z_{xy}} = \\frac{Z_{xy}^{\\\\*}}{|Z_{xy}|}$ yields\n",
    "\n",
    "$$ \\frac{\\partial \\phi}{\\partial Z_{xy}} = 0$$\n",
    "\n",
    "which is an interesting result. For an apparent resistivity ($\\rho_a = \\frac{|\\mathbf{Z}_{xy}^2|}{\\mu_0\\omega}$) we  obtain:\n",
    "\n",
    "$$ \n",
    "\\frac{\\partial \\rho_a}{\\partial Z_{xy}} = \\frac{\\partial \\rho_a}{\\partial |Z_{xy}|}\n",
    "\\frac{\\partial |Z_{xy}|}{\\partial Z_{xy}}=\n",
    "\\frac{2 |Z_{xy}|}{\\mu_0 \\omega}\n",
    "\\frac{Z_{xy}^{\\\\*}}{|Z_{xy}|} = \n",
    "\\frac{2 Z_{xy}^{\\\\*}}{\\mu_0 \\omega}\n",
    "$$\n"
   ]
  },
  {
   "cell_type": "markdown",
   "metadata": {},
   "source": [
    "## Computing sensitivity-vector product:\n",
    "\n",
    "For 1D MT problem, sensitivity matrix ($N\\times M$) can be small, hence generating sensitivity will not be a big deal. However, for instance any 3DEM problem, generating sensitivity matrix will require huge computatiion costs. To minimize that we only compute sensitivity-vector product. In forward case we compute:\n",
    "\n",
    "$$ \\mathbf{Jv} = \\mathbf{J}_{\\boldsymbol{\\sigma}} \\mathbf{v} $$\n"
   ]
  },
  {
   "cell_type": "code",
   "execution_count": 1,
   "metadata": {},
   "outputs": [
    {
     "ename": "NameError",
     "evalue": "name 'np' is not defined",
     "output_type": "error",
     "traceback": [
      "\u001b[0;31m---------------------------------------------------------------------------\u001b[0m",
      "\u001b[0;31mNameError\u001b[0m                                 Traceback (most recent call last)",
      "\u001b[0;32m<ipython-input-1-9d78568b805b>\u001b[0m in \u001b[0;36m<module>\u001b[0;34m()\u001b[0m\n\u001b[1;32m      1\u001b[0m \u001b[0;31m# This will be inputs\u001b[0m\u001b[0;34m\u001b[0m\u001b[0;34m\u001b[0m\u001b[0m\n\u001b[0;32m----> 2\u001b[0;31m \u001b[0mfrequency\u001b[0m \u001b[0;34m=\u001b[0m \u001b[0mnp\u001b[0m\u001b[0;34m.\u001b[0m\u001b[0mlogspace\u001b[0m\u001b[0;34m(\u001b[0m\u001b[0;34m-\u001b[0m\u001b[0;36m3\u001b[0m\u001b[0;34m,\u001b[0m \u001b[0;36m2\u001b[0m\u001b[0;34m,\u001b[0m \u001b[0;36m25\u001b[0m\u001b[0;34m)\u001b[0m\u001b[0;34m\u001b[0m\u001b[0m\n\u001b[0m\u001b[1;32m      3\u001b[0m \u001b[0mfmax\u001b[0m\u001b[0;34m,\u001b[0m \u001b[0mfmin\u001b[0m \u001b[0;34m=\u001b[0m \u001b[0mfrequency\u001b[0m\u001b[0;34m.\u001b[0m\u001b[0mmax\u001b[0m\u001b[0;34m(\u001b[0m\u001b[0;34m)\u001b[0m\u001b[0;34m,\u001b[0m \u001b[0mfrequency\u001b[0m\u001b[0;34m.\u001b[0m\u001b[0mmin\u001b[0m\u001b[0;34m(\u001b[0m\u001b[0;34m)\u001b[0m\u001b[0;34m\u001b[0m\u001b[0m\n\u001b[1;32m      4\u001b[0m \u001b[0mmax_depth_core\u001b[0m \u001b[0;34m=\u001b[0m \u001b[0;36m5000.\u001b[0m\u001b[0;34m\u001b[0m\u001b[0m\n\u001b[1;32m      5\u001b[0m \u001b[0mrho_half\u001b[0m \u001b[0;34m=\u001b[0m \u001b[0;36m100.\u001b[0m\u001b[0;34m\u001b[0m\u001b[0m\n",
      "\u001b[0;31mNameError\u001b[0m: name 'np' is not defined"
     ]
    }
   ],
   "source": [
    "# This will be inputs\n",
    "frequency = np.logspace(-3, 2, 25)\n",
    "fmax, fmin = frequency.max(), frequency.min()\n",
    "max_depth_core = 5000.\n",
    "rho_half = 100."
   ]
  },
  {
   "cell_type": "code",
   "execution_count": 4,
   "metadata": {},
   "outputs": [
    {
     "name": "stdout",
     "output_type": "stream",
     "text": [
      "Smallest cell size = 125 m\n",
      "Padding distance = 316227 m\n"
     ]
    }
   ],
   "source": [
    "print (\"Smallest cell size = %d m\") % (500*np.sqrt(rho_half/fmax) / 4.)\n",
    "print (\"Padding distance = %d m\") % (500*np.sqrt(rho_half/fmin) * 2)\n",
    "cs = 500*np.sqrt(rho_half/fmax) / 10.\n",
    "skindepth2 = 500*np.sqrt(100/fmin) * 2\n",
    "\n",
    "npad = 1\n",
    "blength = cs*1.3**(np.arange(npad)+1)\n",
    "while blength < skindepth2:\n",
    "    npad+=1\n",
    "    blength = (cs*1.3**(np.arange(npad)+1)).sum()\n",
    "\n",
    "ncz = int(max_depth_core / cs)\n",
    "hz = [(cs, npad, -1.3), (cs, ncz)]\n",
    "mesh = Mesh.TensorMesh([hz], x0='N')\n",
    "sigma = np.ones(mesh.nC) * 1./rho_half"
   ]
  },
  {
   "cell_type": "code",
   "execution_count": 9,
   "metadata": {
    "collapsed": true
   },
   "outputs": [],
   "source": [
    "def dpred(sigma, dtype=\"ri\"):\n",
    "    f = 100.\n",
    "    mu = np.ones(mesh.nC)*mu_0 # magnetic permeability values for all cells\n",
    "    epsilon = np.ones(mesh.nC)*epsilon_0 # dielectric constant values for all cells\n",
    "    omega = 2*np.pi*f # Angular frequency (rad/s)\n",
    "    sigmahat = sigma # Assume sigmahat = sigma\n",
    "    # In reality ...\n",
    "    #         sigmahat = sigma + 1j*epsilon*omega # sigmahat = sigma + 1j*omega*epsilon\n",
    "    Div = mesh.faceDiv # Divergence matrix\n",
    "    mesh.setCellGradBC([['dirichlet', 'dirichlet']]) # Setup boundary conditions\n",
    "    Grad = mesh.cellGrad # Gradient matrix\n",
    "    B = mesh.cellGradBC  # a matrix for boundary conditions\n",
    "    Exbc = np.r_[0., 1.] # boundary values for Ex\n",
    "    Msighat = Utils.sdiag(sigmahat) \n",
    "    Mmu = Utils.sdiag(mesh.aveCC2F * mu) \n",
    "\n",
    "    tempUp = sp.hstack((Grad, 1j*omega*Mmu)) # Top row of A matrix\n",
    "    tempDw = sp.hstack((Msighat, Div)) # Bottom row of A matrix\n",
    "    A = sp.vstack((tempUp, tempDw)) # Full A matrix\n",
    "    rhs = np.r_[-B*Exbc, np.zeros(mesh.nC)] # Right-hand side   \n",
    "\n",
    "    Ainv = Solver(A) # Factorize A matrix\n",
    "    u = Ainv*rhs   # Solve A^-1 rhs = u\n",
    "    Ex = u[:mesh.nC] # Extract Ex from uution vector u\n",
    "    Hy = u[mesh.nC:mesh.nC+mesh.nN] # Extract Hy from solution vector u    \n",
    "    P0 = sp.coo_matrix(\n",
    "        (np.r_[1.], (np.r_[0], np.r_[len(u)-1])), shape=(1, len(u))\n",
    "             )\n",
    "    P0 = P0.tocsr()\n",
    "    Zxy = - 1./(P0*u)\n",
    "    if dtype == \"ri\":\n",
    "        return np.r_[Zxy.real, Zxy.imag]\n",
    "    elif dtype == \"rhopha\":\n",
    "        rhoa = abs(Zxy)**2 / (mu_0*omega)\n",
    "        phase = np.rad2deg(np.arctan(Zxy.imag / Zxy.real))\n",
    "        return np.r_[rhoa, phase]\n",
    "\n",
    "def Jvec(sigma, v, dtype=\"ri\"):\n",
    "    f = 100.\n",
    "    mu = np.ones(mesh.nC)*mu_0 # magnetic permeability values for all cells\n",
    "    epsilon = np.ones(mesh.nC)*epsilon_0 # dielectric constant values for all cells\n",
    "    omega = 2*np.pi*f # Angular frequency (rad/s)\n",
    "    sigmahat = sigma # Assume sigmahat = sigma\n",
    "    # In reality ...\n",
    "    #         sigmahat = sigma + 1j*epsilon*omega # sigmahat = sigma + 1j*omega*epsilon\n",
    "    Div = mesh.faceDiv # Divergence matrix\n",
    "    mesh.setCellGradBC([['dirichlet', 'dirichlet']]) # Setup boundary conditions\n",
    "    Grad = mesh.cellGrad # Gradient matrix\n",
    "    B = mesh.cellGradBC  # a matrix for boundary conditions\n",
    "    Exbc = np.r_[0., 1.] # boundary values for Ex\n",
    "    Msighat = Utils.sdiag(sigmahat) \n",
    "    Mmu = Utils.sdiag(mesh.aveCC2F * mu) \n",
    "\n",
    "    tempUp = sp.hstack((Grad, 1j*omega*Mmu)) # Top row of A matrix\n",
    "    tempDw = sp.hstack((Msighat, Div)) # Bottom row of A matrix\n",
    "    A = sp.vstack((tempUp, tempDw)) # Full A matrix\n",
    "    rhs = np.r_[-B*Exbc, np.zeros(mesh.nC)] # Right-hand side   \n",
    "\n",
    "    Ainv = Solver(A) # Factorize A matrix\n",
    "    u = Ainv*rhs   # Solve A^-1 rhs = u\n",
    "    Ex = u[:mesh.nC] # Extract Ex from uution vector u\n",
    "    Hy = u[mesh.nC:mesh.nC+mesh.nN] # Extract Hy from solution vector u    \n",
    "    P0 = sp.coo_matrix(\n",
    "        (np.r_[1.], (np.r_[0], np.r_[len(u)-1])), shape=(1, len(u))\n",
    "             )\n",
    "    P0 = P0.tocsr()\n",
    "    Zxy = - 1./(P0*u)\n",
    "\n",
    "    dAdsig_u_v = np.r_[np.zeros_like(Hy), Utils.sdiag(Ex)*v]\n",
    "    dudsig_v = - (Ainv * (dAdsig_u_v))\n",
    "    dZdsig_v = P0 * (Utils.sdiag(1./(u**2)) * dudsig_v)\n",
    "    if dtype == \"ri\":\n",
    "        dZrdsig_v = dZdsig_v.real\n",
    "        dZidsig_v = dZdsig_v.imag\n",
    "        return np.r_[dZrdsig_v, dZidsig_v]\n",
    "    elif dtype == \"rhopha\":\n",
    "        dZadZ = Zxy.conjugate() / abs(Zxy)\n",
    "        drhodZa = 2. * abs(Zxy) / (mu_0*omega)\n",
    "        drhodZ = drhodZa * dZadZ\n",
    "        drhodsig_v = (drhodZ * dZdsig_v).real\n",
    "#         dphadZ = 0.\n",
    "#         dphadsig_v = (dphadZ * dZdsig_v).real\n",
    "        return np.r_[drhodsig_v, 0.]"
   ]
  },
  {
   "cell_type": "markdown",
   "metadata": {},
   "source": [
    "### Order test: Jvec"
   ]
  },
  {
   "cell_type": "code",
   "execution_count": 10,
   "metadata": {},
   "outputs": [
    {
     "name": "stdout",
     "output_type": "stream",
     "text": [
      "==================== checkDerivative ====================\n",
      "iter    h         |ft-f0|   |ft-f0-h*J0*dx|  Order\n",
      "---------------------------------------------------------\n",
      " 0   1.00e-01    3.455e-02     7.603e-03      nan\n",
      " 1   1.00e-02    4.122e-03     9.253e-05      1.915\n",
      " 2   1.00e-03    4.205e-04     9.460e-07      1.990\n",
      "========================= PASS! =========================\n",
      "You are awesome.\n",
      "\n"
     ]
    },
    {
     "data": {
      "text/plain": [
       "True"
      ]
     },
     "execution_count": 10,
     "metadata": {},
     "output_type": "execute_result"
    }
   ],
   "source": [
    "from SimPEG import Tests\n",
    "def derChk(m):\n",
    "    return [dpred(m, dtype=\"ri\"), lambda mx: Jvec(m, mx, dtype=\"ri\")]\n",
    "Tests.checkDerivative(derChk, sigma, plotIt=False, num=3, eps=1e-20, dx=sigma*3)"
   ]
  },
  {
   "cell_type": "code",
   "execution_count": 11,
   "metadata": {},
   "outputs": [
    {
     "name": "stdout",
     "output_type": "stream",
     "text": [
      "==================== checkDerivative ====================\n",
      "iter    h         |ft-f0|   |ft-f0-h*J0*dx|  Order\n",
      "---------------------------------------------------------\n",
      " 0   1.00e-01    2.308e+01     6.923e+00      nan\n",
      " 1   1.00e-02    2.913e+00     8.748e-02      1.898\n",
      " 2   1.00e-03    2.991e-01     9.925e-04      1.945\n",
      "========================= PASS! =========================\n",
      "That was easy!\n",
      "\n"
     ]
    },
    {
     "data": {
      "text/plain": [
       "True"
      ]
     },
     "execution_count": 11,
     "metadata": {},
     "output_type": "execute_result"
    }
   ],
   "source": [
    "from SimPEG import Tests\n",
    "def derChk(m):\n",
    "    return [dpred(m, dtype=\"rhopha\"), lambda mx: Jvec(m, mx, dtype=\"rhopha\")]\n",
    "Tests.checkDerivative(derChk, sigma, plotIt=False, num=3, eps=1e-20, dx=sigma*3)"
   ]
  },
  {
   "cell_type": "markdown",
   "metadata": {
    "collapsed": true
   },
   "source": [
    "## Computing Jtvec\n",
    "\n",
    "Similarly, in adjoint case, we compute\n",
    "\n",
    "$$ \\mathbf{JTv} = \\mathbf{J}_{\\boldsymbol{\\sigma}}^{T} \\mathbf{v} $$\n",
    "\n",
    "Computing $\\mathbf{Jv}$ and $\\mathbf{JTv}$ are straight forward from above derivation. \n",
    "\n",
    "$$ \\mathbf{J}_{{\\boldsymbol{\\sigma}}}^T \\mathbf{v} \n",
    "=  - (\\frac{d \\mathbf{A}}{d {\\boldsymbol{\\sigma}}}\\mathbf{u} )^T\n",
    "(\\mathbf{A}^{T})^{-1} \\frac{\\partial P(\\mathbf{u})}{\\partial {\\mathbf{u}}}^T \\mathbf{v} $$"
   ]
  },
  {
   "cell_type": "code",
   "execution_count": 17,
   "metadata": {
    "collapsed": true
   },
   "outputs": [],
   "source": [
    "def misfit(sigma, dtype=\"ri\", dobs=None):\n",
    "    r = dpred(sigma, dtype=dtype) - dobs\n",
    "    return 0.5 * np.linalg.norm(r)**2\n",
    "\n",
    "def Jtvec(sigma, v, dtype=\"ri\"):\n",
    "    f = 100.\n",
    "    mu = np.ones(mesh.nC)*mu_0 # magnetic permeability values for all cells\n",
    "    epsilon = np.ones(mesh.nC)*epsilon_0 # dielectric constant values for all cells\n",
    "    omega = 2*np.pi*f # Angular frequency (rad/s)\n",
    "    sigmahat = sigma # Assume sigmahat = sigma\n",
    "    # In reality ...\n",
    "    #         sigmahat = sigma + 1j*epsilon*omega # sigmahat = sigma + 1j*omega*epsilon\n",
    "    Div = mesh.faceDiv # Divergence matrix\n",
    "    mesh.setCellGradBC([['dirichlet', 'dirichlet']]) # Setup boundary conditions\n",
    "    Grad = mesh.cellGrad # Gradient matrix\n",
    "    B = mesh.cellGradBC  # a matrix for boundary conditions\n",
    "    Exbc = np.r_[0., 1.] # boundary values for Ex\n",
    "    Msighat = Utils.sdiag(sigmahat) \n",
    "    Mmu = Utils.sdiag(mesh.aveCC2F * mu) \n",
    "\n",
    "    tempUp = sp.hstack((Grad, 1j*omega*Mmu)) # Top row of A matrix\n",
    "    tempDw = sp.hstack((Msighat, Div)) # Bottom row of A matrix\n",
    "    A = sp.vstack((tempUp, tempDw)) # Full A matrix\n",
    "    rhs = np.r_[-B*Exbc, np.zeros(mesh.nC)] # Right-hand side   \n",
    "\n",
    "    Ainv = Solver(A) # Factorize A matrix\n",
    "    u = Ainv*rhs   # Solve A^-1 rhs = u\n",
    "    Ex = u[:mesh.nC] # Extract Ex from uution vector u\n",
    "    Hy = u[mesh.nC:mesh.nC+mesh.nN] # Extract Hy from solution vector u    \n",
    "    P0 = sp.coo_matrix(\n",
    "        (np.r_[1.], (np.r_[0], np.r_[len(u)-1])), shape=(1, len(u))\n",
    "             )\n",
    "    P0 = P0.tocsr()\n",
    "    Zxy = - 1./(P0*u)    \n",
    "    ATinv = Solver(A.T) # Factorize A matrix        \n",
    "    \n",
    "    if dtype == \"ri\":\n",
    "        PTvr = (P0.T*np.r_[v[0]]).astype(complex)\n",
    "        PTvi = P0.T*np.r_[v[1]]*-1j\n",
    "        dZrduT_v = Utils.sdiag((1./(u**2)))*PTvr\n",
    "        dZiduT_v = Utils.sdiag((1./(u**2)))*PTvi\n",
    "        \n",
    "        dAdsiguT = sp.hstack((Utils.spzeros(mesh.nC, mesh.nN), Utils.sdiag(Ex)))\n",
    "        \n",
    "        dZrdsigT_v = - (dAdsiguT*(ATinv*dZrduT_v)).real\n",
    "        dZidsigT_v = - (dAdsiguT*(ATinv*dZiduT_v)).real        \n",
    "        return dZrdsigT_v + dZidsigT_v\n",
    "    \n",
    "    elif dtype == \"rhopha\":\n",
    "        dZadZ = Zxy / abs(Zxy)\n",
    "        drhodZa = 2. * abs(Zxy) / (mu_0*omega)\n",
    "        drhodZ = (drhodZa * dZadZ)\n",
    "        drhodZT_v = drhodZ.conj() * np.r_[v[0]]        \n",
    "        drhodsigT_v = Utils.sdiag((1./(u**2)))*(P0.T*drhodZT_v)\n",
    "        dAdsiguT = sp.hstack((Utils.spzeros(mesh.nC, mesh.nN), Utils.sdiag(Ex)))\n",
    "        drhodsigT_v = - (dAdsiguT*(ATinv*drhodsigT_v)).real\n",
    "        \n",
    "        return drhodsigT_v"
   ]
  },
  {
   "cell_type": "code",
   "execution_count": 18,
   "metadata": {},
   "outputs": [
    {
     "name": "stdout",
     "output_type": "stream",
     "text": [
      "==================== checkDerivative ====================\n",
      "iter    h         |ft-f0|   |ft-f0-h*J0*dx|  Order\n",
      "---------------------------------------------------------\n",
      " 0   1.00e-01    4.006e-03     8.689e-03      nan\n",
      " 1   1.00e-02    5.141e-04     4.573e-05      2.279\n",
      " 2   1.00e-03    4.725e-05     4.115e-07      2.046\n",
      " 3   1.00e-04    4.687e-06     4.075e-09      2.004\n",
      " 4   1.00e-05    4.684e-07     4.071e-11      2.000\n",
      "========================= PASS! =========================\n",
      "Go Test Go!\n",
      "\n"
     ]
    },
    {
     "data": {
      "text/plain": [
       "True"
      ]
     },
     "execution_count": 18,
     "metadata": {},
     "output_type": "execute_result"
    }
   ],
   "source": [
    "sigma0 = sigma*3\n",
    "dobs_ri = dpred(sigma, dtype=\"ri\")\n",
    "r = dpred(sigma0, dtype=\"ri\") - dobs_ri \n",
    "\n",
    "Tests.checkDerivative(\n",
    "    lambda m: [misfit(m, dobs=dobs_ri), Jtvec(m, r)],\n",
    "    sigma0,\n",
    "    plotIt=False,\n",
    "    num=5\n",
    ")"
   ]
  },
  {
   "cell_type": "code",
   "execution_count": 19,
   "metadata": {},
   "outputs": [
    {
     "name": "stdout",
     "output_type": "stream",
     "text": [
      "==================== checkDerivative ====================\n",
      "iter    h         |ft-f0|   |ft-f0-h*J0*dx|  Order\n",
      "---------------------------------------------------------\n",
      " 0   1.00e-01    4.321e+02     1.234e+01      nan\n",
      " 1   1.00e-02    4.443e+01     1.681e-02      2.866\n",
      " 2   1.00e-03    4.444e+00     1.204e-05      3.145\n",
      "========================= PASS! =========================\n",
      "That was easy!\n",
      "\n"
     ]
    },
    {
     "data": {
      "text/plain": [
       "True"
      ]
     },
     "execution_count": 19,
     "metadata": {},
     "output_type": "execute_result"
    }
   ],
   "source": [
    "sigma0 = sigma*1.5\n",
    "dobs_rhopha = dpred(sigma, dtype=\"rhopha\")\n",
    "r = dpred(sigma0, dtype=\"rhopha\") - dobs_rhopha \n",
    "\n",
    "Tests.checkDerivative(\n",
    "    lambda m: [misfit(m, dobs=dobs_rhopha, dtype=\"rhopha\"), Jtvec(m, r, dtype=\"rhopha\")],\n",
    "    sigma0,\n",
    "    plotIt=False,\n",
    "    num=3, \n",
    "    dx = sigma0*2\n",
    ")"
   ]
  },
  {
   "cell_type": "markdown",
   "metadata": {},
   "source": [
    "## Adjoint tests"
   ]
  },
  {
   "cell_type": "code",
   "execution_count": 20,
   "metadata": {},
   "outputs": [
    {
     "name": "stdout",
     "output_type": "stream",
     "text": [
      "('Adjoint Test', 4.4408920985006262e-16, True)\n"
     ]
    }
   ],
   "source": [
    "v = np.random.rand(mesh.nC)\n",
    "w = np.random.rand(dobs_ri.shape[0])\n",
    "wtJv = w.dot(Jvec(sigma0, v, dtype=\"ri\"))\n",
    "vtJtw = v.dot(Jtvec(sigma0, w, dtype=\"ri\"))\n",
    "passed = np.abs(wtJv - vtJtw) < 1e-10\n",
    "print('Adjoint Test', np.abs(wtJv - vtJtw), passed)"
   ]
  },
  {
   "cell_type": "code",
   "execution_count": 21,
   "metadata": {},
   "outputs": [
    {
     "name": "stdout",
     "output_type": "stream",
     "text": [
      "('Adjoint Test', 2.2737367544323206e-13, True)\n"
     ]
    }
   ],
   "source": [
    "v = np.random.rand(mesh.nC)\n",
    "w = np.random.rand(dobs_rhopha.shape[0])\n",
    "wtJv = w.dot(Jvec(sigma0, v, dtype=\"rhopha\"))\n",
    "vtJtw = v.dot(Jtvec(sigma0, w, dtype=\"rhopha\"))\n",
    "passed = np.abs(wtJv - vtJtw) < 1e-10\n",
    "print('Adjoint Test', np.abs(wtJv - vtJtw), passed)"
   ]
  },
  {
   "cell_type": "code",
   "execution_count": null,
   "metadata": {
    "collapsed": true
   },
   "outputs": [],
   "source": []
  },
  {
   "cell_type": "code",
   "execution_count": null,
   "metadata": {
    "collapsed": true
   },
   "outputs": [],
   "source": []
  }
 ],
 "metadata": {
  "anaconda-cloud": {},
  "kernelspec": {
   "display_name": "Python [default]",
   "language": "python",
   "name": "python2"
  },
  "language_info": {
   "codemirror_mode": {
    "name": "ipython",
    "version": 2
   },
   "file_extension": ".py",
   "mimetype": "text/x-python",
   "name": "python",
   "nbconvert_exporter": "python",
   "pygments_lexer": "ipython2",
   "version": "2.7.13"
  }
 },
 "nbformat": 4,
 "nbformat_minor": 2
}
